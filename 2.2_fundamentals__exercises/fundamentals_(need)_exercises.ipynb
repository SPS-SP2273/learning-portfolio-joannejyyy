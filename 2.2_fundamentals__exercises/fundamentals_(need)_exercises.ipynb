{
 "cells": [
  {
   "attachments": {},
   "cell_type": "markdown",
   "id": "123456",
   "metadata": {},
   "source": [
    "<div style=\"text-align:left;font-size:2em\"><span style=\"font-weight:bolder;font-size:1.25em\">SP2273 | Learning Portfolio</span><br><br><span style=\"font-weight:bold;color:darkred\">Fundamentals (Need) Exercises</span></div>"
   ]
  },
  {
   "cell_type": "markdown",
   "id": "0f0655ae-829c-46db-9250-c334c62e440c",
   "metadata": {},
   "source": [
    "# 1 Recall"
   ]
  },
  {
   "cell_type": "markdown",
   "id": "5b1d5c0b-2c8f-4628-8925-3c166d13585c",
   "metadata": {},
   "source": [
    "1. print ('') for functions\n",
    "2. #comments / heading for markdown\n",
    "3. == for 'is it equal to?'\n",
    "4. if, elif, else\n",
    "5. packages like math and numpy\n",
    "6. *spaces and tabs*\n",
    "7. *age and \"age\", the latter is the english word*\n",
    "8. *() for function and math, [] for list of data, {} for things in a dictionary*\n",
    "9. *dot (.) is used for ownership\n",
    "\n",
    "   \n"
   ]
  },
  {
   "cell_type": "markdown",
   "id": "e8f27508-46f4-49cd-8b4b-f5f6dbaa6e46",
   "metadata": {},
   "source": [
    "# 2. Debug "
   ]
  },
  {
   "cell_type": "code",
   "execution_count": 9,
   "id": "8a3f1159-9a2f-40fc-90ef-d955f3253e45",
   "metadata": {},
   "outputs": [
    {
     "name": "stdout",
     "output_type": "stream",
     "text": [
      "3 4 4.69041575982343\n"
     ]
    }
   ],
   "source": [
    "x, y = 3, 4\n",
    "import math as math\n",
    "z = math.sqrt(x*2 + y**2)\n",
    "print(x, y, z)"
   ]
  },
  {
   "cell_type": "markdown",
   "id": "c6b4feed-ab4e-46cc-b11d-df203d87550d",
   "metadata": {},
   "source": [
    "# 3. In your own words"
   ]
  },
  {
   "cell_type": "markdown",
   "id": "2493998f-0c6e-4f52-b300-6b6a6ed6e64a",
   "metadata": {},
   "source": [
    "1. Function: Usually displayed as print() for python to perform an action.\n",
    "2. Arguments: The content in the ().\n",
    "3. Comments: Using # in code to input texts that are not part of the code and can be used to explain a code.\n",
    "4. Indentations: Using the tab key to make indents that make the text easier to read.\n",
    "5. Packages: Extentions that can be installed to enhance experience (eg. NUMPY).\n",
    "6. .\t: Dot is used to indicate ownership.\n",
    "7. :\t: Colons are used to indicate a new line of code.\n",
    "8. []\t: Square brackets are for storing lists.\n",
    "9. [[],[]]\t: A list that contains 2 elements.\n",
    "10. {} : Curvy brackets for storing things."
   ]
  },
  {
   "cell_type": "markdown",
   "id": "2462fbd9-13b4-41ed-a72c-739b4f77de76",
   "metadata": {},
   "source": [
    "# 4. More than one way to divide"
   ]
  },
  {
   "cell_type": "code",
   "execution_count": 10,
   "id": "d9d68fff-e332-474d-82b8-3e2b9b11b166",
   "metadata": {},
   "outputs": [
    {
     "data": {
      "text/plain": [
       "2.5"
      ]
     },
     "execution_count": 10,
     "metadata": {},
     "output_type": "execute_result"
    }
   ],
   "source": [
    "5/2           # Divide the first number by the second number exactly"
   ]
  },
  {
   "cell_type": "code",
   "execution_count": 11,
   "id": "15723f45-2427-42b5-8c90-3edc1472b484",
   "metadata": {},
   "outputs": [
    {
     "data": {
      "text/plain": [
       "2"
      ]
     },
     "execution_count": 11,
     "metadata": {},
     "output_type": "execute_result"
    }
   ],
   "source": [
    "5//2          # Produces only the integer portion of the answer"
   ]
  },
  {
   "cell_type": "code",
   "execution_count": 13,
   "id": "dc5576cb-15aa-474d-ba14-468c9a2053d2",
   "metadata": {},
   "outputs": [
    {
     "data": {
      "text/plain": [
       "0"
      ]
     },
     "execution_count": 13,
     "metadata": {},
     "output_type": "execute_result"
    }
   ],
   "source": [
    "5//6"
   ]
  },
  {
   "cell_type": "code",
   "execution_count": 15,
   "id": "28ad2cfe-51d9-4fb2-8c16-ddaae1dae66b",
   "metadata": {},
   "outputs": [
    {
     "data": {
      "text/plain": [
       "1"
      ]
     },
     "execution_count": 15,
     "metadata": {},
     "output_type": "execute_result"
    }
   ],
   "source": [
    "5//4"
   ]
  },
  {
   "cell_type": "code",
   "execution_count": 12,
   "id": "c8b5aafb-1ab3-4c74-a4cd-c64624973e0d",
   "metadata": {},
   "outputs": [
    {
     "data": {
      "text/plain": [
       "1"
      ]
     },
     "execution_count": 12,
     "metadata": {},
     "output_type": "execute_result"
    }
   ],
   "source": [
    "5%2           # The remainder of a proper division. 5 divide 1/5 = 5/1, so remainder = 0\n",
    "              # 5 divide 2 = 2R1, 5 divide 3 = 1R2, 5 divide 4 = 1R1"
   ]
  },
  {
   "cell_type": "code",
   "execution_count": 16,
   "id": "99e38a6e-a594-4fe8-b576-e036692e6af3",
   "metadata": {},
   "outputs": [
    {
     "data": {
      "text/plain": [
       "0"
      ]
     },
     "execution_count": 16,
     "metadata": {},
     "output_type": "execute_result"
    }
   ],
   "source": [
    "5%1"
   ]
  },
  {
   "cell_type": "code",
   "execution_count": 18,
   "id": "46b0d60f-18ed-4a2d-891e-aa1aea1b158a",
   "metadata": {},
   "outputs": [
    {
     "data": {
      "text/plain": [
       "2"
      ]
     },
     "execution_count": 18,
     "metadata": {},
     "output_type": "execute_result"
    }
   ],
   "source": [
    "5%3"
   ]
  },
  {
   "cell_type": "code",
   "execution_count": 19,
   "id": "91066c91-a7bf-4f45-8847-f3a970bed408",
   "metadata": {},
   "outputs": [
    {
     "data": {
      "text/plain": [
       "1"
      ]
     },
     "execution_count": 19,
     "metadata": {},
     "output_type": "execute_result"
    }
   ],
   "source": [
    "5%4"
   ]
  },
  {
   "cell_type": "code",
   "execution_count": 20,
   "id": "c187afdc-341c-4673-9d4d-e11e8b0da49f",
   "metadata": {},
   "outputs": [
    {
     "data": {
      "text/plain": [
       "0"
      ]
     },
     "execution_count": 20,
     "metadata": {},
     "output_type": "execute_result"
    }
   ],
   "source": [
    "5%5"
   ]
  }
 ],
 "metadata": {
  "kernelspec": {
   "display_name": "Python 3 (ipykernel)",
   "language": "python",
   "name": "python3"
  },
  "language_info": {
   "codemirror_mode": {
    "name": "ipython",
    "version": 3
   },
   "file_extension": ".py",
   "mimetype": "text/x-python",
   "name": "python",
   "nbconvert_exporter": "python",
   "pygments_lexer": "ipython3",
   "version": "3.13.7"
  },
  "toc": {
   "base_numbering": 1,
   "nav_menu": {},
   "number_sections": true,
   "sideBar": true,
   "skip_h1_title": false,
   "title_cell": "Table of Contents",
   "title_sidebar": "Contents",
   "toc_cell": false,
   "toc_position": {},
   "toc_section_display": true,
   "toc_window_display": false
  },
  "vscode": {
   "interpreter": {
    "hash": "31f2aee4e71d21fbe5cf8b01ff0e069b9275f58929596ceb00d14d90e3e16cd6"
   }
  }
 },
 "nbformat": 4,
 "nbformat_minor": 5
}
