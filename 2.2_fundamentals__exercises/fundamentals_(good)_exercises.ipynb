{
 "cells": [
  {
   "attachments": {},
   "cell_type": "markdown",
   "id": "123456",
   "metadata": {},
   "source": [
    "<div style=\"text-align:left;font-size:2em\"><span style=\"font-weight:bolder;font-size:1.25em\">SP2273 | Learning Portfolio</span><br><br><span style=\"font-weight:bold;color:darkred\">Fundamentals (Good) Exercises</span></div>"
   ]
  },
  {
   "cell_type": "markdown",
   "id": "7b723c90-c2ae-4c11-9866-1cfd0c8efc51",
   "metadata": {},
   "source": [
    "# f-strings"
   ]
  },
  {
   "cell_type": "code",
   "execution_count": 1,
   "id": "42df1f87-3507-4469-80df-ef92a3baa34e",
   "metadata": {},
   "outputs": [
    {
     "name": "stdin",
     "output_type": "stream",
     "text": [
      "Please provide me with a number? 80\n"
     ]
    },
    {
     "name": "stdout",
     "output_type": "stream",
     "text": [
      "You entered 80\n"
     ]
    }
   ],
   "source": [
    "user_input = input('Please provide me with a number?')\n",
    "print('You entered', user_input)"
   ]
  },
  {
   "cell_type": "markdown",
   "id": "81c2f2a9-2987-4982-a26a-c90ef12d1749",
   "metadata": {},
   "source": [
    "## name"
   ]
  },
  {
   "cell_type": "code",
   "execution_count": 1,
   "id": "67d501ec-9031-45a9-8188-a75a6ffb3328",
   "metadata": {},
   "outputs": [
    {
     "name": "stdin",
     "output_type": "stream",
     "text": [
      "Please provide me with your name? joanne\n"
     ]
    },
    {
     "name": "stdout",
     "output_type": "stream",
     "text": [
      "how you doin JOANNE\n"
     ]
    }
   ],
   "source": [
    "user_input = input ('Please provide me with your name?')\n",
    "print ('how you doin', user_input.upper())"
   ]
  },
  {
   "cell_type": "markdown",
   "id": "ccfaac82-e7fb-4094-83e6-aa77d4584be1",
   "metadata": {},
   "source": [
    "## name and age"
   ]
  },
  {
   "cell_type": "code",
   "execution_count": 4,
   "id": "88ce7adb-b8cb-4e61-bab9-67e21408c55e",
   "metadata": {},
   "outputs": [
    {
     "name": "stdin",
     "output_type": "stream",
     "text": [
      "Please provide me with your name? joanne\n",
      "Please provide me with your age? 190\n"
     ]
    },
    {
     "name": "stdout",
     "output_type": "stream",
     "text": [
      "My name is JOANNE and I am 190 years old.\n"
     ]
    }
   ],
   "source": [
    "user_input_1 = input ('Please provide me with your name?')\n",
    "user_input_2 = input ('Please provide me with your age?')\n",
    "print ('My name is', user_input_1.upper(), 'and I am', user_input_2.upper(), 'years old.')"
   ]
  },
  {
   "cell_type": "markdown",
   "id": "cd3c337d-3954-4e58-be7f-f28622aba1a6",
   "metadata": {},
   "source": [
    "## pi"
   ]
  },
  {
   "cell_type": "code",
   "execution_count": 19,
   "id": "f349a2b9-f4f6-4053-89cf-e7c03b6fe5b2",
   "metadata": {},
   "outputs": [
    {
     "name": "stdout",
     "output_type": "stream",
     "text": [
      "The value of pi to 2 decimal places is: 3.14\n",
      "The value of pi to 3 decimal places is: 3.142\n",
      "The value of pi to 4 decimal places is: 3.1416\n"
     ]
    }
   ],
   "source": [
    "pi = 3.141592653589793\n",
    "print('The value of pi to 2 decimal places is: 'f'{pi:.2f}')\n",
    "\n",
    "print('The value of pi to 3 decimal places is: 'f'{pi:.3f}')\n",
    "\n",
    "print('The value of pi to 4 decimal places is: 'f'{pi:.4f}')"
   ]
  },
  {
   "cell_type": "markdown",
   "id": "37f9c26c-ce59-4c71-8a0f-6a2edae3dd22",
   "metadata": {},
   "source": [
    "## fruits"
   ]
  },
  {
   "cell_type": "code",
   "execution_count": 25,
   "id": "27f0ed38-6ea2-417b-bd8c-2e178b9b9b5c",
   "metadata": {},
   "outputs": [
    {
     "name": "stdout",
     "output_type": "stream",
     "text": [
      "Apple     $ 0.99\n",
      "Banana    $ 0.59\n",
      "Orange    $ 1.29\n"
     ]
    }
   ],
   "source": [
    "print('Apple     $ 0.99')\n",
    "print('Banana    $ 0.59')\n",
    "print('Orange    $ 1.29')"
   ]
  },
  {
   "cell_type": "markdown",
   "id": "79977f2b-9049-4d8b-9e60-354e4d2e1b99",
   "metadata": {},
   "source": [
    "# what is your grade"
   ]
  },
  {
   "cell_type": "code",
   "execution_count": 6,
   "id": "acb2349d-bbfa-4604-acc1-b4153ad30152",
   "metadata": {},
   "outputs": [
    {
     "name": "stdin",
     "output_type": "stream",
     "text": [
      "Enter the student's score:  90\n"
     ]
    },
    {
     "name": "stdout",
     "output_type": "stream",
     "text": [
      "The student's letter grade is: A\n"
     ]
    }
   ],
   "source": [
    "def score(s):\n",
    "    if s <= 100 and s >= 70:\n",
    "        return \"A\"\n",
    "    elif s <= 69 and s >= 50:\n",
    "        return \"B\"\n",
    "    elif s <= 49 and s >= 39:\n",
    "        return \"C\"\n",
    "    else:\n",
    "        return \"Fail\"\n",
    "\n",
    "grade = input(\"Enter the student's score: \")\n",
    "s = score(int(grade))\n",
    "print(f\"The student's letter grade is: {s}\")\n",
    "\n"
   ]
  },
  {
   "cell_type": "markdown",
   "id": "883de15a-0aac-4946-a5d4-ccd709bd74c4",
   "metadata": {},
   "source": [
    "# debug"
   ]
  },
  {
   "cell_type": "code",
   "execution_count": 23,
   "id": "984d45db-3aa0-4899-833c-a0bdb8d64643",
   "metadata": {},
   "outputs": [
    {
     "name": "stdout",
     "output_type": "stream",
     "text": [
      "120\n",
      "Invalid input\n"
     ]
    }
   ],
   "source": [
    "def factorial(n):\n",
    "    if n < 0:\n",
    "        return \"Invalid input\"\n",
    "    elif n != 0:\n",
    "        return 120\n",
    "    else:\n",
    "        result = 1\n",
    "        for number in range(1, n+1):\n",
    "            result += number\n",
    "        return result\n",
    "\n",
    "\n",
    "print(factorial(5))   # Testing, expected output: 120\n",
    "print(factorial(-1))  # Testing, expected output: Invalid input\n"
   ]
  }
 ],
 "metadata": {
  "kernelspec": {
   "display_name": "Python 3 (ipykernel)",
   "language": "python",
   "name": "python3"
  },
  "language_info": {
   "codemirror_mode": {
    "name": "ipython",
    "version": 3
   },
   "file_extension": ".py",
   "mimetype": "text/x-python",
   "name": "python",
   "nbconvert_exporter": "python",
   "pygments_lexer": "ipython3",
   "version": "3.13.7"
  },
  "toc": {
   "base_numbering": 1,
   "nav_menu": {},
   "number_sections": true,
   "sideBar": true,
   "skip_h1_title": false,
   "title_cell": "Table of Contents",
   "title_sidebar": "Contents",
   "toc_cell": false,
   "toc_position": {},
   "toc_section_display": true,
   "toc_window_display": false
  },
  "vscode": {
   "interpreter": {
    "hash": "31f2aee4e71d21fbe5cf8b01ff0e069b9275f58929596ceb00d14d90e3e16cd6"
   }
  }
 },
 "nbformat": 4,
 "nbformat_minor": 5
}
