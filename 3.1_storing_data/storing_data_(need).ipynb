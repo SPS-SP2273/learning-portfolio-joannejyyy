{
 "cells": [
  {
   "attachments": {},
   "cell_type": "markdown",
   "id": "123456",
   "metadata": {},
   "source": [
    "<div style=\"text-align:left;font-size:2em\"><span style=\"font-weight:bolder;font-size:1.25em\">SP2273 | Learning Portfolio</span><br><br><span style=\"font-weight:bold;color:darkred\">Storing Data (Need)</span></div>"
   ]
  },
  {
   "attachments": {},
   "cell_type": "markdown",
   "id": "1f7aeaa9",
   "metadata": {},
   "source": [
    "# What to expect in this chapter"
   ]
  },
  {
   "cell_type": "code",
   "execution_count": 1,
   "id": "9e727a8f-1d10-4931-9240-39a2ac08f972",
   "metadata": {},
   "outputs": [],
   "source": [
    "import numpy as np\n"
   ]
  },
  {
   "attachments": {},
   "cell_type": "markdown",
   "id": "266051d5",
   "metadata": {},
   "source": [
    "# 1 Lists, Arrays & Dictionaries"
   ]
  },
  {
   "attachments": {},
   "cell_type": "markdown",
   "id": "634dc2bc",
   "metadata": {},
   "source": [
    "## 1.1 Let’s compare"
   ]
  },
  {
   "cell_type": "code",
   "execution_count": 2,
   "id": "fe6b0c3a-0953-4fc5-8adf-da26ea59c8b9",
   "metadata": {},
   "outputs": [],
   "source": [
    "py_super_names = [\"Black widow\", \"Iron Man\", \"Doctor Strange\"]     # python lists\n",
    "py_real_names = [\"Natasha Romanoff\", \"Tony Stark\", \"Stephan Strange\"]"
   ]
  },
  {
   "cell_type": "code",
   "execution_count": 3,
   "id": "4e31a928-5beb-4d21-9d4b-e0ae5ca667bd",
   "metadata": {},
   "outputs": [],
   "source": [
    "np_super_names = [\"Black widow\", \"Iron Man\", \"Doctor Strange\"]     # numpy lists\n",
    "np_real_names = [\"Natasha Romanoff\", \"Tony Stark\", \"Stephan Strange\"]"
   ]
  },
  {
   "cell_type": "code",
   "execution_count": 4,
   "id": "28bbec56-88f0-4a7c-9fbd-65fb2a8a0a2e",
   "metadata": {},
   "outputs": [],
   "source": [
    "superhero_info = {                               # dictionary lists\n",
    "    \"Natasha Romanoff\" : \"Black Widow\", \n",
    "    \"Tony Stark\" : \"Iron Man\" ,\n",
    "    \"Doctor Strange\" : \"Stephan Strange\"\n",
    "    }"
   ]
  },
  {
   "cell_type": "markdown",
   "id": "0e96d6f3-4819-466a-880b-ada57cfc9e4a",
   "metadata": {},
   "source": [
    "extra info\n",
    "- dictionary have key and associated value seperated by a:\n",
    "- dictionary elegantly holds real and superhero names in one\n",
    "- py list/np arrays: order matters (eg, iron man and tony stark should be in the same position)"
   ]
  },
  {
   "attachments": {},
   "cell_type": "markdown",
   "id": "c697deb9",
   "metadata": {},
   "source": [
    "## 1.2 Accessing data from a list (or array)"
   ]
  },
  {
   "cell_type": "markdown",
   "id": "dd427bb1-e9f0-4177-b382-602511319192",
   "metadata": {},
   "source": [
    "access data by the index corresponding to data's position. start counting at 0"
   ]
  },
  {
   "cell_type": "code",
   "execution_count": 5,
   "id": "15dfbe67-aebe-4eb3-a975-5f2cb1fb6f47",
   "metadata": {},
   "outputs": [
    {
     "data": {
      "text/plain": [
       "'Natasha Romanoff'"
      ]
     },
     "execution_count": 5,
     "metadata": {},
     "output_type": "execute_result"
    }
   ],
   "source": [
    "py_real_names [0]  "
   ]
  },
  {
   "cell_type": "code",
   "execution_count": 6,
   "id": "3ff42542-f050-403c-bfc6-db70381c1363",
   "metadata": {},
   "outputs": [
    {
     "data": {
      "text/plain": [
       "'Stephan Strange'"
      ]
     },
     "execution_count": 6,
     "metadata": {},
     "output_type": "execute_result"
    }
   ],
   "source": [
    "py_real_names [2]     #forward indexing"
   ]
  },
  {
   "cell_type": "code",
   "execution_count": 7,
   "id": "b9c725ea-f5db-48b1-9a8a-6aa31c245250",
   "metadata": {},
   "outputs": [
    {
     "data": {
      "text/plain": [
       "'Stephan Strange'"
      ]
     },
     "execution_count": 7,
     "metadata": {},
     "output_type": "execute_result"
    }
   ],
   "source": [
    "py_real_names [-1]  #reverse indexing, -1 starts instead of 0"
   ]
  },
  {
   "attachments": {},
   "cell_type": "markdown",
   "id": "b21acf79",
   "metadata": {},
   "source": [
    "## 1.3 Accessing data from a dictionary"
   ]
  },
  {
   "cell_type": "code",
   "execution_count": 8,
   "id": "e07a5feb-9129-4307-afbb-71ff227bc300",
   "metadata": {},
   "outputs": [
    {
     "data": {
      "text/plain": [
       "'Black Widow'"
      ]
     },
     "execution_count": 8,
     "metadata": {},
     "output_type": "execute_result"
    }
   ],
   "source": [
    "superhero_info [\"Natasha Romanoff\"]"
   ]
  },
  {
   "cell_type": "markdown",
   "id": "f968edcb-3665-4237-83ef-0da95670f6b1",
   "metadata": {},
   "source": [
    "Values with dictionary are paired with a key, ie the first item"
   ]
  },
  {
   "cell_type": "code",
   "execution_count": 9,
   "id": "2aa655c1-e197-4d7e-bfdd-7d2907483107",
   "metadata": {},
   "outputs": [
    {
     "data": {
      "text/plain": [
       "dict_keys(['Natasha Romanoff', 'Tony Stark', 'Doctor Strange'])"
      ]
     },
     "execution_count": 9,
     "metadata": {},
     "output_type": "execute_result"
    }
   ],
   "source": [
    "superhero_info.keys() # to access all keys"
   ]
  },
  {
   "cell_type": "code",
   "execution_count": 10,
   "id": "6c78e61d-a6b6-4b79-aca4-35079e1eb852",
   "metadata": {},
   "outputs": [
    {
     "data": {
      "text/plain": [
       "dict_values(['Black Widow', 'Iron Man', 'Stephan Strange'])"
      ]
     },
     "execution_count": 10,
     "metadata": {},
     "output_type": "execute_result"
    }
   ],
   "source": [
    "superhero_info.values() # to access all values"
   ]
  },
  {
   "attachments": {},
   "cell_type": "markdown",
   "id": "514fc9f5",
   "metadata": {},
   "source": [
    "## 1.4 Higher dimensional lists"
   ]
  },
  {
   "cell_type": "markdown",
   "id": "a96985d5-5204-432a-800a-e3b8ee8adb23",
   "metadata": {},
   "source": [
    "can store more with 2 dimentional lists. use a new line for each different type of object"
   ]
  },
  {
   "cell_type": "code",
   "execution_count": 11,
   "id": "934c9bed-424a-462d-a8ac-2a2f3e63e363",
   "metadata": {},
   "outputs": [],
   "source": [
    "py_superhero_info = [['Natasha Romanoff', 'Black Widow'],\n",
    "                     ['Tony Stark', 'Iron Man'],\n",
    "                     ['Stephen Strange', 'Doctor Strange']]"
   ]
  },
  {
   "cell_type": "code",
   "execution_count": 12,
   "id": "5e7390be-5b1e-4029-b30f-247f0df84e54",
   "metadata": {},
   "outputs": [
    {
     "data": {
      "text/plain": [
       "['Natasha Romanoff', 'Black Widow']"
      ]
     },
     "execution_count": 12,
     "metadata": {},
     "output_type": "execute_result"
    }
   ],
   "source": [
    "py_superhero_info [0]"
   ]
  },
  {
   "attachments": {},
   "cell_type": "markdown",
   "id": "490b0b86",
   "metadata": {},
   "source": [
    "# 2 Lists vs. Arrays"
   ]
  },
  {
   "attachments": {},
   "cell_type": "markdown",
   "id": "872f35c3",
   "metadata": {},
   "source": [
    "## 2.1 Size"
   ]
  },
  {
   "cell_type": "markdown",
   "id": "20b8a7a4-9a3a-4692-9344-c3edc4181b19",
   "metadata": {},
   "source": [
    "use len() to figure out how many elements are in a list"
   ]
  },
  {
   "cell_type": "code",
   "execution_count": 18,
   "id": "12f87a63-7ca2-46a0-ba6f-da35a0d74f5d",
   "metadata": {},
   "outputs": [
    {
     "data": {
      "text/plain": [
       "10"
      ]
     },
     "execution_count": 18,
     "metadata": {},
     "output_type": "execute_result"
    }
   ],
   "source": [
    "py_list_2d = [[1, \"A\"], [2, \"B\"], [3, \"C\"], [4, \"D\"],\n",
    "              [5, \"E\"], [6, \"F\"], [7, \"G\"], [8, \"H\"],\n",
    "              [9, \"I\"], [10, \"J\"]]\n",
    "\n",
    "len(py_list_2d)"
   ]
  },
  {
   "cell_type": "code",
   "execution_count": 24,
   "id": "55ca1467-3b3f-49e1-bbca-fc12302ad3c5",
   "metadata": {},
   "outputs": [
    {
     "data": {
      "text/plain": [
       "10"
      ]
     },
     "execution_count": 24,
     "metadata": {},
     "output_type": "execute_result"
    }
   ],
   "source": [
    "np_array_2d = np.array(py_list_2d)  \n",
    "\n",
    "len(np_array_2d)"
   ]
  },
  {
   "cell_type": "code",
   "execution_count": 25,
   "id": "b35b4e22-f2e8-44c0-90dc-c508a39e4ae4",
   "metadata": {},
   "outputs": [
    {
     "data": {
      "text/plain": [
       "(10, 2)"
      ]
     },
     "execution_count": 25,
     "metadata": {},
     "output_type": "execute_result"
    }
   ],
   "source": [
    "# for the shape of np\n",
    "np_array_2d.shape"
   ]
  },
  {
   "attachments": {},
   "cell_type": "markdown",
   "id": "c6123fec",
   "metadata": {},
   "source": [
    "## 2.2 Arrays are fussy about type"
   ]
  },
  {
   "cell_type": "markdown",
   "id": "8be91b44-c367-4877-8b6f-d7e5459d258b",
   "metadata": {},
   "source": [
    "array only have 1 single data type, while list is more accomdating "
   ]
  },
  {
   "cell_type": "code",
   "execution_count": 26,
   "id": "5fdc3d28-d46e-4cf1-b146-ec470ead688e",
   "metadata": {},
   "outputs": [],
   "source": [
    "py_list = [1, 1.5, 'A']\n",
    "np_array = np.array(py_list)"
   ]
  },
  {
   "cell_type": "code",
   "execution_count": 27,
   "id": "e90452db-5899-4aa5-9b65-ad9e79c02c33",
   "metadata": {},
   "outputs": [
    {
     "data": {
      "text/plain": [
       "[1, 1.5, 'A']"
      ]
     },
     "execution_count": 27,
     "metadata": {},
     "output_type": "execute_result"
    }
   ],
   "source": [
    "py_list"
   ]
  },
  {
   "cell_type": "code",
   "execution_count": 28,
   "id": "bdbba1cb-3130-47af-a9e8-06cceded1c48",
   "metadata": {},
   "outputs": [
    {
     "data": {
      "text/plain": [
       "array(['1', '1.5', 'A'], dtype='<U32')"
      ]
     },
     "execution_count": 28,
     "metadata": {},
     "output_type": "execute_result"
    }
   ],
   "source": [
    "np_array"
   ]
  },
  {
   "cell_type": "markdown",
   "id": "ff1fc7b6-ef6e-4674-b5b2-5563cf618488",
   "metadata": {},
   "source": [
    "can change type using astypes()"
   ]
  },
  {
   "attachments": {},
   "cell_type": "markdown",
   "id": "4e5a0b45",
   "metadata": {},
   "source": [
    "## 2.3 Adding a number"
   ]
  },
  {
   "cell_type": "code",
   "execution_count": 29,
   "id": "1398c894-a822-4aae-86d2-7626bee4d5a3",
   "metadata": {},
   "outputs": [],
   "source": [
    "py_list = [1,2,3,4,5]\n",
    "np_array = np.array(py_list)"
   ]
  },
  {
   "cell_type": "code",
   "execution_count": 30,
   "id": "be061294-d1c7-488b-b912-7d36cb548f0a",
   "metadata": {},
   "outputs": [
    {
     "data": {
      "text/plain": [
       "array([11, 12, 13, 14, 15])"
      ]
     },
     "execution_count": 30,
     "metadata": {},
     "output_type": "execute_result"
    }
   ],
   "source": [
    "np_array + 10"
   ]
  },
  {
   "cell_type": "code",
   "execution_count": 33,
   "id": "8144c98d-98f8-4cfc-bdda-f3cd9fbe8ddd",
   "metadata": {},
   "outputs": [
    {
     "ename": "TypeError",
     "evalue": "can only concatenate list (not \"int\") to list",
     "output_type": "error",
     "traceback": [
      "\u001b[31m---------------------------------------------------------------------------\u001b[39m",
      "\u001b[31mTypeError\u001b[39m                                 Traceback (most recent call last)",
      "\u001b[36mCell\u001b[39m\u001b[36m \u001b[39m\u001b[32mIn[33]\u001b[39m\u001b[32m, line 1\u001b[39m\n\u001b[32m----> \u001b[39m\u001b[32m1\u001b[39m \u001b[43mpy_list\u001b[49m\u001b[43m \u001b[49m\u001b[43m+\u001b[49m\u001b[43m \u001b[49m\u001b[32;43m10\u001b[39;49m \u001b[38;5;66;03m# won't work, so to do this might need to convert first\u001b[39;00m\n",
      "\u001b[31mTypeError\u001b[39m: can only concatenate list (not \"int\") to list"
     ]
    }
   ],
   "source": [
    "py_list + 10 # won't work, so to do this might need to convert first"
   ]
  },
  {
   "attachments": {},
   "cell_type": "markdown",
   "id": "150a712a",
   "metadata": {},
   "source": [
    "## 2.4 Adding another list"
   ]
  },
  {
   "cell_type": "code",
   "execution_count": 35,
   "id": "07ebae51-92ec-4ef6-afdc-d0007023021e",
   "metadata": {},
   "outputs": [],
   "source": [
    "py_list_1 = [1,2,3,4,5]\n",
    "py_list_2 = [10,20,30,40,50]\n",
    "\n",
    "np_array_1 = np.array(py_list_1)\n",
    "np_array_2 = np.array(py_list_2)"
   ]
  },
  {
   "cell_type": "code",
   "execution_count": 36,
   "id": "a7305efa-d178-4945-b6f3-f4b31aecf4cc",
   "metadata": {},
   "outputs": [
    {
     "data": {
      "text/plain": [
       "[1, 2, 3, 4, 5, 10, 20, 30, 40, 50]"
      ]
     },
     "execution_count": 36,
     "metadata": {},
     "output_type": "execute_result"
    }
   ],
   "source": [
    "py_list_1 + py_list_2 # combine the lists based on each individual number"
   ]
  },
  {
   "cell_type": "code",
   "execution_count": 37,
   "id": "067018db-53b3-4208-90cb-541e2eb54b08",
   "metadata": {},
   "outputs": [
    {
     "data": {
      "text/plain": [
       "array([11, 22, 33, 44, 55])"
      ]
     },
     "execution_count": 37,
     "metadata": {},
     "output_type": "execute_result"
    }
   ],
   "source": [
    "np_array_1 + np_array_2 # combines by adding the corressponding number \n",
    "                        # in each position"
   ]
  },
  {
   "attachments": {},
   "cell_type": "markdown",
   "id": "f3f96983",
   "metadata": {},
   "source": [
    "## 2.5 Multiplying by a Number"
   ]
  },
  {
   "cell_type": "code",
   "execution_count": 39,
   "id": "4d9eab80-43b1-4100-912b-bf958b1b1851",
   "metadata": {},
   "outputs": [],
   "source": [
    "py_list = [1,2,3,4]\n",
    "np_array = np.array(py_list)"
   ]
  },
  {
   "cell_type": "code",
   "execution_count": 40,
   "id": "fbde5cce-0115-43fc-a000-94f24f62799d",
   "metadata": {},
   "outputs": [
    {
     "data": {
      "text/plain": [
       "[1, 2, 3, 4, 1, 2, 3, 4]"
      ]
     },
     "execution_count": 40,
     "metadata": {},
     "output_type": "execute_result"
    }
   ],
   "source": [
    "py_list*2 # gives all data points x2"
   ]
  },
  {
   "cell_type": "code",
   "execution_count": 41,
   "id": "c33b548e-8900-409a-b9e7-0e4a06899ab2",
   "metadata": {},
   "outputs": [
    {
     "data": {
      "text/plain": [
       "array([2, 4, 6, 8])"
      ]
     },
     "execution_count": 41,
     "metadata": {},
     "output_type": "execute_result"
    }
   ],
   "source": [
    "np_array*2 # gives x2 of each element "
   ]
  },
  {
   "attachments": {},
   "cell_type": "markdown",
   "id": "9b0edfef",
   "metadata": {},
   "source": [
    "## 2.6 Squaring"
   ]
  },
  {
   "cell_type": "code",
   "execution_count": 44,
   "id": "578eed89-71c6-477b-8cd1-f53597748e70",
   "metadata": {},
   "outputs": [
    {
     "ename": "TypeError",
     "evalue": "unsupported operand type(s) for ** or pow(): 'list' and 'int'",
     "output_type": "error",
     "traceback": [
      "\u001b[31m---------------------------------------------------------------------------\u001b[39m",
      "\u001b[31mTypeError\u001b[39m                                 Traceback (most recent call last)",
      "\u001b[36mCell\u001b[39m\u001b[36m \u001b[39m\u001b[32mIn[44]\u001b[39m\u001b[32m, line 1\u001b[39m\n\u001b[32m----> \u001b[39m\u001b[32m1\u001b[39m \u001b[43mpy_list\u001b[49m\u001b[43m*\u001b[49m\u001b[43m*\u001b[49m\u001b[32;43m2\u001b[39;49m \u001b[38;5;66;03m# no work\u001b[39;00m\n",
      "\u001b[31mTypeError\u001b[39m: unsupported operand type(s) for ** or pow(): 'list' and 'int'"
     ]
    }
   ],
   "source": [
    "py_list**2 # no work"
   ]
  },
  {
   "cell_type": "code",
   "execution_count": 47,
   "id": "878b3a2c-4885-4787-8cb1-ad27ab36d47e",
   "metadata": {},
   "outputs": [
    {
     "data": {
      "text/plain": [
       "array([ 1,  4,  9, 16])"
      ]
     },
     "execution_count": 47,
     "metadata": {},
     "output_type": "execute_result"
    }
   ],
   "source": [
    "np_array**2 # yay works"
   ]
  },
  {
   "attachments": {},
   "cell_type": "markdown",
   "id": "908f7818",
   "metadata": {},
   "source": [
    "## 2.7 Asking questions"
   ]
  },
  {
   "cell_type": "code",
   "execution_count": 48,
   "id": "54b1dab9-4020-4c9c-a8f4-62b005382087",
   "metadata": {},
   "outputs": [
    {
     "data": {
      "text/plain": [
       "False"
      ]
     },
     "execution_count": 48,
     "metadata": {},
     "output_type": "execute_result"
    }
   ],
   "source": [
    "py_list ==3  # based on sum of numbers"
   ]
  },
  {
   "cell_type": "code",
   "execution_count": 50,
   "id": "c1ab182e-9ded-4765-85a0-e970bd6c863e",
   "metadata": {},
   "outputs": [
    {
     "data": {
      "text/plain": [
       "array([False, False,  True, False])"
      ]
     },
     "execution_count": 50,
     "metadata": {},
     "output_type": "execute_result"
    }
   ],
   "source": [
    "np_array ==3 # based on each data point"
   ]
  },
  {
   "cell_type": "code",
   "execution_count": 51,
   "id": "4745a020-9911-44df-afff-4ec421665561",
   "metadata": {},
   "outputs": [
    {
     "ename": "TypeError",
     "evalue": "'>' not supported between instances of 'list' and 'int'",
     "output_type": "error",
     "traceback": [
      "\u001b[31m---------------------------------------------------------------------------\u001b[39m",
      "\u001b[31mTypeError\u001b[39m                                 Traceback (most recent call last)",
      "\u001b[36mCell\u001b[39m\u001b[36m \u001b[39m\u001b[32mIn[51]\u001b[39m\u001b[32m, line 1\u001b[39m\n\u001b[32m----> \u001b[39m\u001b[32m1\u001b[39m \u001b[43mpy_list\u001b[49m\u001b[43m \u001b[49m\u001b[43m>\u001b[49m\u001b[43m \u001b[49m\u001b[32;43m3\u001b[39;49m\n",
      "\u001b[31mTypeError\u001b[39m: '>' not supported between instances of 'list' and 'int'"
     ]
    }
   ],
   "source": [
    "py_list > 3 #why don't want work :("
   ]
  },
  {
   "cell_type": "code",
   "execution_count": 53,
   "id": "7688d741-ea5f-4ed6-b59c-765496ccad0d",
   "metadata": {},
   "outputs": [
    {
     "data": {
      "text/plain": [
       "array([False, False, False,  True])"
      ]
     },
     "execution_count": 53,
     "metadata": {},
     "output_type": "execute_result"
    }
   ],
   "source": [
    "np_array > 3 # based on each data point"
   ]
  },
  {
   "attachments": {},
   "cell_type": "markdown",
   "id": "e27e4dd3",
   "metadata": {},
   "source": [
    "## 2.8 Mathematics"
   ]
  },
  {
   "cell_type": "markdown",
   "id": "ca84cf3b-b52f-46b6-9909-02c097340cd7",
   "metadata": {},
   "source": [
    "py_list functions:"
   ]
  },
  {
   "cell_type": "code",
   "execution_count": 59,
   "id": "91b6d266-e0e9-4507-8ad1-7ed964d33c51",
   "metadata": {},
   "outputs": [
    {
     "data": {
      "text/plain": [
       "10"
      ]
     },
     "execution_count": 59,
     "metadata": {},
     "output_type": "execute_result"
    }
   ],
   "source": [
    "sum(py_list) # sum of all the numbers"
   ]
  },
  {
   "cell_type": "code",
   "execution_count": 60,
   "id": "4005e6bf-6c94-41f6-8457-16e9eaacf822",
   "metadata": {},
   "outputs": [
    {
     "data": {
      "text/plain": [
       "4"
      ]
     },
     "execution_count": 60,
     "metadata": {},
     "output_type": "execute_result"
    }
   ],
   "source": [
    "max(py_list) # biggest number in the list"
   ]
  },
  {
   "cell_type": "code",
   "execution_count": 61,
   "id": "a476c73d-8835-43bd-b9c9-0bdedb621833",
   "metadata": {},
   "outputs": [
    {
     "data": {
      "text/plain": [
       "1"
      ]
     },
     "execution_count": 61,
     "metadata": {},
     "output_type": "execute_result"
    }
   ],
   "source": [
    "min(py_list) #s smallest no"
   ]
  },
  {
   "cell_type": "markdown",
   "id": "ec02cb2f-d242-440c-8224-90765fe69069",
   "metadata": {},
   "source": [
    "note: py_list.sum() wont work"
   ]
  },
  {
   "cell_type": "markdown",
   "id": "aeb6903f-909b-466a-9394-32ca41f1e06a",
   "metadata": {},
   "source": [
    "np_array functions:"
   ]
  },
  {
   "cell_type": "code",
   "execution_count": 62,
   "id": "89f550d8-b7d9-4594-ad06-519106a659d9",
   "metadata": {},
   "outputs": [
    {
     "data": {
      "text/plain": [
       "np.int64(10)"
      ]
     },
     "execution_count": 62,
     "metadata": {},
     "output_type": "execute_result"
    }
   ],
   "source": [
    "np_array.sum()"
   ]
  },
  {
   "cell_type": "code",
   "execution_count": 63,
   "id": "47dfadd7-84d6-4cd9-83fd-97bcb164018d",
   "metadata": {},
   "outputs": [
    {
     "data": {
      "text/plain": [
       "np.int64(4)"
      ]
     },
     "execution_count": 63,
     "metadata": {},
     "output_type": "execute_result"
    }
   ],
   "source": [
    "np_array.max()"
   ]
  },
  {
   "cell_type": "code",
   "execution_count": 64,
   "id": "476b8000-93a1-4e3f-be65-9e378326f5b8",
   "metadata": {},
   "outputs": [
    {
     "data": {
      "text/plain": [
       "np.int64(1)"
      ]
     },
     "execution_count": 64,
     "metadata": {},
     "output_type": "execute_result"
    }
   ],
   "source": [
    "np_array.min()"
   ]
  },
  {
   "cell_type": "code",
   "execution_count": 65,
   "id": "0a2fe155-9228-4fc2-9328-b16ef4af1301",
   "metadata": {},
   "outputs": [
    {
     "data": {
      "text/plain": [
       "np.float64(2.5)"
      ]
     },
     "execution_count": 65,
     "metadata": {},
     "output_type": "execute_result"
    }
   ],
   "source": [
    "np_array.mean()"
   ]
  },
  {
   "cell_type": "code",
   "execution_count": 66,
   "id": "b0f43383-8361-4750-b2c9-9bcb652732ec",
   "metadata": {},
   "outputs": [
    {
     "data": {
      "text/plain": [
       "np.float64(1.118033988749895)"
      ]
     },
     "execution_count": 66,
     "metadata": {},
     "output_type": "execute_result"
    }
   ],
   "source": [
    "np_array.std()"
   ]
  },
  {
   "attachments": {},
   "cell_type": "markdown",
   "id": "9c686d76",
   "metadata": {},
   "source": [
    "## Footnotes"
   ]
  }
 ],
 "metadata": {
  "kernelspec": {
   "display_name": "Python 3 (ipykernel)",
   "language": "python",
   "name": "python3"
  },
  "language_info": {
   "codemirror_mode": {
    "name": "ipython",
    "version": 3
   },
   "file_extension": ".py",
   "mimetype": "text/x-python",
   "name": "python",
   "nbconvert_exporter": "python",
   "pygments_lexer": "ipython3",
   "version": "3.13.7"
  },
  "toc": {
   "base_numbering": 1,
   "nav_menu": {},
   "number_sections": true,
   "sideBar": true,
   "skip_h1_title": false,
   "title_cell": "Table of Contents",
   "title_sidebar": "Contents",
   "toc_cell": false,
   "toc_position": {},
   "toc_section_display": true,
   "toc_window_display": false
  },
  "vscode": {
   "interpreter": {
    "hash": "31f2aee4e71d21fbe5cf8b01ff0e069b9275f58929596ceb00d14d90e3e16cd6"
   }
  }
 },
 "nbformat": 4,
 "nbformat_minor": 5
}
