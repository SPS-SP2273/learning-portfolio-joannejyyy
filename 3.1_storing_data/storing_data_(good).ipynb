{
 "cells": [
  {
   "attachments": {},
   "cell_type": "markdown",
   "id": "123456",
   "metadata": {},
   "source": [
    "<div style=\"text-align:left;font-size:2em\"><span style=\"font-weight:bolder;font-size:1.25em\">SP2273 | Learning Portfolio</span><br><br><span style=\"font-weight:bold;color:darkred\">Storing Data (Good)</span></div>"
   ]
  },
  {
   "attachments": {},
   "cell_type": "markdown",
   "id": "84103cdc",
   "metadata": {},
   "source": [
    "# What to expect in this chapter"
   ]
  },
  {
   "attachments": {},
   "cell_type": "markdown",
   "id": "6b90ed12",
   "metadata": {},
   "source": [
    "# 1 Subsetting: Indexing and Slicing"
   ]
  },
  {
   "cell_type": "markdown",
   "id": "489fabc3-2e5d-4d35-b08b-b793ecd24a56",
   "metadata": {},
   "source": [
    "Subsetting means to ‘select’.\n",
    "Indexing refers to selecting one element.\n",
    "Slicing refers to selecting a range of elements."
   ]
  },
  {
   "attachments": {},
   "cell_type": "markdown",
   "id": "213cfdcb",
   "metadata": {},
   "source": [
    "## 1.1 Lists & Arrays in 1D | Subsetting & Indexing"
   ]
  },
  {
   "cell_type": "markdown",
   "id": "94120015-e95e-4e8b-8c51-3fea89488d11",
   "metadata": {},
   "source": [
    "slicing give range of elements; specify start and end using x[:]"
   ]
  },
  {
   "cell_type": "code",
   "execution_count": 5,
   "id": "80d941f4-3898-4795-ba92-576b7ec3d8c8",
   "metadata": {},
   "outputs": [],
   "source": [
    "import numpy as np"
   ]
  },
  {
   "cell_type": "code",
   "execution_count": 6,
   "id": "41c4bcd5-9c6d-4bf3-910d-782d85c5b6bb",
   "metadata": {},
   "outputs": [],
   "source": [
    "py_list=[\"a1\", \"b2\", \"c3\", \"d4\", \"e5\",\n",
    "         \"f6\", \"g7\", \"h8\", \"i9\", \"j10\"]\n",
    "np_array=np.array(py_list)\n",
    "\n",
    "x = py_list"
   ]
  },
  {
   "cell_type": "code",
   "execution_count": 8,
   "id": "12428c1b-7b02-4ce3-af21-6430e8825eb8",
   "metadata": {},
   "outputs": [
    {
     "data": {
      "text/plain": [
       "'a1'"
      ]
     },
     "execution_count": 8,
     "metadata": {},
     "output_type": "execute_result"
    }
   ],
   "source": [
    "x[0]  #first element"
   ]
  },
  {
   "cell_type": "code",
   "execution_count": 9,
   "id": "6b347758-ebf5-4502-9054-6c20594d55f0",
   "metadata": {},
   "outputs": [
    {
     "data": {
      "text/plain": [
       "'j10'"
      ]
     },
     "execution_count": 9,
     "metadata": {},
     "output_type": "execute_result"
    }
   ],
   "source": [
    "x[-1] #last element"
   ]
  },
  {
   "cell_type": "code",
   "execution_count": 13,
   "id": "e34f3d59-7467-4193-814f-045d6872c47c",
   "metadata": {},
   "outputs": [
    {
     "data": {
      "text/plain": [
       "['a1']"
      ]
     },
     "execution_count": 13,
     "metadata": {},
     "output_type": "execute_result"
    }
   ],
   "source": [
    "x[0:1] #gives 1-0 = 1 element"
   ]
  },
  {
   "cell_type": "code",
   "execution_count": 16,
   "id": "a359ae36-3ea9-45ac-addd-67bdfbcae0e2",
   "metadata": {},
   "outputs": [
    {
     "data": {
      "text/plain": [
       "['b2', 'c3', 'd4', 'e5', 'f6']"
      ]
     },
     "execution_count": 16,
     "metadata": {},
     "output_type": "execute_result"
    }
   ],
   "source": [
    "x[1:6] #gives 6-1 = 5 element, starting from index 1"
   ]
  },
  {
   "cell_type": "code",
   "execution_count": 17,
   "id": "3a86a86c-3849-41e1-8c77-a92ded7cd1b7",
   "metadata": {},
   "outputs": [
    {
     "data": {
      "text/plain": [
       "['b2', 'd4', 'f6']"
      ]
     },
     "execution_count": 17,
     "metadata": {},
     "output_type": "execute_result"
    }
   ],
   "source": [
    "x[1:6:2] #gives every other 6-1 = 5 element, starting from index 1"
   ]
  },
  {
   "cell_type": "code",
   "execution_count": 19,
   "id": "c976ae21-40ed-40c0-a41f-f8e365b102c5",
   "metadata": {},
   "outputs": [
    {
     "data": {
      "text/plain": [
       "['a1', 'b2', 'c3', 'd4', 'e5']"
      ]
     },
     "execution_count": 19,
     "metadata": {},
     "output_type": "execute_result"
    }
   ],
   "source": [
    "x[:5] # gives len(x)-5 = 5; start from index 5 to the end"
   ]
  },
  {
   "cell_type": "code",
   "execution_count": 21,
   "id": "1ccf52dc-969d-4fb1-a098-1dd32812dd24",
   "metadata": {},
   "outputs": [
    {
     "data": {
      "text/plain": [
       "['f6', 'e5', 'd4']"
      ]
     },
     "execution_count": 21,
     "metadata": {},
     "output_type": "execute_result"
    }
   ],
   "source": [
    "x[5:2:-1] #gives 5-2 = 3 elements, done in reverse"
   ]
  },
  {
   "cell_type": "code",
   "execution_count": 23,
   "id": "c68ac4a1-8068-4173-8d78-49ed6948ec7b",
   "metadata": {},
   "outputs": [
    {
     "data": {
      "text/plain": [
       "['j10', 'i9', 'h8', 'g7', 'f6', 'e5', 'd4', 'c3', 'b2', 'a1']"
      ]
     },
     "execution_count": 23,
     "metadata": {},
     "output_type": "execute_result"
    }
   ],
   "source": [
    "x[::-1] #reverses the whole list"
   ]
  },
  {
   "cell_type": "markdown",
   "id": "e84030a6-964d-40ba-9397-1bcdf61ed326",
   "metadata": {},
   "source": [
    "slicing with [i:j] will give results starting with i and ending with j-1, giving you j-1 elements"
   ]
  },
  {
   "attachments": {},
   "cell_type": "markdown",
   "id": "11893b1f",
   "metadata": {},
   "source": [
    "## 1.2 Arrays only | Subsetting by masking"
   ]
  },
  {
   "cell_type": "code",
   "execution_count": 32,
   "id": "7a0f8c33-a911-4245-a6de-6e8ebfd502df",
   "metadata": {},
   "outputs": [],
   "source": [
    "np_array = np.array([1,2,3,4,5,6,7,8,9,100])"
   ]
  },
  {
   "cell_type": "code",
   "execution_count": 37,
   "id": "467abfe6-8c0f-4e7f-a43d-c9535f9d8b64",
   "metadata": {},
   "outputs": [
    {
     "data": {
      "text/plain": [
       "array([False, False, False,  True,  True,  True,  True,  True,  True,\n",
       "        True])"
      ]
     },
     "execution_count": 37,
     "metadata": {},
     "output_type": "execute_result"
    }
   ],
   "source": [
    "my_mask = np_array > 3   #show if each element is >3\n",
    "my_mask"
   ]
  },
  {
   "cell_type": "code",
   "execution_count": 40,
   "id": "5d8b8406-7281-429e-8852-d456febc7947",
   "metadata": {},
   "outputs": [
    {
     "data": {
      "text/plain": [
       "array([  4,   5,   6,   7,   8,   9, 100])"
      ]
     },
     "execution_count": 40,
     "metadata": {},
     "output_type": "execute_result"
    }
   ],
   "source": [
    "np_array[my_mask] # for only the true ones"
   ]
  },
  {
   "cell_type": "code",
   "execution_count": null,
   "id": "dc8fb0a6-10aa-4871-83d4-b6e1fc57a635",
   "metadata": {},
   "outputs": [],
   "source": [
    "#for more succinctness"
   ]
  },
  {
   "cell_type": "code",
   "execution_count": 41,
   "id": "4a277751-fa57-43b5-950d-c1d1288515cf",
   "metadata": {},
   "outputs": [
    {
     "data": {
      "text/plain": [
       "array([  4,   5,   6,   7,   8,   9, 100])"
      ]
     },
     "execution_count": 41,
     "metadata": {},
     "output_type": "execute_result"
    }
   ],
   "source": [
    "np_array[np_array>3]"
   ]
  },
  {
   "cell_type": "code",
   "execution_count": 43,
   "id": "e1982114-b574-4802-8227-7fbc36f8e5dd",
   "metadata": {},
   "outputs": [
    {
     "data": {
      "text/plain": [
       "array([1, 2, 3])"
      ]
     },
     "execution_count": 43,
     "metadata": {},
     "output_type": "execute_result"
    }
   ],
   "source": [
    "np_array[~(np_array>3)] # ~ means not, so it inverts >3"
   ]
  },
  {
   "cell_type": "code",
   "execution_count": 44,
   "id": "fd38b624-d2f4-4915-bb4d-74ca9f2b76a4",
   "metadata": {},
   "outputs": [
    {
     "data": {
      "text/plain": [
       "array([4, 5, 6, 7])"
      ]
     },
     "execution_count": 44,
     "metadata": {},
     "output_type": "execute_result"
    }
   ],
   "source": [
    "np_array[(np_array > 3) & (np_array < 8)] # & means when both are true"
   ]
  },
  {
   "cell_type": "code",
   "execution_count": 45,
   "id": "2554dce1-063a-4f4d-a677-9c4fc88077f6",
   "metadata": {},
   "outputs": [
    {
     "data": {
      "text/plain": [
       "array([  1,   2,   9, 100])"
      ]
     },
     "execution_count": 45,
     "metadata": {},
     "output_type": "execute_result"
    }
   ],
   "source": [
    "np_array[(np_array < 3) | (np_array > 8)] # | means when element appear in either mask"
   ]
  },
  {
   "attachments": {},
   "cell_type": "markdown",
   "id": "d17eab08",
   "metadata": {},
   "source": [
    "## 1.3 Lists & Arrays in 2D | Indexing & Slicing"
   ]
  },
  {
   "cell_type": "code",
   "execution_count": 46,
   "id": "5b709ba8-60d0-4164-9699-0e082fb8af7a",
   "metadata": {},
   "outputs": [],
   "source": [
    "py_list_2d = [[1, \"A\"], [2, \"B\"], [3, \"C\"], [4, \"D\"], \n",
    "              [5, \"E\"], [6, \"F\"], [7, \"G\"], [8, \"H\"],\n",
    "              [9, \"I\"], [10, \"J\"]]\n",
    "\n",
    "np_array_2d = np.array(py_list_2d)"
   ]
  },
  {
   "cell_type": "code",
   "execution_count": 47,
   "id": "2585b40a-8cd4-494c-8664-9a454a3c9266",
   "metadata": {},
   "outputs": [
    {
     "data": {
      "text/plain": [
       "[4, 'D']"
      ]
     },
     "execution_count": 47,
     "metadata": {},
     "output_type": "execute_result"
    }
   ],
   "source": [
    "py_list_2d [3] #position 4"
   ]
  },
  {
   "cell_type": "code",
   "execution_count": 48,
   "id": "a3caee5a-9d61-4a25-8295-e78611126905",
   "metadata": {},
   "outputs": [
    {
     "data": {
      "text/plain": [
       "array(['4', 'D'], dtype='<U21')"
      ]
     },
     "execution_count": 48,
     "metadata": {},
     "output_type": "execute_result"
    }
   ],
   "source": [
    "np_array_2d [3] #position 4"
   ]
  },
  {
   "cell_type": "code",
   "execution_count": 49,
   "id": "890cc038-71d2-461f-8422-1553fb39b6ae",
   "metadata": {},
   "outputs": [
    {
     "data": {
      "text/plain": [
       "'D'"
      ]
     },
     "execution_count": 49,
     "metadata": {},
     "output_type": "execute_result"
    }
   ],
   "source": [
    "py_list_2d [3] [1] #position 4 second element"
   ]
  },
  {
   "cell_type": "code",
   "execution_count": 50,
   "id": "129bc02b-9114-4993-9a20-7fac87e1445c",
   "metadata": {},
   "outputs": [
    {
     "data": {
      "text/plain": [
       "np.str_('4')"
      ]
     },
     "execution_count": 50,
     "metadata": {},
     "output_type": "execute_result"
    }
   ],
   "source": [
    "np_array_2d [3, 0] #position 4 first element"
   ]
  },
  {
   "cell_type": "code",
   "execution_count": 51,
   "id": "c6417e39-979f-4de7-aa39-0df9e122174f",
   "metadata": {},
   "outputs": [
    {
     "data": {
      "text/plain": [
       "[[1, 'A'], [2, 'B'], [3, 'C']]"
      ]
     },
     "execution_count": 51,
     "metadata": {},
     "output_type": "execute_result"
    }
   ],
   "source": [
    "py_list_2d[:3] # first 3 positions"
   ]
  },
  {
   "cell_type": "code",
   "execution_count": 52,
   "id": "bd6d870b-88ae-4e9b-904d-9a68be9583a2",
   "metadata": {},
   "outputs": [
    {
     "data": {
      "text/plain": [
       "array([['1', 'A'],\n",
       "       ['2', 'B'],\n",
       "       ['3', 'C']], dtype='<U21')"
      ]
     },
     "execution_count": 52,
     "metadata": {},
     "output_type": "execute_result"
    }
   ],
   "source": [
    "np_array_2d[:3]"
   ]
  },
  {
   "cell_type": "code",
   "execution_count": 53,
   "id": "dae461d4-ecf8-4a97-9e70-c993e94b37dc",
   "metadata": {},
   "outputs": [
    {
     "data": {
      "text/plain": [
       "array(['1', '2', '3'], dtype='<U21')"
      ]
     },
     "execution_count": 53,
     "metadata": {},
     "output_type": "execute_result"
    }
   ],
   "source": [
    "py_list_2d[:3][0] # first 3 position firt element"
   ]
  },
  {
   "cell_type": "code",
   "execution_count": 54,
   "id": "3e54c8b8-1e99-4e08-8523-001ff6f3dc80",
   "metadata": {},
   "outputs": [
    {
     "data": {
      "text/plain": [
       "array(['1', '2', '3'], dtype='<U21')"
      ]
     },
     "execution_count": 54,
     "metadata": {},
     "output_type": "execute_result"
    }
   ],
   "source": [
    "np_array_2d[:3, 0] # interestingly, gives same as above"
   ]
  },
  {
   "cell_type": "code",
   "execution_count": 63,
   "id": "6f1abb4a-f6ff-43fa-8970-b5a7c1badc28",
   "metadata": {},
   "outputs": [
    {
     "data": {
      "text/plain": [
       "[4, 'D']"
      ]
     },
     "execution_count": 63,
     "metadata": {},
     "output_type": "execute_result"
    }
   ],
   "source": [
    "py_list_2d[3:6] [0] # only the first of positions 4, 5, 6"
   ]
  },
  {
   "cell_type": "code",
   "execution_count": 64,
   "id": "e96d48ca-0ffc-4003-aa1c-5550a0efdb73",
   "metadata": {},
   "outputs": [
    {
     "data": {
      "text/plain": [
       "array(['4', '5', '6'], dtype='<U21')"
      ]
     },
     "execution_count": 64,
     "metadata": {},
     "output_type": "execute_result"
    }
   ],
   "source": [
    "np_array_2d[3:6, 0] # only the first element of position 4,5,6"
   ]
  },
  {
   "cell_type": "code",
   "execution_count": 59,
   "id": "9445c86f-ae84-4384-b53e-e2c9ed78e86e",
   "metadata": {},
   "outputs": [
    {
     "data": {
      "text/plain": [
       "array(['1', '2', '3', '4', '5', '6', '7', '8', '9', '10'], dtype='<U21')"
      ]
     },
     "execution_count": 59,
     "metadata": {},
     "output_type": "execute_result"
    }
   ],
   "source": [
    "np_array_2d[:, 0] # only the first element of all position"
   ]
  },
  {
   "attachments": {},
   "cell_type": "markdown",
   "id": "9ab8fa0e",
   "metadata": {},
   "source": [
    "## 1.4 Growing lists"
   ]
  },
  {
   "cell_type": "code",
   "execution_count": 65,
   "id": "70dca236-6df0-4ee4-87e6-68878859bbc9",
   "metadata": {},
   "outputs": [
    {
     "data": {
      "text/plain": [
       "[1, 2, 1, 2, 1, 2, 1, 2, 1, 2]"
      ]
     },
     "execution_count": 65,
     "metadata": {},
     "output_type": "execute_result"
    }
   ],
   "source": [
    "#large list from small\n",
    "x=[1, 2]*5\n",
    "x"
   ]
  },
  {
   "cell_type": "code",
   "execution_count": 67,
   "id": "5ae58517-99ce-435c-ae4c-6e811ae17afa",
   "metadata": {},
   "outputs": [
    {
     "data": {
      "text/plain": [
       "[1, 2, 3, 4]"
      ]
     },
     "execution_count": 67,
     "metadata": {},
     "output_type": "execute_result"
    }
   ],
   "source": [
    "# grow list by appending one element at a time\n",
    "x=[1]\n",
    "x= x + [2]\n",
    "x= x + [3]\n",
    "x= x + [4]\n",
    "x"
   ]
  },
  {
   "cell_type": "code",
   "execution_count": 68,
   "id": "a6ee4736-4a7a-46f1-be8d-88dd9959ee25",
   "metadata": {},
   "outputs": [
    {
     "data": {
      "text/plain": [
       "[1, 2, 3, 4]"
      ]
     },
     "execution_count": 68,
     "metadata": {},
     "output_type": "execute_result"
    }
   ],
   "source": [
    "# alternate ways to append:\n",
    "x=[1]\n",
    "x+= [2]\n",
    "x+= [3]\n",
    "x+= [4]\n",
    "x"
   ]
  },
  {
   "cell_type": "code",
   "execution_count": 71,
   "id": "4c10e8df-ff4c-4383-8764-f7b1aba4ed04",
   "metadata": {},
   "outputs": [
    {
     "data": {
      "text/plain": [
       "[1, 2, 3, 4]"
      ]
     },
     "execution_count": 71,
     "metadata": {},
     "output_type": "execute_result"
    }
   ],
   "source": [
    "#append function, which runs 1.5x faster than the rest\n",
    "x=[1]\n",
    "x.append(2)\n",
    "x.append(3)\n",
    "x.append(4)\n",
    "x"
   ]
  },
  {
   "cell_type": "code",
   "execution_count": null,
   "id": "601f9648-a7d7-46b7-b4e2-eb1e51f2123f",
   "metadata": {},
   "outputs": [],
   "source": [
    "#to incorperate multiple elements, use can extend() and append()"
   ]
  },
  {
   "cell_type": "code",
   "execution_count": 72,
   "id": "99684010-eb5d-4692-ad9c-d77270117981",
   "metadata": {},
   "outputs": [
    {
     "data": {
      "text/plain": [
       "[1, 2, 3, 4, 5, 6]"
      ]
     },
     "execution_count": 72,
     "metadata": {},
     "output_type": "execute_result"
    }
   ],
   "source": [
    "x = [1, 2, 3]\n",
    "x += [4, 5, 6]\n",
    "x"
   ]
  },
  {
   "cell_type": "code",
   "execution_count": 73,
   "id": "22026935-5b6c-42c5-ad0c-4396dcc140b3",
   "metadata": {},
   "outputs": [
    {
     "data": {
      "text/plain": [
       "[1, 2, 3, 4, 5, 6]"
      ]
     },
     "execution_count": 73,
     "metadata": {},
     "output_type": "execute_result"
    }
   ],
   "source": [
    "x=[1, 2, 3]\n",
    "x.extend([4, 5, 6])\n",
    "x"
   ]
  },
  {
   "cell_type": "code",
   "execution_count": 74,
   "id": "da9dcb52-d3e0-4ff2-b627-93e78c118333",
   "metadata": {},
   "outputs": [
    {
     "data": {
      "text/plain": [
       "[1, 2, 3, [4, 5, 6]]"
      ]
     },
     "execution_count": 74,
     "metadata": {},
     "output_type": "execute_result"
    }
   ],
   "source": [
    "x=[1, 2, 3]\n",
    "x.append([4, 5, 6])\n",
    "x\n",
    "#the appended parts are bracketed"
   ]
  },
  {
   "attachments": {},
   "cell_type": "markdown",
   "id": "1af8c90a",
   "metadata": {},
   "source": [
    "# Some loose ends"
   ]
  },
  {
   "attachments": {},
   "cell_type": "markdown",
   "id": "8c7767d3",
   "metadata": {},
   "source": [
    "## 1.5 Tuples"
   ]
  },
  {
   "cell_type": "code",
   "execution_count": 75,
   "id": "993c1d57-cc58-48cb-8d59-79cc47497c65",
   "metadata": {},
   "outputs": [],
   "source": [
    "a=(1, 2, 3)     # defining tuple"
   ]
  },
  {
   "cell_type": "code",
   "execution_count": 77,
   "id": "ece06b9c-0a88-41a7-976a-f86a0fb30a1a",
   "metadata": {},
   "outputs": [
    {
     "name": "stdout",
     "output_type": "stream",
     "text": [
      "1\n",
      "3\n"
     ]
    }
   ],
   "source": [
    "print(a[0]) # access data\n",
    "print (a[2])"
   ]
  },
  {
   "cell_type": "code",
   "execution_count": 79,
   "id": "3454d010-ada0-4af5-aee3-4f7420ffd614",
   "metadata": {},
   "outputs": [
    {
     "ename": "TypeError",
     "evalue": "'tuple' object does not support item assignment",
     "output_type": "error",
     "traceback": [
      "\u001b[31m---------------------------------------------------------------------------\u001b[39m",
      "\u001b[31mTypeError\u001b[39m                                 Traceback (most recent call last)",
      "\u001b[36mCell\u001b[39m\u001b[36m \u001b[39m\u001b[32mIn[79]\u001b[39m\u001b[32m, line 1\u001b[39m\n\u001b[32m----> \u001b[39m\u001b[32m1\u001b[39m \u001b[43ma\u001b[49m\u001b[43m[\u001b[49m\u001b[32;43m0\u001b[39;49m\u001b[43m]\u001b[49m=-\u001b[32m1\u001b[39m\n\u001b[32m      2\u001b[39m a[\u001b[32m0\u001b[39m]+= [\u001b[32m10\u001b[39m] \u001b[38;5;66;03m#cannot work because cannot change the data inside\u001b[39;00m\n",
      "\u001b[31mTypeError\u001b[39m: 'tuple' object does not support item assignment"
     ]
    }
   ],
   "source": [
    "a[0]=-1\n",
    "a[0]+= [10] #cannot work because cannot change the data inside"
   ]
  },
  {
   "attachments": {},
   "cell_type": "markdown",
   "id": "87311c2f",
   "metadata": {},
   "source": [
    "## 1.6 Be VERY careful when copying"
   ]
  },
  {
   "cell_type": "code",
   "execution_count": 80,
   "id": "ab326e83-27b6-406f-9206-9f032a7f6c6a",
   "metadata": {},
   "outputs": [],
   "source": [
    "x=[1, 2, 3]\n",
    "y=x          \n",
    "z=x         #these are wrong"
   ]
  },
  {
   "cell_type": "code",
   "execution_count": 81,
   "id": "91061732-9e6a-4059-9363-166ae8c5c237",
   "metadata": {},
   "outputs": [],
   "source": [
    "x=[1, 2, 3]\n",
    "y=x.copy()\n",
    "z=x.copy()"
   ]
  },
  {
   "attachments": {},
   "cell_type": "markdown",
   "id": "2efcd2b4",
   "metadata": {},
   "source": [
    "## Footnotes"
   ]
  }
 ],
 "metadata": {
  "kernelspec": {
   "display_name": "Python 3 (ipykernel)",
   "language": "python",
   "name": "python3"
  },
  "language_info": {
   "codemirror_mode": {
    "name": "ipython",
    "version": 3
   },
   "file_extension": ".py",
   "mimetype": "text/x-python",
   "name": "python",
   "nbconvert_exporter": "python",
   "pygments_lexer": "ipython3",
   "version": "3.13.7"
  },
  "toc": {
   "base_numbering": 1,
   "nav_menu": {},
   "number_sections": true,
   "sideBar": true,
   "skip_h1_title": false,
   "title_cell": "Table of Contents",
   "title_sidebar": "Contents",
   "toc_cell": false,
   "toc_position": {},
   "toc_section_display": true,
   "toc_window_display": false
  },
  "vscode": {
   "interpreter": {
    "hash": "31f2aee4e71d21fbe5cf8b01ff0e069b9275f58929596ceb00d14d90e3e16cd6"
   }
  }
 },
 "nbformat": 4,
 "nbformat_minor": 5
}
