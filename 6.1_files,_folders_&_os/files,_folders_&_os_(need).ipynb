{
 "cells": [
  {
   "attachments": {},
   "cell_type": "markdown",
   "id": "123456",
   "metadata": {},
   "source": [
    "<div style=\"text-align:left;font-size:2em\"><span style=\"font-weight:bolder;font-size:1.25em\">SP2273 | Learning Portfolio</span><br><br><span style=\"font-weight:bold;color:darkred\">Files, Folders & OS (Need)</span></div>"
   ]
  },
  {
   "attachments": {},
   "cell_type": "markdown",
   "id": "b7b8ca23",
   "metadata": {},
   "source": [
    "# What to expect in this chapter"
   ]
  },
  {
   "attachments": {},
   "cell_type": "markdown",
   "id": "93d05307",
   "metadata": {},
   "source": [
    "# 1 Important concepts"
   ]
  },
  {
   "cell_type": "markdown",
   "id": "381202ff-0639-43a4-b7ec-8846145abddc",
   "metadata": {},
   "source": [
    "windows : *.exe\n",
    "\n",
    "mac: *\n"
   ]
  },
  {
   "attachments": {},
   "cell_type": "markdown",
   "id": "20ee8da0",
   "metadata": {},
   "source": [
    "## 1.1 Path"
   ]
  },
  {
   "cell_type": "code",
   "execution_count": 3,
   "id": "4d57acca-dac8-44bf-908d-30a5baa592bf",
   "metadata": {},
   "outputs": [],
   "source": [
    "# path: a way to specify the location on computer\n",
    "# can specify relatively or absolutely"
   ]
  },
  {
   "cell_type": "code",
   "execution_count": 28,
   "id": "79a588c1-3223-4cdb-8a01-a6d855786949",
   "metadata": {},
   "outputs": [],
   "source": [
    " # for windows: C:\\\\Users\\Chammika\\Desktop\\data-01.txt"
   ]
  },
  {
   "attachments": {},
   "cell_type": "markdown",
   "id": "5e8e8368",
   "metadata": {},
   "source": [
    "## 1.2 More about relative paths"
   ]
  },
  {
   "cell_type": "code",
   "execution_count": null,
   "id": "ed25d439-a0a3-4f94-b8d3-dce82d93be09",
   "metadata": {},
   "outputs": [],
   "source": [
    ".. #one folder above\n",
    "..\\data-files\\data-01.txt, would be the folder above data-files"
   ]
  },
  {
   "attachments": {},
   "cell_type": "markdown",
   "id": "75a1aacd",
   "metadata": {},
   "source": [
    "### macOS or Linux"
   ]
  },
  {
   "cell_type": "code",
   "execution_count": 29,
   "id": "5b389fe3-585a-481b-b063-8c1a02beb692",
   "metadata": {},
   "outputs": [],
   "source": [
    "# mac: Users/joanne/Documents\n",
    "# windows: \\\\Users\\Joannne\\Desktop\\data-01.txt\n",
    "# note of the diff in slashes (back/front slash)"
   ]
  },
  {
   "cell_type": "code",
   "execution_count": null,
   "id": "538606ba-df22-404b-af12-4ad448471292",
   "metadata": {},
   "outputs": [],
   "source": [
    "~\\Desktop\\data-01.txt ~ is home directory"
   ]
  },
  {
   "attachments": {},
   "cell_type": "markdown",
   "id": "2f43a1d1",
   "metadata": {},
   "source": [
    "## 1.3 Path separator"
   ]
  },
  {
   "cell_type": "code",
   "execution_count": 30,
   "id": "f2fdb65b-9af3-4151-acff-88408a9fb129",
   "metadata": {},
   "outputs": [],
   "source": [
    "# windows C:\\\\Users\\chammika\\Desktop\\data-01.txt\n",
    "# mac: /Users/chammika/Desktop/data-01.txt"
   ]
  },
  {
   "attachments": {},
   "cell_type": "markdown",
   "id": "8f5d6062",
   "metadata": {},
   "source": [
    "## 1.4 Text files vs. Binary files"
   ]
  },
  {
   "cell_type": "code",
   "execution_count": 31,
   "id": "b1b6ca34-da51-431e-9281-a7d989eb1725",
   "metadata": {},
   "outputs": [],
   "source": [
    "# text file: .txt, .md .csv (command seperated values)\n",
    "# binary files: .png"
   ]
  },
  {
   "attachments": {},
   "cell_type": "markdown",
   "id": "4c8a7437",
   "metadata": {},
   "source": [
    "## 1.5 Extensions"
   ]
  },
  {
   "cell_type": "code",
   "execution_count": null,
   "id": "c9cfc765-0936-4e34-ad33-6022d175e369",
   "metadata": {},
   "outputs": [],
   "source": [
    "# file names in the format name.extention\n",
    "# will tell OS what app to use to extract data\n",
    "# eg .slsx, .pptx"
   ]
  },
  {
   "attachments": {},
   "cell_type": "markdown",
   "id": "3b0acf9f",
   "metadata": {},
   "source": [
    "# 2 Opening and closing files"
   ]
  },
  {
   "attachments": {},
   "cell_type": "markdown",
   "id": "a74addbb",
   "metadata": {},
   "source": [
    "## 2.1 Reading data"
   ]
  },
  {
   "cell_type": "code",
   "execution_count": 2,
   "id": "77834728-f49f-4f37-bdf8-5b2883d648c8",
   "metadata": {},
   "outputs": [
    {
     "ename": "FileNotFoundError",
     "evalue": "[Errno 2] No such file or directory: 'spectrum-01.txt'",
     "output_type": "error",
     "traceback": [
      "\u001b[31m---------------------------------------------------------------------------\u001b[39m",
      "\u001b[31mFileNotFoundError\u001b[39m                         Traceback (most recent call last)",
      "\u001b[36mCell\u001b[39m\u001b[36m \u001b[39m\u001b[32mIn[2]\u001b[39m\u001b[32m, line 1\u001b[39m\n\u001b[32m----> \u001b[39m\u001b[32m1\u001b[39m \u001b[38;5;28;01mwith\u001b[39;00m \u001b[38;5;28;43mopen\u001b[39;49m\u001b[43m(\u001b[49m\u001b[33;43m'\u001b[39;49m\u001b[33;43mspectrum-01.txt\u001b[39;49m\u001b[33;43m'\u001b[39;49m\u001b[43m,\u001b[49m\u001b[43m \u001b[49m\u001b[33;43m'\u001b[39;49m\u001b[33;43mr\u001b[39;49m\u001b[33;43m'\u001b[39;49m\u001b[43m)\u001b[49m \u001b[38;5;28;01mas\u001b[39;00m file:\n\u001b[32m      2\u001b[39m     file_content = file.read()\n\u001b[32m      4\u001b[39m \u001b[38;5;28mprint\u001b[39m(file_content)\n",
      "\u001b[36mFile \u001b[39m\u001b[32m~/Documents/.venv/lib/python3.13/site-packages/IPython/core/interactiveshell.py:343\u001b[39m, in \u001b[36m_modified_open\u001b[39m\u001b[34m(file, *args, **kwargs)\u001b[39m\n\u001b[32m    336\u001b[39m \u001b[38;5;28;01mif\u001b[39;00m file \u001b[38;5;129;01min\u001b[39;00m {\u001b[32m0\u001b[39m, \u001b[32m1\u001b[39m, \u001b[32m2\u001b[39m}:\n\u001b[32m    337\u001b[39m     \u001b[38;5;28;01mraise\u001b[39;00m \u001b[38;5;167;01mValueError\u001b[39;00m(\n\u001b[32m    338\u001b[39m         \u001b[33mf\u001b[39m\u001b[33m\"\u001b[39m\u001b[33mIPython won\u001b[39m\u001b[33m'\u001b[39m\u001b[33mt let you open fd=\u001b[39m\u001b[38;5;132;01m{\u001b[39;00mfile\u001b[38;5;132;01m}\u001b[39;00m\u001b[33m by default \u001b[39m\u001b[33m\"\u001b[39m\n\u001b[32m    339\u001b[39m         \u001b[33m\"\u001b[39m\u001b[33mas it is likely to crash IPython. If you know what you are doing, \u001b[39m\u001b[33m\"\u001b[39m\n\u001b[32m    340\u001b[39m         \u001b[33m\"\u001b[39m\u001b[33myou can use builtins\u001b[39m\u001b[33m'\u001b[39m\u001b[33m open.\u001b[39m\u001b[33m\"\u001b[39m\n\u001b[32m    341\u001b[39m     )\n\u001b[32m--> \u001b[39m\u001b[32m343\u001b[39m \u001b[38;5;28;01mreturn\u001b[39;00m \u001b[43mio_open\u001b[49m\u001b[43m(\u001b[49m\u001b[43mfile\u001b[49m\u001b[43m,\u001b[49m\u001b[43m \u001b[49m\u001b[43m*\u001b[49m\u001b[43margs\u001b[49m\u001b[43m,\u001b[49m\u001b[43m \u001b[49m\u001b[43m*\u001b[49m\u001b[43m*\u001b[49m\u001b[43mkwargs\u001b[49m\u001b[43m)\u001b[49m\n",
      "\u001b[31mFileNotFoundError\u001b[39m: [Errno 2] No such file or directory: 'spectrum-01.txt'"
     ]
    }
   ],
   "source": [
    "with open('spectrum-01.txt', 'r') as file: # pretend i downloaded it\n",
    "    file_content = file.read()             # the contents of the file will be printed\n",
    "                                            # r is read, w overwrite the file\n",
    "print(file_content)"
   ]
  },
  {
   "attachments": {},
   "cell_type": "markdown",
   "id": "d89bf36d",
   "metadata": {},
   "source": [
    "## 2.2 Writing data"
   ]
  },
  {
   "cell_type": "code",
   "execution_count": 49,
   "id": "a1146461-a3d9-457a-a739-e2a2cbcba54d",
   "metadata": {},
   "outputs": [],
   "source": [
    "with open('template.txt', 'w') as file:\n",
    "    file.write('ogggg')"
   ]
  },
  {
   "attachments": {},
   "cell_type": "markdown",
   "id": "18c343a8",
   "metadata": {},
   "source": [
    "### Writing to a file in one go"
   ]
  },
  {
   "cell_type": "code",
   "execution_count": null,
   "id": "11463d0e",
   "metadata": {},
   "outputs": [],
   "source": [
    "\n",
    "# Your code here\n"
   ]
  },
  {
   "attachments": {},
   "cell_type": "markdown",
   "id": "14eb822c",
   "metadata": {},
   "source": [
    "### Writing to a file, line by line"
   ]
  },
  {
   "cell_type": "code",
   "execution_count": 25,
   "id": "ba98bd9b",
   "metadata": {},
   "outputs": [
    {
     "name": "stdout",
     "output_type": "stream",
     "text": [
      "Dear XYZ,\n",
      "\n",
      "Thank you for your help despite not doing shit\n",
      "\n",
      "Me\n"
     ]
    }
   ],
   "source": [
    "people = ['frank', 'sally', 'lousie']\n",
    "\n",
    "with open('template.txt', 'r') as file:\n",
    "    template_text = file.read()\n",
    "print(template_text)"
   ]
  },
  {
   "cell_type": "code",
   "execution_count": 27,
   "id": "27a55fb7-8460-4163-a3ba-e66f366b4cba",
   "metadata": {},
   "outputs": [
    {
     "name": "stdout",
     "output_type": "stream",
     "text": [
      "I am done with the letter_for_frank.txt\n",
      "I am done with the letter_for_sally.txt\n",
      "I am done with the letter_for_lousie.txt\n"
     ]
    }
   ],
   "source": [
    "people = ['frank', 'sally', 'lousie']\n",
    "\n",
    "for name in people:\n",
    "    letter_text = template_text.replace ('XYZ', name)\n",
    "    filename = f'letter_for_{name}.txt'\n",
    "\n",
    "    with open (filename, 'w') as file:\n",
    "        file.write(letter_text)\n",
    "    print ('I am done with the', filename)"
   ]
  },
  {
   "cell_type": "code",
   "execution_count": 35,
   "id": "cac98aa5-22fd-4c82-aac0-37ad25842dfa",
   "metadata": {},
   "outputs": [],
   "source": [
    "with open('template.md', 'w') as file:\n",
    "    file.write('ogggg')"
   ]
  },
  {
   "cell_type": "code",
   "execution_count": 40,
   "id": "12ec5b1f-0455-4aa7-b3c5-9eca3617c169",
   "metadata": {},
   "outputs": [
    {
     "name": "stdout",
     "output_type": "stream",
     "text": [
      "ogggg\n"
     ]
    }
   ],
   "source": [
    "with open ('template.md', 'r') as file:\n",
    "    template_md = file.read()\n",
    "print(template_md)"
   ]
  },
  {
   "attachments": {},
   "cell_type": "markdown",
   "id": "56cc071c",
   "metadata": {},
   "source": [
    "# 3 Some useful packages"
   ]
  },
  {
   "cell_type": "code",
   "execution_count": 41,
   "id": "7b0d48f9-3a9a-4fb1-a65c-448a51fda772",
   "metadata": {},
   "outputs": [],
   "source": [
    "import os\n",
    "import glob\n",
    "import shutil"
   ]
  },
  {
   "attachments": {},
   "cell_type": "markdown",
   "id": "5370a0c5",
   "metadata": {},
   "source": [
    "# 4 OS safe paths"
   ]
  },
  {
   "cell_type": "code",
   "execution_count": 42,
   "id": "7729e3d3-4ea8-495b-b6d3-c4c443564822",
   "metadata": {},
   "outputs": [
    {
     "name": "stdout",
     "output_type": "stream",
     "text": [
      "all-data/sg-data/data-01.txt\n"
     ]
    }
   ],
   "source": [
    "path = os.path.join('all-data', 'sg-data', 'data-01.txt')\n",
    "print(path)     #use to access data-01.txt, which is located \n",
    "                # at sg-data which is located at all-data"
   ]
  },
  {
   "attachments": {},
   "cell_type": "markdown",
   "id": "352ed6da",
   "metadata": {},
   "source": [
    "# 5 Folders"
   ]
  },
  {
   "attachments": {},
   "cell_type": "markdown",
   "id": "67d96cdb",
   "metadata": {},
   "source": [
    "## 5.1 Creating folders"
   ]
  },
  {
   "cell_type": "code",
   "execution_count": 43,
   "id": "b721d948-5d42-4705-a22c-c5cdf8a9bd80",
   "metadata": {},
   "outputs": [
    {
     "name": "stdout",
     "output_type": "stream",
     "text": [
      "Creating people/John\n",
      "Creating people/Paul\n",
      "Creating people/Ringo\n"
     ]
    }
   ],
   "source": [
    "#os.mkdir is used to make folders\n",
    "\n",
    "os.mkdir('people')\n",
    "\n",
    "for person in ['John', 'Paul', 'Ringo']:\n",
    "    path = os.path.join('people', person)\n",
    "    print(f'Creating {path}')\n",
    "    os.mkdir(path)   #created folder is people --> john, paul, ringo"
   ]
  },
  {
   "attachments": {},
   "cell_type": "markdown",
   "id": "f9274a82",
   "metadata": {},
   "source": [
    "## 5.2 Checking for existence"
   ]
  },
  {
   "attachments": {},
   "cell_type": "markdown",
   "id": "a6885f47",
   "metadata": {},
   "source": [
    "### Using try-except"
   ]
  },
  {
   "cell_type": "code",
   "execution_count": 45,
   "id": "d6a74f95",
   "metadata": {},
   "outputs": [
    {
     "name": "stdout",
     "output_type": "stream",
     "text": [
      "people/John already exists; skipping creation.\n",
      "people/Paul already exists; skipping creation.\n",
      "people/Ringo already exists; skipping creation.\n",
      "Creating people/Bob\n"
     ]
    }
   ],
   "source": [
    "for person in ['John', 'Paul', 'Ringo', 'Bob']:\n",
    "    path = os.path.join('people', person)\n",
    "    try:\n",
    "        os.mkdir(path)\n",
    "        print(f'Creating {path}')\n",
    "    except FileExistsError:\n",
    "        print(f'{path} already exists; skipping creation.')"
   ]
  },
  {
   "attachments": {},
   "cell_type": "markdown",
   "id": "7135f725",
   "metadata": {},
   "source": [
    "### Using os.path.exists()"
   ]
  },
  {
   "cell_type": "code",
   "execution_count": 46,
   "id": "d0e3adfe",
   "metadata": {},
   "outputs": [
    {
     "name": "stdout",
     "output_type": "stream",
     "text": [
      "people/John already exists; skipping creation.\n",
      "people/Paul already exists; skipping creation.\n",
      "people/Ringo already exists; skipping creation.\n",
      "people/Bob already exists; skipping creation.\n",
      "Creating people/Viena\n"
     ]
    }
   ],
   "source": [
    "for person in ['John', 'Paul', 'Ringo', 'Bob', 'Viena']:\n",
    "    path = os.path.join('people', person)\n",
    "    if os.path.exists(path):\n",
    "        print(f'{path} already exists; skipping creation.')\n",
    "    else:\n",
    "        os.mkdir(path)\n",
    "        print(f'Creating {path}')"
   ]
  },
  {
   "attachments": {},
   "cell_type": "markdown",
   "id": "5d471491",
   "metadata": {},
   "source": [
    "## 5.3 Copying files"
   ]
  },
  {
   "cell_type": "code",
   "execution_count": 48,
   "id": "27cbd139-69e2-4731-bd65-be20edb5e6be",
   "metadata": {},
   "outputs": [
    {
     "ename": "FileNotFoundError",
     "evalue": "[Errno 2] No such file or directory: 'sp2273_logo.png'",
     "output_type": "error",
     "traceback": [
      "\u001b[31m---------------------------------------------------------------------------\u001b[39m",
      "\u001b[31mFileNotFoundError\u001b[39m                         Traceback (most recent call last)",
      "\u001b[36mCell\u001b[39m\u001b[36m \u001b[39m\u001b[32mIn[48]\u001b[39m\u001b[32m, line 3\u001b[39m\n\u001b[32m      1\u001b[39m \u001b[38;5;28;01mfor\u001b[39;00m person \u001b[38;5;129;01min\u001b[39;00m [\u001b[33m'\u001b[39m\u001b[33mJohn\u001b[39m\u001b[33m'\u001b[39m, \u001b[33m'\u001b[39m\u001b[33mPaul\u001b[39m\u001b[33m'\u001b[39m, \u001b[33m'\u001b[39m\u001b[33mRingo\u001b[39m\u001b[33m'\u001b[39m]:\n\u001b[32m      2\u001b[39m     path_to_destination = os.path.join(\u001b[33m'\u001b[39m\u001b[33mpeople\u001b[39m\u001b[33m'\u001b[39m, person)\n\u001b[32m----> \u001b[39m\u001b[32m3\u001b[39m     \u001b[43mshutil\u001b[49m\u001b[43m.\u001b[49m\u001b[43mcopy\u001b[49m\u001b[43m(\u001b[49m\u001b[33;43m'\u001b[39;49m\u001b[33;43msp2273_logo.png\u001b[39;49m\u001b[33;43m'\u001b[39;49m\u001b[43m,\u001b[49m\u001b[43m \u001b[49m\u001b[43mpath_to_destination\u001b[49m\u001b[43m)\u001b[49m\n\u001b[32m      4\u001b[39m     \u001b[38;5;28mprint\u001b[39m(\u001b[33mf\u001b[39m\u001b[33m'\u001b[39m\u001b[33mCopied file to \u001b[39m\u001b[38;5;132;01m{\u001b[39;00mpath_to_destination\u001b[38;5;132;01m}\u001b[39;00m\u001b[33m'\u001b[39m)\n",
      "\u001b[36mFile \u001b[39m\u001b[32m/opt/homebrew/Cellar/python@3.13/3.13.7/Frameworks/Python.framework/Versions/3.13/lib/python3.13/shutil.py:428\u001b[39m, in \u001b[36mcopy\u001b[39m\u001b[34m(src, dst, follow_symlinks)\u001b[39m\n\u001b[32m    426\u001b[39m \u001b[38;5;28;01mif\u001b[39;00m os.path.isdir(dst):\n\u001b[32m    427\u001b[39m     dst = os.path.join(dst, os.path.basename(src))\n\u001b[32m--> \u001b[39m\u001b[32m428\u001b[39m \u001b[43mcopyfile\u001b[49m\u001b[43m(\u001b[49m\u001b[43msrc\u001b[49m\u001b[43m,\u001b[49m\u001b[43m \u001b[49m\u001b[43mdst\u001b[49m\u001b[43m,\u001b[49m\u001b[43m \u001b[49m\u001b[43mfollow_symlinks\u001b[49m\u001b[43m=\u001b[49m\u001b[43mfollow_symlinks\u001b[49m\u001b[43m)\u001b[49m\n\u001b[32m    429\u001b[39m copymode(src, dst, follow_symlinks=follow_symlinks)\n\u001b[32m    430\u001b[39m \u001b[38;5;28;01mreturn\u001b[39;00m dst\n",
      "\u001b[36mFile \u001b[39m\u001b[32m/opt/homebrew/Cellar/python@3.13/3.13.7/Frameworks/Python.framework/Versions/3.13/lib/python3.13/shutil.py:260\u001b[39m, in \u001b[36mcopyfile\u001b[39m\u001b[34m(src, dst, follow_symlinks)\u001b[39m\n\u001b[32m    258\u001b[39m     os.symlink(os.readlink(src), dst)\n\u001b[32m    259\u001b[39m \u001b[38;5;28;01melse\u001b[39;00m:\n\u001b[32m--> \u001b[39m\u001b[32m260\u001b[39m     \u001b[38;5;28;01mwith\u001b[39;00m \u001b[38;5;28;43mopen\u001b[39;49m\u001b[43m(\u001b[49m\u001b[43msrc\u001b[49m\u001b[43m,\u001b[49m\u001b[43m \u001b[49m\u001b[33;43m'\u001b[39;49m\u001b[33;43mrb\u001b[39;49m\u001b[33;43m'\u001b[39;49m\u001b[43m)\u001b[49m \u001b[38;5;28;01mas\u001b[39;00m fsrc:\n\u001b[32m    261\u001b[39m         \u001b[38;5;28;01mtry\u001b[39;00m:\n\u001b[32m    262\u001b[39m             \u001b[38;5;28;01mwith\u001b[39;00m \u001b[38;5;28mopen\u001b[39m(dst, \u001b[33m'\u001b[39m\u001b[33mwb\u001b[39m\u001b[33m'\u001b[39m) \u001b[38;5;28;01mas\u001b[39;00m fdst:\n\u001b[32m    263\u001b[39m                 \u001b[38;5;66;03m# macOS\u001b[39;00m\n",
      "\u001b[31mFileNotFoundError\u001b[39m: [Errno 2] No such file or directory: 'sp2273_logo.png'"
     ]
    }
   ],
   "source": []
  },
  {
   "attachments": {},
   "cell_type": "markdown",
   "id": "85a109ef",
   "metadata": {},
   "source": [
    "# 6 Listing and looking for files"
   ]
  },
  {
   "cell_type": "code",
   "execution_count": null,
   "id": "73054c3e-2624-4b86-a041-2dfa7fca2a0c",
   "metadata": {},
   "outputs": [],
   "source": []
  },
  {
   "attachments": {},
   "cell_type": "markdown",
   "id": "4357f27d",
   "metadata": {},
   "source": [
    "# 7 Extracting file info"
   ]
  },
  {
   "attachments": {},
   "cell_type": "markdown",
   "id": "cd6c1e03",
   "metadata": {},
   "source": [
    "# 8 Deleting stuff"
   ]
  }
 ],
 "metadata": {
  "kernelspec": {
   "display_name": "Python 3 (ipykernel)",
   "language": "python",
   "name": "python3"
  },
  "language_info": {
   "codemirror_mode": {
    "name": "ipython",
    "version": 3
   },
   "file_extension": ".py",
   "mimetype": "text/x-python",
   "name": "python",
   "nbconvert_exporter": "python",
   "pygments_lexer": "ipython3",
   "version": "3.13.7"
  },
  "toc": {
   "base_numbering": 1,
   "nav_menu": {},
   "number_sections": true,
   "sideBar": true,
   "skip_h1_title": false,
   "title_cell": "Table of Contents",
   "title_sidebar": "Contents",
   "toc_cell": false,
   "toc_position": {},
   "toc_section_display": true,
   "toc_window_display": false
  },
  "vscode": {
   "interpreter": {
    "hash": "31f2aee4e71d21fbe5cf8b01ff0e069b9275f58929596ceb00d14d90e3e16cd6"
   }
  }
 },
 "nbformat": 4,
 "nbformat_minor": 5
}
