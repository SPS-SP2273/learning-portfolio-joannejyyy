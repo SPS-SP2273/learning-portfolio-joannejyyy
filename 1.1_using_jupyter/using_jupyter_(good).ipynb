{
 "cells": [
  {
   "attachments": {},
   "cell_type": "markdown",
   "id": "123456",
   "metadata": {},
   "source": [
    "<div style=\"text-align:left;font-size:2em\"><span style=\"font-weight:bolder;font-size:1.25em\">SP2273 | Learning Portfolio</span><br><br><span style=\"font-weight:bold;color:darkred\">Using Jupyter (Good)</span></div>"
   ]
  },
  {
   "attachments": {},
   "cell_type": "markdown",
   "id": "1c6d466a",
   "metadata": {},
   "source": [
    "# What to expect in this chapter"
   ]
  },
  {
   "attachments": {},
   "cell_type": "markdown",
   "id": "9c8f36aa",
   "metadata": {},
   "source": [
    "# 1 Some tips and tricks"
   ]
  },
  {
   "attachments": {},
   "cell_type": "markdown",
   "id": "b5417521",
   "metadata": {},
   "source": [
    "## 1.1 Keyboard Shortcuts"
   ]
  },
  {
   "attachments": {},
   "cell_type": "markdown",
   "id": "6973fc4a",
   "metadata": {},
   "source": [
    "### Things to note"
   ]
  },
  {
   "cell_type": "code",
   "execution_count": 1,
   "id": "1cc5b9ea",
   "metadata": {},
   "outputs": [
    {
     "name": "stdout",
     "output_type": "stream",
     "text": [
      "hello world\n"
     ]
    }
   ],
   "source": [
    "print ('hello world')\n",
    "\n"
   ]
  },
  {
   "cell_type": "code",
   "execution_count": 3,
   "id": "6c5def5e-68fe-4cb2-83b2-a53125e84a12",
   "metadata": {},
   "outputs": [
    {
     "name": "stdout",
     "output_type": "stream",
     "text": [
      "testing\n"
     ]
    }
   ],
   "source": [
    "print ('testing')"
   ]
  },
  {
   "cell_type": "markdown",
   "id": "eeb3dfb5-aef9-403f-ba9f-492d8298e331",
   "metadata": {},
   "source": [
    "this is markdown"
   ]
  },
  {
   "cell_type": "code",
   "execution_count": null,
   "id": "7e94efb6-8486-4474-b851-d5d450f0b8f9",
   "metadata": {},
   "outputs": [],
   "source": [
    "created a new cell below\n"
   ]
  },
  {
   "cell_type": "raw",
   "id": "92c11b9b-dfdd-4995-8d40-329e32a571cb",
   "metadata": {},
   "source": [
    "created a new cell below"
   ]
  },
  {
   "cell_type": "code",
   "execution_count": 5,
   "id": "f43d4519-e25c-4733-a821-9ff52089a4a1",
   "metadata": {},
   "outputs": [
    {
     "name": "stdout",
     "output_type": "stream",
     "text": [
      "this is code\n"
     ]
    }
   ],
   "source": [
    "print ('this is code')"
   ]
  },
  {
   "cell_type": "markdown",
   "id": "878f4315-321f-40cb-a24e-4038ea8473c1",
   "metadata": {},
   "source": [
    "this is to be copied"
   ]
  },
  {
   "cell_type": "markdown",
   "id": "fd328527-445e-4413-bf04-e754d5b85e7d",
   "metadata": {},
   "source": [
    "this is to be copied"
   ]
  },
  {
   "attachments": {},
   "cell_type": "markdown",
   "id": "d4c8f279-9ca4-42c7-927a-f0c5fbad2fbf",
   "metadata": {},
   "source": [
    "this is to be merged \n",
    "\n",
    "with this cell "
   ]
  },
  {
   "cell_type": "markdown",
   "id": "a02c5aac-830e-4fc2-be54-89e25d086e60",
   "metadata": {},
   "source": [
    "i deleted one cell"
   ]
  },
  {
   "cell_type": "markdown",
   "id": "3153310e-076a-4165-aacd-849429db9523",
   "metadata": {},
   "source": [
    "shortcuts can be shown in esc h"
   ]
  },
  {
   "attachments": {},
   "cell_type": "markdown",
   "id": "7e8aaf38",
   "metadata": {},
   "source": [
    "## 1.2 Shell commands"
   ]
  },
  {
   "cell_type": "code",
   "execution_count": 7,
   "id": "7836167f-5d14-423d-967a-7e8949bc36c5",
   "metadata": {},
   "outputs": [],
   "source": [
    "!cd"
   ]
  },
  {
   "cell_type": "code",
   "execution_count": 8,
   "id": "0575fd6b-0110-4700-9cc7-686cdd1364c7",
   "metadata": {},
   "outputs": [
    {
     "name": "stdout",
     "output_type": "stream",
     "text": [
      "zsh:1: command not found: dir\n"
     ]
    }
   ],
   "source": [
    "!dir"
   ]
  },
  {
   "attachments": {},
   "cell_type": "markdown",
   "id": "872decbf",
   "metadata": {},
   "source": [
    "# 2 Install Notebook 7"
   ]
  },
  {
   "attachments": {},
   "cell_type": "markdown",
   "id": "4e6df20e",
   "metadata": {},
   "source": [
    "# Jupyter Extensions"
   ]
  },
  {
   "attachments": {},
   "cell_type": "markdown",
   "id": "74188f49",
   "metadata": {},
   "source": [
    "## Installing the extensions"
   ]
  },
  {
   "attachments": {},
   "cell_type": "markdown",
   "id": "8d5660be",
   "metadata": {},
   "source": [
    "## Enabling the extensions"
   ]
  },
  {
   "attachments": {},
   "cell_type": "markdown",
   "id": "b01274d5",
   "metadata": {},
   "source": [
    "# 3 Shell Magic"
   ]
  },
  {
   "attachments": {},
   "cell_type": "markdown",
   "id": "f9441032",
   "metadata": {},
   "source": [
    "# 4 The Kernel"
   ]
  }
 ],
 "metadata": {
  "kernelspec": {
   "display_name": "Python 3 (ipykernel)",
   "language": "python",
   "name": "python3"
  },
  "language_info": {
   "codemirror_mode": {
    "name": "ipython",
    "version": 3
   },
   "file_extension": ".py",
   "mimetype": "text/x-python",
   "name": "python",
   "nbconvert_exporter": "python",
   "pygments_lexer": "ipython3",
   "version": "3.13.6"
  },
  "toc": {
   "base_numbering": 1,
   "nav_menu": {},
   "number_sections": true,
   "sideBar": true,
   "skip_h1_title": false,
   "title_cell": "Table of Contents",
   "title_sidebar": "Contents",
   "toc_cell": false,
   "toc_position": {},
   "toc_section_display": true,
   "toc_window_display": false
  },
  "vscode": {
   "interpreter": {
    "hash": "31f2aee4e71d21fbe5cf8b01ff0e069b9275f58929596ceb00d14d90e3e16cd6"
   }
  }
 },
 "nbformat": 4,
 "nbformat_minor": 5
}
