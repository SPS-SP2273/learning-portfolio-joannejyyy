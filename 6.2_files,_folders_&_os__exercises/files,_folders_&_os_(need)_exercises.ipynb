{
 "cells": [
  {
   "attachments": {},
   "cell_type": "markdown",
   "id": "123456",
   "metadata": {},
   "source": [
    "<div style=\"text-align:left;font-size:2em\"><span style=\"font-weight:bolder;font-size:1.25em\">SP2273 | Learning Portfolio</span><br><br><span style=\"font-weight:bold;color:darkred\">Files, Folders & OS (Need) Exercises</span></div>"
   ]
  },
  {
   "cell_type": "markdown",
   "id": "972eb552-6679-4feb-a391-a24ad6735707",
   "metadata": {},
   "source": [
    "# Task 1"
   ]
  },
  {
   "cell_type": "code",
   "execution_count": 43,
   "id": "867176f8-2dc4-4ac8-b2e6-51c573b14095",
   "metadata": {},
   "outputs": [
    {
     "data": {
      "text/plain": [
       "dict_keys(['jan', 'feb', 'mar', 'apr', 'may', 'jun', 'jul', 'aug', 'sep', 'oct', 'nov', 'dec'])"
      ]
     },
     "execution_count": 43,
     "metadata": {},
     "output_type": "execute_result"
    }
   ],
   "source": [
    "rename= {\n",
    "'jan': '01', 'feb': '02', 'mar': '03',\n",
    "'apr': '04', 'may': '05', 'jun': '06',\n",
    "'jul': '07', 'aug': '08', 'sep': '09',\n",
    "'oct': '10', 'nov': '11', 'dec': '12'\n",
    "}\n",
    "rename.keys()\n"
   ]
  },
  {
   "cell_type": "code",
   "execution_count": null,
   "id": "84491d88-ffe6-4d81-82cd-6b2c56f54094",
   "metadata": {},
   "outputs": [],
   "source": [
    "\n",
    "for filename in os.lisdir['os-collaboration-exercise-data']:"
   ]
  }
 ],
 "metadata": {
  "kernelspec": {
   "display_name": "Python 3 (ipykernel)",
   "language": "python",
   "name": "python3"
  },
  "language_info": {
   "codemirror_mode": {
    "name": "ipython",
    "version": 3
   },
   "file_extension": ".py",
   "mimetype": "text/x-python",
   "name": "python",
   "nbconvert_exporter": "python",
   "pygments_lexer": "ipython3",
   "version": "3.13.7"
  },
  "toc": {
   "base_numbering": 1,
   "nav_menu": {},
   "number_sections": true,
   "sideBar": true,
   "skip_h1_title": false,
   "title_cell": "Table of Contents",
   "title_sidebar": "Contents",
   "toc_cell": false,
   "toc_position": {},
   "toc_section_display": true,
   "toc_window_display": false
  },
  "vscode": {
   "interpreter": {
    "hash": "31f2aee4e71d21fbe5cf8b01ff0e069b9275f58929596ceb00d14d90e3e16cd6"
   }
  }
 },
 "nbformat": 4,
 "nbformat_minor": 5
}
