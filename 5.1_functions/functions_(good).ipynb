{
 "cells": [
  {
   "attachments": {},
   "cell_type": "markdown",
   "id": "123456",
   "metadata": {},
   "source": [
    "<div style=\"text-align:left;font-size:2em\"><span style=\"font-weight:bolder;font-size:1.25em\">SP2273 | Learning Portfolio</span><br><br><span style=\"font-weight:bold;color:darkred\">Functions (Good)</span></div>"
   ]
  },
  {
   "attachments": {},
   "cell_type": "markdown",
   "id": "5e43db57",
   "metadata": {},
   "source": [
    "# What to expect in this chapter"
   ]
  },
  {
   "attachments": {},
   "cell_type": "markdown",
   "id": "3037b7b3",
   "metadata": {},
   "source": [
    "# 1 Checks, balances, and contingencies"
   ]
  },
  {
   "attachments": {},
   "cell_type": "markdown",
   "id": "8ded77cd",
   "metadata": {},
   "source": [
    "## 1.1 assert"
   ]
  },
  {
   "attachments": {},
   "cell_type": "markdown",
   "id": "862ea92f",
   "metadata": {},
   "source": [
    "## 1.2 try-except"
   ]
  },
  {
   "cell_type": "code",
   "execution_count": null,
   "id": "ba822bca-be83-427e-b41e-84ceb06cf288",
   "metadata": {},
   "outputs": [],
   "source": []
  },
  {
   "attachments": {},
   "cell_type": "markdown",
   "id": "1154e987",
   "metadata": {},
   "source": [
    "## 1.3 A simple suggestion"
   ]
  },
  {
   "attachments": {},
   "cell_type": "markdown",
   "id": "ec7c291b",
   "metadata": {},
   "source": [
    "# 2 Some loose ends"
   ]
  },
  {
   "attachments": {},
   "cell_type": "markdown",
   "id": "a8beb795",
   "metadata": {},
   "source": [
    "## 2.1 Positional, keyword and default arguments"
   ]
  },
  {
   "cell_type": "code",
   "execution_count": 15,
   "id": "b5fa0f78-e34f-4fb8-8e34-ddd6aef50781",
   "metadata": {},
   "outputs": [],
   "source": [
    "def side_by_side(c, a, b=3):\n",
    "    return f' {a:2d}`|{b:2d}| {c:2d}'"
   ]
  },
  {
   "cell_type": "code",
   "execution_count": 16,
   "id": "ca2723f0-5eab-4362-9e28-3528c5999e9d",
   "metadata": {},
   "outputs": [
    {
     "data": {
      "text/plain": [
       "'  2`| 3|  1'"
      ]
     },
     "execution_count": 16,
     "metadata": {},
     "output_type": "execute_result"
    }
   ],
   "source": [
    "side_by_side(1,2,3)"
   ]
  },
  {
   "attachments": {},
   "cell_type": "markdown",
   "id": "5004363e",
   "metadata": {},
   "source": [
    "## 2.2 Docstrings"
   ]
  },
  {
   "cell_type": "code",
   "execution_count": 18,
   "id": "1ae368c9-5b8c-4c44-95c8-6d7b5c20e87e",
   "metadata": {},
   "outputs": [],
   "source": [
    "def side_by_side (a, b, c = 42):\n",
    "    '''\n",
    "    this is a simple function that prints 3 numbers\n",
    "    '''\n",
    "    return f' {a:2d}`|{b:2d}| {c:2d}'"
   ]
  },
  {
   "cell_type": "code",
   "execution_count": 19,
   "id": "9793a9d6-39eb-4ed8-b5f8-abefb02c1176",
   "metadata": {},
   "outputs": [
    {
     "name": "stdout",
     "output_type": "stream",
     "text": [
      "Help on function side_by_side in module __main__:\n",
      "\n",
      "side_by_side(a, b, c=42)\n",
      "    this is a simple function that prints 3 numbers\n",
      "\n"
     ]
    }
   ],
   "source": [
    "help(side_by_side)"
   ]
  },
  {
   "attachments": {},
   "cell_type": "markdown",
   "id": "b0e238d9",
   "metadata": {},
   "source": [
    "## 2.3 Function are first-class citizens"
   ]
  },
  {
   "cell_type": "code",
   "execution_count": 22,
   "id": "ad3963e2-6cab-4083-a22e-c553f4e3b0d3",
   "metadata": {},
   "outputs": [],
   "source": [
    "def my_function(angle, trig_func):\n",
    "    return trig_func(angle)\n",
    "    "
   ]
  },
  {
   "cell_type": "code",
   "execution_count": 23,
   "id": "a2a44bc0-f1ed-4625-81d0-c4bfae64746e",
   "metadata": {},
   "outputs": [],
   "source": [
    "import numpy as np"
   ]
  },
  {
   "cell_type": "code",
   "execution_count": 26,
   "id": "b869693e-4e8c-4d26-a6bc-2d4df4581c43",
   "metadata": {},
   "outputs": [
    {
     "data": {
      "text/plain": [
       "12"
      ]
     },
     "execution_count": 26,
     "metadata": {},
     "output_type": "execute_result"
    }
   ],
   "source": [
    "my_function (2, lambda x: x**2 + x**3) #lambda is temporary function"
   ]
  },
  {
   "attachments": {},
   "cell_type": "markdown",
   "id": "eeef272e",
   "metadata": {},
   "source": [
    "## 2.4 More about unpacking"
   ]
  },
  {
   "cell_type": "code",
   "execution_count": 27,
   "id": "2eab18ad-5e56-47aa-96ff-119bfe12d4f9",
   "metadata": {},
   "outputs": [
    {
     "data": {
      "text/plain": [
       "(np.int64(1), [np.int64(2), np.int64(3)], np.int64(4))"
      ]
     },
     "execution_count": 27,
     "metadata": {},
     "output_type": "execute_result"
    }
   ],
   "source": [
    "x, *y, z = np.array([1,2,3,4])\n",
    "x, y, z"
   ]
  },
  {
   "cell_type": "code",
   "execution_count": null,
   "id": "53030956-120e-480c-ae5d-e83888672da1",
   "metadata": {},
   "outputs": [],
   "source": []
  }
 ],
 "metadata": {
  "kernelspec": {
   "display_name": "Python 3 (ipykernel)",
   "language": "python",
   "name": "python3"
  },
  "language_info": {
   "codemirror_mode": {
    "name": "ipython",
    "version": 3
   },
   "file_extension": ".py",
   "mimetype": "text/x-python",
   "name": "python",
   "nbconvert_exporter": "python",
   "pygments_lexer": "ipython3",
   "version": "3.13.7"
  },
  "toc": {
   "base_numbering": 1,
   "nav_menu": {},
   "number_sections": true,
   "sideBar": true,
   "skip_h1_title": false,
   "title_cell": "Table of Contents",
   "title_sidebar": "Contents",
   "toc_cell": false,
   "toc_position": {},
   "toc_section_display": true,
   "toc_window_display": false
  },
  "vscode": {
   "interpreter": {
    "hash": "31f2aee4e71d21fbe5cf8b01ff0e069b9275f58929596ceb00d14d90e3e16cd6"
   }
  }
 },
 "nbformat": 4,
 "nbformat_minor": 5
}
