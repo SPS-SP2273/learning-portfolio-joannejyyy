{
 "cells": [
  {
   "attachments": {},
   "cell_type": "markdown",
   "id": "123456",
   "metadata": {},
   "source": [
    "<div style=\"text-align:left;font-size:2em\"><span style=\"font-weight:bolder;font-size:1.25em\">SP2273 | Learning Portfolio</span><br><br><span style=\"font-weight:bold;color:darkred\">Functions (Good)</span></div>"
   ]
  },
  {
   "attachments": {},
   "cell_type": "markdown",
   "id": "5e43db57",
   "metadata": {},
   "source": [
    "# What to expect in this chapter"
   ]
  },
  {
   "attachments": {},
   "cell_type": "markdown",
   "id": "3037b7b3",
   "metadata": {},
   "source": [
    "# 1 Checks, balances, and contingencies"
   ]
  },
  {
   "attachments": {},
   "cell_type": "markdown",
   "id": "8ded77cd",
   "metadata": {},
   "source": [
    "## 1.1 assert"
   ]
  },
  {
   "cell_type": "code",
   "execution_count": 3,
   "id": "53514099-fde0-431a-a5c4-9e03ba99ba06",
   "metadata": {},
   "outputs": [],
   "source": [
    "# format: assert condition-to-check, messageb"
   ]
  },
  {
   "cell_type": "code",
   "execution_count": 7,
   "id": "c2f8b73f-16bc-42d9-9a94-bf404c002ddd",
   "metadata": {},
   "outputs": [],
   "source": [
    "assert x >= 0, \"x is becoming negative!\"\n",
    "# will run as long as it is true"
   ]
  },
  {
   "cell_type": "code",
   "execution_count": 6,
   "id": "16e4b23d-12fc-4962-8b2e-8ab1b34ba7b1",
   "metadata": {},
   "outputs": [],
   "source": [
    "x = 10\n",
    "assert x >= 0, \"x is becoming negative!\""
   ]
  },
  {
   "cell_type": "code",
   "execution_count": 5,
   "id": "2955a4c9-1d05-48e8-9e5b-23f3d772ef5f",
   "metadata": {},
   "outputs": [
    {
     "ename": "AssertionError",
     "evalue": "x is becoming negative!",
     "output_type": "error",
     "traceback": [
      "\u001b[31m---------------------------------------------------------------------------\u001b[39m",
      "\u001b[31mAssertionError\u001b[39m                            Traceback (most recent call last)",
      "\u001b[36mCell\u001b[39m\u001b[36m \u001b[39m\u001b[32mIn[5]\u001b[39m\u001b[32m, line 2\u001b[39m\n\u001b[32m      1\u001b[39m x = -\u001b[32m1\u001b[39m\n\u001b[32m----> \u001b[39m\u001b[32m2\u001b[39m \u001b[38;5;28;01massert\u001b[39;00m x >= \u001b[32m0\u001b[39m, \u001b[33m\"\u001b[39m\u001b[33mx is becoming negative!\u001b[39m\u001b[33m\"\u001b[39m\n",
      "\u001b[31mAssertionError\u001b[39m: x is becoming negative!"
     ]
    }
   ],
   "source": [
    "x = -1\n",
    "assert x >= 0, \"x is becoming negative!\""
   ]
  },
  {
   "attachments": {},
   "cell_type": "markdown",
   "id": "862ea92f",
   "metadata": {},
   "source": [
    "## 1.2 try-except"
   ]
  },
  {
   "cell_type": "code",
   "execution_count": 3,
   "id": "ba822bca-be83-427e-b41e-84ceb06cf288",
   "metadata": {},
   "outputs": [
    {
     "name": "stdin",
     "output_type": "stream",
     "text": [
      "Give me a number and I will calculate its square. 70\n"
     ]
    },
    {
     "name": "stdout",
     "output_type": "stream",
     "text": [
      "The square of 70 is 4900!\n"
     ]
    }
   ],
   "source": [
    "number=input(\"Give me a number and I will calculate its square.\")\n",
    "square=int(number)**2              # Convert English to number\n",
    "print(f'The square of {number} is {square}!')"
   ]
  },
  {
   "cell_type": "code",
   "execution_count": 2,
   "id": "38292936-384c-410c-a2fb-c1e2ac73874a",
   "metadata": {},
   "outputs": [
    {
     "name": "stdin",
     "output_type": "stream",
     "text": [
      "Give me a number and I will calculate its square. ha ah ha\n"
     ]
    },
    {
     "name": "stdout",
     "output_type": "stream",
     "text": [
      "Oh oh! I cannot square ha ah ha!\n"
     ]
    }
   ],
   "source": [
    "try:\n",
    "    number=input(\"Give me a number and I will calculate its square.\")\n",
    "    square=int(number)**2\n",
    "    print(f'The square of {number} is {square}!')\n",
    "except:\n",
    "    print(f\"Oh oh! I cannot square {number}!\")"
   ]
  },
  {
   "attachments": {},
   "cell_type": "markdown",
   "id": "1154e987",
   "metadata": {},
   "source": [
    "## 1.3 A simple suggestion"
   ]
  },
  {
   "attachments": {},
   "cell_type": "markdown",
   "id": "ec7c291b",
   "metadata": {},
   "source": [
    "# 2 Some loose ends"
   ]
  },
  {
   "attachments": {},
   "cell_type": "markdown",
   "id": "a8beb795",
   "metadata": {},
   "source": [
    "## 2.1 Positional, keyword and default arguments"
   ]
  },
  {
   "cell_type": "code",
   "execution_count": 15,
   "id": "b5fa0f78-e34f-4fb8-8e34-ddd6aef50781",
   "metadata": {},
   "outputs": [],
   "source": [
    "def side_by_side(c, a, b=3):\n",
    "    return f' {a:2d}`|{b:2d}| {c:2d}'"
   ]
  },
  {
   "cell_type": "code",
   "execution_count": 16,
   "id": "ca2723f0-5eab-4362-9e28-3528c5999e9d",
   "metadata": {},
   "outputs": [
    {
     "data": {
      "text/plain": [
       "'  2`| 3|  1'"
      ]
     },
     "execution_count": 16,
     "metadata": {},
     "output_type": "execute_result"
    }
   ],
   "source": [
    "# positional\n",
    "side_by_side(1,2,3)"
   ]
  },
  {
   "cell_type": "code",
   "execution_count": 6,
   "id": "cf31563e-09c6-46a9-b8ee-d1cf54ec15ee",
   "metadata": {},
   "outputs": [
    {
     "data": {
      "text/plain": [
       "' 1| 2| 3'"
      ]
     },
     "execution_count": 6,
     "metadata": {},
     "output_type": "execute_result"
    }
   ],
   "source": [
    "#keywords\n",
    "side_by_side(1, 2, 3)\n"
   ]
  },
  {
   "cell_type": "code",
   "execution_count": 8,
   "id": "e11a55e4-2178-4771-848d-61d1781cbba3",
   "metadata": {},
   "outputs": [
    {
     "data": {
      "text/plain": [
       "' 1| 2| 42'"
      ]
     },
     "execution_count": 8,
     "metadata": {},
     "output_type": "execute_result"
    }
   ],
   "source": [
    "#default\n",
    "side_by_side(1, b=2)"
   ]
  },
  {
   "cell_type": "code",
   "execution_count": 9,
   "id": "0d667e18-4aad-4855-b399-57c0c898752d",
   "metadata": {},
   "outputs": [
    {
     "data": {
      "text/plain": [
       "' 1| 2| 42'"
      ]
     },
     "execution_count": 9,
     "metadata": {},
     "output_type": "execute_result"
    }
   ],
   "source": [
    "side_by_side(1, 2)           # Two positional, 1 default\n",
    "## ' 1| 2| 42'\n",
    "side_by_side(1, 2, 3)        # Three positional\n",
    "## ' 1| 2| 3'\n",
    "side_by_side(a=1, b=2)       # Two keyword, 1 default\n",
    "## ' 1| 2| 42'\n",
    "side_by_side(c=3, b=1, a=2)  # Three keyword\n",
    "## ' 2| 1| 3'\n",
    "side_by_side(1, c=3, b=2)    # One positional, 2 keyword\n",
    "## ' 1| 2| 3'\n",
    "side_by_side(1, b=2)         # One positional, 1 keyword, 1 default\n",
    "## ' 1| 2| 42'\n",
    "\n",
    "##only keyword followed by positional does not work"
   ]
  },
  {
   "cell_type": "code",
   "execution_count": 11,
   "id": "f23e788d-a9ef-42f8-975c-4574d01a9e89",
   "metadata": {},
   "outputs": [
    {
     "ename": "SyntaxError",
     "evalue": "positional argument follows keyword argument (1780825803.py, line 3)",
     "output_type": "error",
     "traceback": [
      "  \u001b[36mCell\u001b[39m\u001b[36m \u001b[39m\u001b[32mIn[11]\u001b[39m\u001b[32m, line 3\u001b[39m\n\u001b[31m    \u001b[39m\u001b[31mside_by_side(a=2, 1)\u001b[39m\n                       ^\n\u001b[31mSyntaxError\u001b[39m\u001b[31m:\u001b[39m positional argument follows keyword argument\n"
     ]
    }
   ],
   "source": [
    "# this is how it don't work\n",
    "\n",
    "side_by_side(a=2, 1)                            "
   ]
  },
  {
   "attachments": {},
   "cell_type": "markdown",
   "id": "5004363e",
   "metadata": {},
   "source": [
    "## 2.2 Docstrings"
   ]
  },
  {
   "cell_type": "code",
   "execution_count": 12,
   "id": "1ae368c9-5b8c-4c44-95c8-6d7b5c20e87e",
   "metadata": {},
   "outputs": [],
   "source": [
    "def side_by_side (a, b, c = 42):\n",
    "    '''\n",
    "    this is a simple function that prints 3 numbers\n",
    "    and demo positional, keyword and default arguments\n",
    "    '''\n",
    "    return f' {a:2d}`|{b:2d}| {c:2d}'\n",
    "\n",
    "#docstring can use ''' or \"\"\" as long as there's three"
   ]
  },
  {
   "cell_type": "code",
   "execution_count": 13,
   "id": "9793a9d6-39eb-4ed8-b5f8-abefb02c1176",
   "metadata": {},
   "outputs": [
    {
     "name": "stdout",
     "output_type": "stream",
     "text": [
      "Help on function side_by_side in module __main__:\n",
      "\n",
      "side_by_side(a, b, c=42)\n",
      "    this is a simple function that prints 3 numbers\n",
      "    and demo positional, keyword and default arguments\n",
      "\n"
     ]
    }
   ],
   "source": [
    "help(side_by_side)\n",
    "\n",
    "#docstring text is used when asking for help."
   ]
  },
  {
   "attachments": {},
   "cell_type": "markdown",
   "id": "b0e238d9",
   "metadata": {},
   "source": [
    "## 2.3 Function are first-class citizens"
   ]
  },
  {
   "cell_type": "code",
   "execution_count": null,
   "id": "f4c52f47-ac6d-471d-b8a5-85c25f3a8134",
   "metadata": {},
   "outputs": [],
   "source": [
    "# same privileges as variables\n",
    "# can pass function as an argument to another function \n",
    "# (really need to not overuse here)"
   ]
  },
  {
   "cell_type": "code",
   "execution_count": 14,
   "id": "ad3963e2-6cab-4083-a22e-c553f4e3b0d3",
   "metadata": {},
   "outputs": [],
   "source": [
    "def my_function(angle, trig_func):\n",
    "    return trig_func(angle)"
   ]
  },
  {
   "cell_type": "code",
   "execution_count": 16,
   "id": "a2a44bc0-f1ed-4625-81d0-c4bfae64746e",
   "metadata": {},
   "outputs": [],
   "source": [
    "import numpy as np"
   ]
  },
  {
   "cell_type": "code",
   "execution_count": 17,
   "id": "a605f5b4-826b-41ad-b114-bf8a50e19dc6",
   "metadata": {},
   "outputs": [
    {
     "data": {
      "text/plain": [
       "np.float64(-1.0)"
      ]
     },
     "execution_count": 17,
     "metadata": {},
     "output_type": "execute_result"
    }
   ],
   "source": [
    "def my_function(angle, trig_function):\n",
    "        return trig_function(angle)\n",
    "\n",
    "# Let's use the function\n",
    "my_function(np.pi/2, np.sin)        \n",
    "## np.float64(1.0)\n",
    "my_function(np.pi/2, np.cos)        \n",
    "## np.float64(6.123233995736766e-17)\n",
    "my_function(np.pi/2, lambda x: np.cos(2*x))  \n",
    "## np.float64(-1.0)"
   ]
  },
  {
   "cell_type": "code",
   "execution_count": 26,
   "id": "b869693e-4e8c-4d26-a6bc-2d4df4581c43",
   "metadata": {},
   "outputs": [
    {
     "data": {
      "text/plain": [
       "12"
      ]
     },
     "execution_count": 26,
     "metadata": {},
     "output_type": "execute_result"
    }
   ],
   "source": [
    "my_function (2, lambda x: x**2 + x**3) #lambda is temporary function"
   ]
  },
  {
   "attachments": {},
   "cell_type": "markdown",
   "id": "eeef272e",
   "metadata": {},
   "source": [
    "## 2.4 More about unpacking"
   ]
  },
  {
   "cell_type": "code",
   "execution_count": 22,
   "id": "2eab18ad-5e56-47aa-96ff-119bfe12d4f9",
   "metadata": {},
   "outputs": [
    {
     "ename": "ValueError",
     "evalue": "too many values to unpack (expected 3)",
     "output_type": "error",
     "traceback": [
      "\u001b[31m---------------------------------------------------------------------------\u001b[39m",
      "\u001b[31mValueError\u001b[39m                                Traceback (most recent call last)",
      "\u001b[36mCell\u001b[39m\u001b[36m \u001b[39m\u001b[32mIn[22]\u001b[39m\u001b[32m, line 1\u001b[39m\n\u001b[32m----> \u001b[39m\u001b[32m1\u001b[39m x, y, z = np.array([\u001b[32m1\u001b[39m,\u001b[32m2\u001b[39m,\u001b[32m3\u001b[39m,\u001b[32m4\u001b[39m])\n\u001b[32m      2\u001b[39m x, y, z\n",
      "\u001b[31mValueError\u001b[39m: too many values to unpack (expected 3)"
     ]
    }
   ],
   "source": [
    "x, y, z = np.array([1,2,3,4])\n",
    "x, y, z"
   ]
  },
  {
   "cell_type": "code",
   "execution_count": 21,
   "id": "b764abe3-31dd-409e-be78-b4d51880c661",
   "metadata": {},
   "outputs": [
    {
     "data": {
      "text/plain": [
       "(np.int64(1), [np.int64(2), np.int64(3)], np.int64(4))"
      ]
     },
     "execution_count": 21,
     "metadata": {},
     "output_type": "execute_result"
    }
   ],
   "source": [
    "x, *y, z = np.array([1,2,3,4])\n",
    "x, y, z"
   ]
  },
  {
   "cell_type": "code",
   "execution_count": 18,
   "id": "53030956-120e-480c-ae5d-e83888672da1",
   "metadata": {},
   "outputs": [
    {
     "data": {
      "text/plain": [
       "(1, 2, 3)"
      ]
     },
     "execution_count": 18,
     "metadata": {},
     "output_type": "execute_result"
    }
   ],
   "source": [
    "x, y, z = [1, 2, 3]\n",
    "x, y, z"
   ]
  },
  {
   "cell_type": "code",
   "execution_count": 19,
   "id": "d62f8663-9ac8-4bde-9a90-b4127e77f791",
   "metadata": {},
   "outputs": [
    {
     "data": {
      "text/plain": [
       "(np.int64(1), np.int64(2), np.int64(3))"
      ]
     },
     "execution_count": 19,
     "metadata": {},
     "output_type": "execute_result"
    }
   ],
   "source": [
    "x, y, z = np.array([1, 2, 3])\n",
    "x, y, z"
   ]
  },
  {
   "cell_type": "code",
   "execution_count": 23,
   "id": "271575ec-8591-4791-9cd7-873d63478088",
   "metadata": {},
   "outputs": [
    {
     "data": {
      "text/plain": [
       "(1, 5)"
      ]
     },
     "execution_count": 23,
     "metadata": {},
     "output_type": "execute_result"
    }
   ],
   "source": [
    "x, *_, y = [1, 2, 3, 4, 5]\n",
    "x, y"
   ]
  }
 ],
 "metadata": {
  "kernelspec": {
   "display_name": "Python 3 (ipykernel)",
   "language": "python",
   "name": "python3"
  },
  "language_info": {
   "codemirror_mode": {
    "name": "ipython",
    "version": 3
   },
   "file_extension": ".py",
   "mimetype": "text/x-python",
   "name": "python",
   "nbconvert_exporter": "python",
   "pygments_lexer": "ipython3",
   "version": "3.13.7"
  },
  "toc": {
   "base_numbering": 1,
   "nav_menu": {},
   "number_sections": true,
   "sideBar": true,
   "skip_h1_title": false,
   "title_cell": "Table of Contents",
   "title_sidebar": "Contents",
   "toc_cell": false,
   "toc_position": {},
   "toc_section_display": true,
   "toc_window_display": false
  },
  "vscode": {
   "interpreter": {
    "hash": "31f2aee4e71d21fbe5cf8b01ff0e069b9275f58929596ceb00d14d90e3e16cd6"
   }
  }
 },
 "nbformat": 4,
 "nbformat_minor": 5
}
