{
 "cells": [
  {
   "attachments": {},
   "cell_type": "markdown",
   "id": "123456",
   "metadata": {},
   "source": [
    "<div style=\"text-align:left;font-size:2em\"><span style=\"font-weight:bolder;font-size:1.25em\">SP2273 | Learning Portfolio</span><br><br><span style=\"font-weight:bold;color:darkred\">Functions (Need) Exercises</span></div>"
   ]
  },
  {
   "cell_type": "markdown",
   "id": "11ff6988-6b42-49d9-9655-eef268bcaa89",
   "metadata": {},
   "source": [
    "# Exercise 1"
   ]
  },
  {
   "cell_type": "code",
   "execution_count": 10,
   "id": "80be8ad5-70e5-47f5-949a-0f50549fe2db",
   "metadata": {},
   "outputs": [
    {
     "data": {
      "text/plain": [
       "'Hello Batman! So, nice to meet you!'"
      ]
     },
     "execution_count": 10,
     "metadata": {},
     "output_type": "execute_result"
    }
   ],
   "source": [
    "def greeting(name):\n",
    "    if name == 'Batman':\n",
    "        return 'Hello Batman! So, nice to meet you!'\n",
    "    return f'Hello {name}!'\n",
    "\n",
    "greeting('Batman')"
   ]
  },
  {
   "cell_type": "markdown",
   "id": "c21dfe86-6b93-4354-8015-8c571f00680f",
   "metadata": {},
   "source": [
    "No i don't know why, but can assume its the tabs"
   ]
  },
  {
   "cell_type": "markdown",
   "id": "b163d2f6-6bca-4bbd-9ea2-22c46a5a85e1",
   "metadata": {},
   "source": [
    "# Exercise 2"
   ]
  },
  {
   "cell_type": "code",
   "execution_count": 61,
   "id": "452d4d79-4c86-44cc-9e02-14c32428888c",
   "metadata": {},
   "outputs": [
    {
     "ename": "TypeError",
     "evalue": "calculate_bmi() missing 1 required positional argument: 'bmi'",
     "output_type": "error",
     "traceback": [
      "\u001b[31m---------------------------------------------------------------------------\u001b[39m",
      "\u001b[31mTypeError\u001b[39m                                 Traceback (most recent call last)",
      "\u001b[36mCell\u001b[39m\u001b[36m \u001b[39m\u001b[32mIn[61]\u001b[39m\u001b[32m, line 8\u001b[39m\n\u001b[32m      6\u001b[39m weight = \u001b[32m20\u001b[39m\n\u001b[32m      7\u001b[39m height = \u001b[32m180\u001b[39m\n\u001b[32m----> \u001b[39m\u001b[32m8\u001b[39m \u001b[43mcalculate_bmi\u001b[49m\u001b[43m(\u001b[49m\u001b[43m)\u001b[49m\n",
      "\u001b[31mTypeError\u001b[39m: calculate_bmi() missing 1 required positional argument: 'bmi'"
     ]
    }
   ],
   "source": [
    "def calculate_bmi(bmi):\n",
    "    bmi = ( weight / (height ** 2))\n",
    "    if bmi < 18.5:\n",
    "        return 'Underweight'\n",
    "\n",
    "weight = 20\n",
    "height = 180\n",
    "calculate_bmi(bmi)"
   ]
  },
  {
   "cell_type": "markdown",
   "id": "00a69509-9528-4aa4-b59b-e86c2949985d",
   "metadata": {},
   "source": [
    "# Exercise 3"
   ]
  },
  {
   "cell_type": "code",
   "execution_count": 99,
   "id": "d013884b-fe31-4c3d-8ec5-564177d15860",
   "metadata": {},
   "outputs": [
    {
     "ename": "ValueError",
     "evalue": "factorial() not defined for negative values",
     "output_type": "error",
     "traceback": [
      "\u001b[31m---------------------------------------------------------------------------\u001b[39m",
      "\u001b[31mValueError\u001b[39m                                Traceback (most recent call last)",
      "\u001b[36mCell\u001b[39m\u001b[36m \u001b[39m\u001b[32mIn[99]\u001b[39m\u001b[32m, line 9\u001b[39m\n\u001b[32m      6\u001b[39m         \u001b[38;5;28;01mreturn\u001b[39;00m a\n\u001b[32m      7\u001b[39m     \u001b[38;5;28;01mreturn\u001b[39;00m \u001b[33m'\u001b[39m\u001b[33mUndefined\u001b[39m\u001b[33m'\u001b[39m\n\u001b[32m----> \u001b[39m\u001b[32m9\u001b[39m \u001b[43mfactorial\u001b[49m\u001b[43m(\u001b[49m\u001b[43m-\u001b[49m\u001b[32;43m2\u001b[39;49m\u001b[43m)\u001b[49m\n",
      "\u001b[36mCell\u001b[39m\u001b[36m \u001b[39m\u001b[32mIn[99]\u001b[39m\u001b[32m, line 4\u001b[39m, in \u001b[36mfactorial\u001b[39m\u001b[34m(n)\u001b[39m\n\u001b[32m      3\u001b[39m \u001b[38;5;28;01mdef\u001b[39;00m\u001b[38;5;250m \u001b[39m\u001b[34mfactorial\u001b[39m(n):\n\u001b[32m----> \u001b[39m\u001b[32m4\u001b[39m     a = \u001b[43mmath\u001b[49m\u001b[43m.\u001b[49m\u001b[43mfactorial\u001b[49m\u001b[43m(\u001b[49m\u001b[43mn\u001b[49m\u001b[43m)\u001b[49m\n\u001b[32m      5\u001b[39m     \u001b[38;5;28;01mif\u001b[39;00m a > \u001b[32m0\u001b[39m:\n\u001b[32m      6\u001b[39m         \u001b[38;5;28;01mreturn\u001b[39;00m a\n",
      "\u001b[31mValueError\u001b[39m: factorial() not defined for negative values"
     ]
    }
   ],
   "source": [
    "import math\n",
    "\n",
    "def factorial(n):\n",
    "    a = math.factorial(n)\n",
    "    if a > 0:\n",
    "        return a\n",
    "    return 'Undefined'\n",
    "\n",
    "factorial(-2)"
   ]
  },
  {
   "cell_type": "code",
   "execution_count": null,
   "id": "2f39cdcd-34d4-45a5-8f7b-d7d0b72dd7c0",
   "metadata": {},
   "outputs": [],
   "source": []
  }
 ],
 "metadata": {
  "kernelspec": {
   "display_name": "Python 3 (ipykernel)",
   "language": "python",
   "name": "python3"
  },
  "language_info": {
   "codemirror_mode": {
    "name": "ipython",
    "version": 3
   },
   "file_extension": ".py",
   "mimetype": "text/x-python",
   "name": "python",
   "nbconvert_exporter": "python",
   "pygments_lexer": "ipython3",
   "version": "3.13.7"
  },
  "toc": {
   "base_numbering": 1,
   "nav_menu": {},
   "number_sections": true,
   "sideBar": true,
   "skip_h1_title": false,
   "title_cell": "Table of Contents",
   "title_sidebar": "Contents",
   "toc_cell": false,
   "toc_position": {},
   "toc_section_display": true,
   "toc_window_display": false
  },
  "vscode": {
   "interpreter": {
    "hash": "31f2aee4e71d21fbe5cf8b01ff0e069b9275f58929596ceb00d14d90e3e16cd6"
   }
  }
 },
 "nbformat": 4,
 "nbformat_minor": 5
}
