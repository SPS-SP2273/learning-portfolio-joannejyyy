{
 "cells": [
  {
   "attachments": {},
   "cell_type": "markdown",
   "id": "123456",
   "metadata": {},
   "source": [
    "<div style=\"text-align:left;font-size:2em\"><span style=\"font-weight:bolder;font-size:1.25em\">SP2273 | Learning Portfolio</span><br><br><span style=\"font-weight:bold;color:darkred\">Functions (Good) Exercises</span></div>"
   ]
  },
  {
   "cell_type": "markdown",
   "id": "c3049410-113b-40b1-a69c-96a4f927ef5b",
   "metadata": {},
   "source": [
    "# Exercise 1"
   ]
  },
  {
   "cell_type": "code",
   "execution_count": 37,
   "id": "335ea7cb-07ba-43b9-aede-6e8aa2d58588",
   "metadata": {},
   "outputs": [
    {
     "data": {
      "text/plain": [
       "'104.0°F'"
      ]
     },
     "execution_count": 37,
     "metadata": {},
     "output_type": "execute_result"
    }
   ],
   "source": [
    "def convert_celsius(temperature_celsius, target_scale):\n",
    "    if target_scale == 'Kelvin':\n",
    "        return temperature_celsius + 273.15, 'K'\n",
    "    else: target_scale == 'Fahrenheit'\n",
    "    return str(temperature_celsius*(9/5) + 32) + '°F' ## then cannot use the number\n",
    "\n",
    "convert_celsius(40, 'Fahrenheit')"
   ]
  },
  {
   "cell_type": "code",
   "execution_count": 40,
   "id": "2c53b582-c258-4413-b19f-2ea26461b9a0",
   "metadata": {},
   "outputs": [
    {
     "data": {
      "text/plain": [
       "104.0"
      ]
     },
     "execution_count": 40,
     "metadata": {},
     "output_type": "execute_result"
    }
   ],
   "source": [
    "def convert_celsius(temperature_celsius, target_scale):\n",
    "    if target_scale == 'Kelvin':\n",
    "        return temperature_celsius + 273.15\n",
    "    else: target_scale == 'Fahrenheit'\n",
    "    return temperature_celsius*(9/5) + 32 \n",
    "\n",
    "convert_celsius(40, 'Fahrenheit')"
   ]
  },
  {
   "cell_type": "markdown",
   "id": "c9cb7640-8448-485b-a957-f5e201c658fa",
   "metadata": {},
   "source": [
    "# Exercise 2"
   ]
  },
  {
   "cell_type": "code",
   "execution_count": 32,
   "id": "6a91ab5c-817e-4f90-bd34-eeb714004c67",
   "metadata": {},
   "outputs": [
    {
     "data": {
      "text/plain": [
       "(313.15, 'K')"
      ]
     },
     "execution_count": 32,
     "metadata": {},
     "output_type": "execute_result"
    }
   ],
   "source": [
    "def convert_fahrenheit(temperature_fahrenheit, target_scale):\n",
    "    if target_scale == 'Celsius':\n",
    "        return (temperature_fahrenheit - 32)*5/9, '°C'\n",
    "    else: target_scale == 'Kelvin'\n",
    "    return (temperature_fahrenheit - 32)*5/9 + 273.15 , 'K'\n",
    "\n",
    "convert_celsius(40, 'Kelvin')"
   ]
  },
  {
   "cell_type": "code",
   "execution_count": 41,
   "id": "a434efdc-4a4b-442a-9582-3f116a851d6c",
   "metadata": {},
   "outputs": [
    {
     "data": {
      "text/plain": [
       "313.15"
      ]
     },
     "execution_count": 41,
     "metadata": {},
     "output_type": "execute_result"
    }
   ],
   "source": [
    "def convert_fahrenheit(temperature_fahrenheit, target_scale):\n",
    "    if target_scale == 'Celsius':\n",
    "        return (temperature_fahrenheit - 32)*5/9\n",
    "    else: target_scale == 'Kelvin'\n",
    "    return (temperature_fahrenheit - 32)*5/9 + 273.15 \n",
    "\n",
    "convert_celsius(40, 'Kelvin')"
   ]
  },
  {
   "cell_type": "markdown",
   "id": "a454fb97-dcca-4a9f-8953-50debce0cc97",
   "metadata": {},
   "source": [
    "# Exercise 3"
   ]
  },
  {
   "cell_type": "code",
   "execution_count": 79,
   "id": "075e3e83-2836-43d7-9839-c494beb32f96",
   "metadata": {},
   "outputs": [
    {
     "data": {
      "text/plain": [
       "-273.15"
      ]
     },
     "execution_count": 79,
     "metadata": {},
     "output_type": "execute_result"
    }
   ],
   "source": [
    "def convert_temperature (temperature, source_scale, target_scale):\n",
    "    if source_scale == 'Celsius' and target_scale == 'Fahrenheit':\n",
    "        return temperature* 9/5 + 32\n",
    "    elif source_scale == 'Celsius' and target_scale == 'Kelvin':\n",
    "        return temperature + 273.15\n",
    "    elif source_scale == 'Fahrenheit' and target_scale == 'Celsius':\n",
    "        return (temperature - 32)*5/9\n",
    "    elif source_scale == 'Fahrenheit' and target_scale == 'Kelvin':\n",
    "        return (temperature - 32)*5/9 + 273.15 \n",
    "    elif source_scale == 'Kelvin' and target_scale == 'Fahrenheit':\n",
    "        return (temperature - 273.15)* 9/5 + 32\n",
    "    else: source_scale == 'Kelvin' and target_scale =='Celsius'\n",
    "    return temperature - 273.15\n",
    "\n",
    "convert_temperature (0, 'Kelvin', 'Celsius')"
   ]
  }
 ],
 "metadata": {
  "kernelspec": {
   "display_name": "Python 3 (ipykernel)",
   "language": "python",
   "name": "python3"
  },
  "language_info": {
   "codemirror_mode": {
    "name": "ipython",
    "version": 3
   },
   "file_extension": ".py",
   "mimetype": "text/x-python",
   "name": "python",
   "nbconvert_exporter": "python",
   "pygments_lexer": "ipython3",
   "version": "3.13.7"
  },
  "toc": {
   "base_numbering": 1,
   "nav_menu": {},
   "number_sections": true,
   "sideBar": true,
   "skip_h1_title": false,
   "title_cell": "Table of Contents",
   "title_sidebar": "Contents",
   "toc_cell": false,
   "toc_position": {},
   "toc_section_display": true,
   "toc_window_display": false
  },
  "vscode": {
   "interpreter": {
    "hash": "31f2aee4e71d21fbe5cf8b01ff0e069b9275f58929596ceb00d14d90e3e16cd6"
   }
  }
 },
 "nbformat": 4,
 "nbformat_minor": 5
}
