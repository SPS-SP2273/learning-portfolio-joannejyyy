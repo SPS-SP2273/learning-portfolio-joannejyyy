{
 "cells": [
  {
   "attachments": {},
   "cell_type": "markdown",
   "id": "123456",
   "metadata": {},
   "source": [
    "<div style=\"text-align:left;font-size:2em\"><span style=\"font-weight:bolder;font-size:1.25em\">SP2273 | Learning Portfolio</span><br><br><span style=\"font-weight:bold;color:darkred\">Loops (Need)</span></div>"
   ]
  },
  {
   "attachments": {},
   "cell_type": "markdown",
   "id": "926c1d56",
   "metadata": {},
   "source": [
    "# What to expect in this chapter"
   ]
  },
  {
   "attachments": {},
   "cell_type": "markdown",
   "id": "be506192",
   "metadata": {},
   "source": [
    "# 1 The for iterator"
   ]
  },
  {
   "cell_type": "code",
   "execution_count": 33,
   "id": "64d4c20a-2fa8-49b4-b182-b83639fd4c4f",
   "metadata": {},
   "outputs": [],
   "source": [
    "real_names = ['Natasha Romanoff', 'Tony Stark', 'Stephan Strange'] + ['Peter Parker']"
   ]
  },
  {
   "cell_type": "code",
   "execution_count": 7,
   "id": "b17ba022-f00b-4a83-b133-6e4c4c76477d",
   "metadata": {},
   "outputs": [
    {
     "name": "stdout",
     "output_type": "stream",
     "text": [
      "Natasha Romanoff is a Marvel superhero!\n",
      "Tony Stark is a Marvel superhero!\n",
      "Stephan Strange is a Marvel superhero!\n"
     ]
    }
   ],
   "source": [
    "# a poor way of doing it\n",
    "name = real_names[0]\n",
    "print(f\"{name} is a Marvel superhero!\")\n",
    "\n",
    "name = real_names[1]\n",
    "print(f\"{name} is a Marvel superhero!\")\n",
    "\n",
    "name = real_names[2]\n",
    "print(f\"{name} is a Marvel superhero!\")"
   ]
  },
  {
   "cell_type": "code",
   "execution_count": 13,
   "id": "bbed7ca6-1b97-4c7f-87bb-c19f440c3a4c",
   "metadata": {},
   "outputs": [
    {
     "name": "stdout",
     "output_type": "stream",
     "text": [
      "0 Natasha Romanoff\n",
      "0 Tony Stark\n",
      "0 Stephan Strange\n"
     ]
    }
   ],
   "source": [
    "for name in real_names:\n",
    "    count = 0\n",
    "    print (count, name)"
   ]
  },
  {
   "cell_type": "code",
   "execution_count": 8,
   "id": "94dc4932-814f-48fb-88be-0d28f6d768c6",
   "metadata": {},
   "outputs": [
    {
     "name": "stdout",
     "output_type": "stream",
     "text": [
      "1 Natasha Romanoff\n",
      "2 Tony Stark\n",
      "3 Stephan Strange\n"
     ]
    }
   ],
   "source": [
    "for name in real_names:\n",
    "    count = 0\n",
    "    count +=1\n",
    "    print (count, name)"
   ]
  },
  {
   "cell_type": "code",
   "execution_count": 15,
   "id": "d3f085af-5c44-47c3-a9bf-8c7c8b672d3d",
   "metadata": {},
   "outputs": [
    {
     "name": "stdout",
     "output_type": "stream",
     "text": [
      "Natasha Romanoff is a Marvel superhero!\n",
      "Tony Stark is a Marvel superhero!\n",
      "Stephan Strange is a Marvel superhero!\n"
     ]
    }
   ],
   "source": [
    "for name in real_names:\n",
    "    print(f\"{name} is a Marvel superhero!\")"
   ]
  },
  {
   "cell_type": "code",
   "execution_count": 18,
   "id": "c04eba12-67a4-446f-9638-3607f477e37e",
   "metadata": {},
   "outputs": [
    {
     "name": "stdout",
     "output_type": "stream",
     "text": [
      "1000000 Natasha Romanoff\n",
      "1000001 Tony Stark\n",
      "1000002 Stephan Strange\n"
     ]
    }
   ],
   "source": [
    "for count, name in enumerate(real_names, start=1000000):\n",
    "    print (count, name)"
   ]
  },
  {
   "cell_type": "code",
   "execution_count": 22,
   "id": "2249ec1b-28af-4399-8b46-4f1cf40000f8",
   "metadata": {},
   "outputs": [
    {
     "name": "stdout",
     "output_type": "stream",
     "text": [
      "1000000 Natasha ROMANOFF\n",
      "1000001 Tony STARK\n",
      "1000002 Stephan STRANGE\n"
     ]
    }
   ],
   "source": [
    "for count, name in enumerate(real_names, start=1000000):\n",
    "    first_name, last_name = name.split()\n",
    "    print (count, first_name, last_name.upper())"
   ]
  },
  {
   "cell_type": "markdown",
   "id": "cbf837a4-8840-4ce9-a108-16400c5dd0c3",
   "metadata": {},
   "source": [
    "1000000 Natasha ROMANOFF\n",
    "\n",
    "1000001 Tony STARK\n",
    "\n",
    "1000002 Stephan STRANGE"
   ]
  },
  {
   "cell_type": "code",
   "execution_count": 34,
   "id": "fc38169c-a647-4c33-9db9-6594bb4dab27",
   "metadata": {},
   "outputs": [
    {
     "data": {
      "text/plain": [
       "4"
      ]
     },
     "execution_count": 34,
     "metadata": {},
     "output_type": "execute_result"
    }
   ],
   "source": [
    "len(real_names)"
   ]
  },
  {
   "cell_type": "code",
   "execution_count": 35,
   "id": "68f81a20-73db-4b42-986c-af3537ca163f",
   "metadata": {},
   "outputs": [
    {
     "name": "stdout",
     "output_type": "stream",
     "text": [
      "1 Natasha Romanoff\n",
      "2 Tony Stark\n",
      "3 Stephan Strange\n",
      "4 Peter Parker\n"
     ]
    }
   ],
   "source": [
    "for i in range (len(real_names)):\n",
    "    print(i+1, real_names[i])"
   ]
  },
  {
   "cell_type": "code",
   "execution_count": 36,
   "id": "e9562556-991c-4f50-8815-25f032402b0c",
   "metadata": {},
   "outputs": [
    {
     "data": {
      "text/plain": [
       "[0, 1, 2]"
      ]
     },
     "execution_count": 36,
     "metadata": {},
     "output_type": "execute_result"
    }
   ],
   "source": [
    "list(range(3))"
   ]
  },
  {
   "attachments": {},
   "cell_type": "markdown",
   "id": "59a25b89",
   "metadata": {},
   "source": [
    "## 1.1 for with a list"
   ]
  },
  {
   "cell_type": "code",
   "execution_count": 25,
   "id": "3df95e2a-af55-4aee-8b24-7f4526b92405",
   "metadata": {},
   "outputs": [],
   "source": [
    "real_names = [\"Natasha Romanoff\", \"Tony Stark\", \"Stephan Strange\"]"
   ]
  },
  {
   "cell_type": "code",
   "execution_count": 26,
   "id": "0e046597-8fae-4ee1-bbb0-21ca3b8898a6",
   "metadata": {},
   "outputs": [
    {
     "name": "stdout",
     "output_type": "stream",
     "text": [
      "Natasha Romanoff is a marvel superhero!\n",
      "Tony Stark is a marvel superhero!\n",
      "Stephan Strange is a marvel superhero!\n"
     ]
    }
   ],
   "source": [
    "for x in real_names:\n",
    "    print (f\"{x} is a marvel superhero!\")"
   ]
  },
  {
   "attachments": {},
   "cell_type": "markdown",
   "id": "61cb0f85",
   "metadata": {},
   "source": [
    "## 1.2 for with enumerate"
   ]
  },
  {
   "cell_type": "code",
   "execution_count": 41,
   "id": "bb06c82e-2f99-410e-b773-a2ea16036bd7",
   "metadata": {},
   "outputs": [],
   "source": [
    "real_names= ['Natasha Romanoff', 'Tony Stark', 'Stephan Strange'] \n",
    "super_names= ['black widow', 'ironman', 'doctor strange']\n"
   ]
  },
  {
   "cell_type": "code",
   "execution_count": 43,
   "id": "a63106bd-fea5-41ea-921e-c0f0b9b624ab",
   "metadata": {},
   "outputs": [
    {
     "name": "stdout",
     "output_type": "stream",
     "text": [
      "0: Natasha Romanoff is a Marvel superhero!\n",
      "1: Tony Stark is a Marvel superhero!\n",
      "2: Stephan Strange is a Marvel superhero!\n"
     ]
    }
   ],
   "source": [
    "for count, name in enumerate(real_names):\n",
    "    print(f'{count}: {name} is a Marvel superhero!')"
   ]
  },
  {
   "cell_type": "code",
   "execution_count": 42,
   "id": "cbb7708a-96ff-46ac-ade1-31564dea4fe5",
   "metadata": {},
   "outputs": [
    {
     "name": "stdout",
     "output_type": "stream",
     "text": [
      "Natasha Romanoff is black widow!\n",
      "Tony Stark is ironman!\n",
      "Stephan Strange is doctor strange!\n"
     ]
    }
   ],
   "source": [
    "for index, name in enumerate(real_names):\n",
    "    superhero_name = super_names[index]\n",
    "    print(f'{name} is {superhero_name}!')"
   ]
  },
  {
   "attachments": {},
   "cell_type": "markdown",
   "id": "857083b4",
   "metadata": {},
   "source": [
    "## 1.3 for with range"
   ]
  },
  {
   "cell_type": "code",
   "execution_count": 73,
   "id": "8652f7b9-eb41-4a64-82e6-05626390fa67",
   "metadata": {},
   "outputs": [
    {
     "name": "stdout",
     "output_type": "stream",
     "text": [
      "0\n",
      "1\n",
      "2\n",
      "3\n",
      "4\n"
     ]
    }
   ],
   "source": [
    "for i in range(5):\n",
    "    print(i)"
   ]
  },
  {
   "cell_type": "code",
   "execution_count": 75,
   "id": "bf8caa35-30d8-4153-9854-a7d1d97d1a99",
   "metadata": {},
   "outputs": [
    {
     "name": "stdout",
     "output_type": "stream",
     "text": [
      "5\n",
      "6\n",
      "7\n",
      "8\n",
      "9\n"
     ]
    }
   ],
   "source": [
    "for i in range(5, 10):\n",
    "    print(i)"
   ]
  },
  {
   "cell_type": "code",
   "execution_count": null,
   "id": "6a2ffe11-493d-49f5-b62b-9723ecf126d2",
   "metadata": {},
   "outputs": [],
   "source": []
  },
  {
   "attachments": {},
   "cell_type": "markdown",
   "id": "c4ab2afb",
   "metadata": {},
   "source": [
    "# 2 while"
   ]
  },
  {
   "cell_type": "code",
   "execution_count": 53,
   "id": "ae5f72d0-7e89-4bda-903b-3d43f3e30e98",
   "metadata": {},
   "outputs": [
    {
     "name": "stdout",
     "output_type": "stream",
     "text": [
      "0\n",
      "1\n",
      "2\n",
      "3\n",
      "4\n",
      "5\n",
      "6\n",
      "7\n",
      "8\n",
      "9\n"
     ]
    }
   ],
   "source": [
    "i = 0\n",
    "while i<10:\n",
    "    print (i)\n",
    "    i+=1"
   ]
  },
  {
   "cell_type": "code",
   "execution_count": 54,
   "id": "f3120631-a025-4e1f-ae2e-52f7310c4768",
   "metadata": {},
   "outputs": [
    {
     "name": "stdout",
     "output_type": "stream",
     "text": [
      "1\n",
      "0.5\n",
      "0.25\n",
      "0.125\n",
      "0.0625\n",
      "0.03125\n",
      "0.015625\n",
      "0.0078125\n",
      "0.00390625\n",
      "0.001953125\n"
     ]
    }
   ],
   "source": [
    "i = 1\n",
    "while i>1E-3:\n",
    "    print (i)\n",
    "    i /=2"
   ]
  },
  {
   "cell_type": "code",
   "execution_count": 55,
   "id": "493d0eb9-1176-45b4-b4a1-7604a6d72291",
   "metadata": {},
   "outputs": [],
   "source": [
    "import numpy as np"
   ]
  },
  {
   "cell_type": "code",
   "execution_count": 71,
   "id": "a9345f91-ca3e-45f5-922a-88c8c07d39fb",
   "metadata": {},
   "outputs": [
    {
     "name": "stdout",
     "output_type": "stream",
     "text": [
      "1.0000000000 np.sin(i)=0.84147098 np.tan(i)=1.55740772 False\n",
      "0.5000000000 np.sin(i)=0.47942554 np.tan(i)=0.54630249 False\n",
      "0.2500000000 np.sin(i)=0.24740396 np.tan(i)=0.25534192 False\n",
      "0.1250000000 np.sin(i)=0.12467473 np.tan(i)=0.12565514 False\n",
      "0.0625000000 np.sin(i)=0.06245932 np.tan(i)=0.06258151 False\n",
      "0.0312500000 np.sin(i)=0.03124491 np.tan(i)=0.03126018 False\n",
      "0.0156250000 np.sin(i)=0.01562436 np.tan(i)=0.01562627 False\n",
      "0.0078125000 np.sin(i)=0.00781242 np.tan(i)=0.00781266 False\n",
      "0.0039062500 np.sin(i)=0.00390624 np.tan(i)=0.00390627 True\n",
      "0.0019531250 np.sin(i)=0.00195312 np.tan(i)=0.00195313 True\n"
     ]
    }
   ],
   "source": [
    "i = 1\n",
    "while i>1E-3:\n",
    "    print (f'{i:.10f}', \n",
    "           f'{np.sin(i)=:.8f}',\n",
    "           f'{np.tan(i)=:.8f}',\n",
    "           np.isclose(np.sin(i), np.tan(i)))\n",
    "    i /=2"
   ]
  },
  {
   "cell_type": "code",
   "execution_count": null,
   "id": "bb7b0421-3b45-4b68-a301-7ea3a2c85a5c",
   "metadata": {},
   "outputs": [],
   "source": []
  }
 ],
 "metadata": {
  "kernelspec": {
   "display_name": "Python 3 (ipykernel)",
   "language": "python",
   "name": "python3"
  },
  "language_info": {
   "codemirror_mode": {
    "name": "ipython",
    "version": 3
   },
   "file_extension": ".py",
   "mimetype": "text/x-python",
   "name": "python",
   "nbconvert_exporter": "python",
   "pygments_lexer": "ipython3",
   "version": "3.13.7"
  },
  "toc": {
   "base_numbering": 1,
   "nav_menu": {},
   "number_sections": true,
   "sideBar": true,
   "skip_h1_title": false,
   "title_cell": "Table of Contents",
   "title_sidebar": "Contents",
   "toc_cell": false,
   "toc_position": {},
   "toc_section_display": true,
   "toc_window_display": false
  },
  "vscode": {
   "interpreter": {
    "hash": "31f2aee4e71d21fbe5cf8b01ff0e069b9275f58929596ceb00d14d90e3e16cd6"
   }
  }
 },
 "nbformat": 4,
 "nbformat_minor": 5
}
