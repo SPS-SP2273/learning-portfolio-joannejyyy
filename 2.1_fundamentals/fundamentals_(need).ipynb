{
 "cells": [
  {
   "attachments": {},
   "cell_type": "markdown",
   "id": "123456",
   "metadata": {},
   "source": [
    "<div style=\"text-align:left;font-size:2em\"><span style=\"font-weight:bolder;font-size:1.25em\">SP2273 | Learning Portfolio</span><br><br><span style=\"font-weight:bold;color:darkred\">Fundamentals (Need)</span></div>"
   ]
  },
  {
   "attachments": {},
   "cell_type": "markdown",
   "id": "be36378a",
   "metadata": {},
   "source": [
    "# What to expect in this chapter"
   ]
  },
  {
   "attachments": {},
   "cell_type": "markdown",
   "id": "1a74253a",
   "metadata": {},
   "source": [
    "#1 Functions"
   ]
  },
  {
   "cell_type": "code",
   "execution_count": 9,
   "id": "d17e9b7e-4a4f-4abc-817a-cbc32f9b457e",
   "metadata": {},
   "outputs": [
    {
     "name": "stdout",
     "output_type": "stream",
     "text": [
      "hello\n"
     ]
    }
   ],
   "source": [
    "print ('hello')"
   ]
  },
  {
   "cell_type": "markdown",
   "id": "8a814e10-8349-4dfc-ba07-16fd65316dbf",
   "metadata": {},
   "source": [
    "print () is a function (executes a specific task)"
   ]
  },
  {
   "attachments": {},
   "cell_type": "markdown",
   "id": "bf03b345",
   "metadata": {},
   "source": [
    "# 2 Python is interpreted"
   ]
  },
  {
   "cell_type": "code",
   "execution_count": 2,
   "id": "189ba834-59e8-4017-b4a0-faa3abce9426",
   "metadata": {},
   "outputs": [
    {
     "name": "stdout",
     "output_type": "stream",
     "text": [
      "Hello World\n",
      "Hello World again\n"
     ]
    }
   ],
   "source": [
    "print(\"Hello World\")\n",
    "print('Hello World again')"
   ]
  },
  {
   "attachments": {},
   "cell_type": "markdown",
   "id": "137418bb",
   "metadata": {},
   "source": [
    "# 3 Python is sensitive."
   ]
  },
  {
   "cell_type": "code",
   "execution_count": 3,
   "id": "858fad7e-1b8b-4a33-886f-40892c30445b",
   "metadata": {},
   "outputs": [
    {
     "name": "stdout",
     "output_type": "stream",
     "text": [
      "Hello World\n"
     ]
    }
   ],
   "source": [
    "print(\"Hello World\")      # This WILL work\n"
   ]
  },
  {
   "cell_type": "code",
   "execution_count": 3,
   "id": "5079f261-6427-4fc5-8b43-3ce0740a2ded",
   "metadata": {},
   "outputs": [
    {
     "ename": "NameError",
     "evalue": "name 'Print' is not defined",
     "output_type": "error",
     "traceback": [
      "\u001b[31m---------------------------------------------------------------------------\u001b[39m",
      "\u001b[31mNameError\u001b[39m                                 Traceback (most recent call last)",
      "\u001b[36mCell\u001b[39m\u001b[36m \u001b[39m\u001b[32mIn[3]\u001b[39m\u001b[32m, line 1\u001b[39m\n\u001b[32m----> \u001b[39m\u001b[32m1\u001b[39m \u001b[43mPrint\u001b[49m(\u001b[33m'\u001b[39m\u001b[33mHello World\u001b[39m\u001b[33m'\u001b[39m)      \u001b[38;5;66;03m# This will NOT work\u001b[39;00m\n",
      "\u001b[31mNameError\u001b[39m: name 'Print' is not defined"
     ]
    }
   ],
   "source": [
    "Print('Hello World')      # This will NOT work"
   ]
  },
  {
   "attachments": {},
   "cell_type": "markdown",
   "id": "34be9abb",
   "metadata": {},
   "source": [
    "# 4 Comments"
   ]
  },
  {
   "cell_type": "code",
   "execution_count": 4,
   "id": "b94054f0-c88a-4e58-8c6f-9f027786536d",
   "metadata": {},
   "outputs": [
    {
     "name": "stdout",
     "output_type": "stream",
     "text": [
      "23.529411764705884\n"
     ]
    }
   ],
   "source": [
    "x = 68 # x is the weight\n",
    "y = 1.70 # y is the height\n",
    "bmi = x/y**2\n",
    "print (bmi)\n",
    "\n",
    "# is for a comment that can create clutter. better to explain what \n",
    "# youre doing instead of the code\n"
   ]
  },
  {
   "cell_type": "code",
   "execution_count": 5,
   "id": "238ba4ce-0e08-46f1-961a-ca198bb21318",
   "metadata": {},
   "outputs": [
    {
     "data": {
      "text/plain": [
       "'\\nthis is a \\nmultiline \\ncomment \\n'"
      ]
     },
     "execution_count": 5,
     "metadata": {},
     "output_type": "execute_result"
    }
   ],
   "source": [
    "'''\n",
    "this is a \n",
    "multiline \n",
    "comment \n",
    "'''"
   ]
  },
  {
   "attachments": {},
   "cell_type": "markdown",
   "id": "28490835",
   "metadata": {},
   "source": [
    "# 5 = is not the same as =="
   ]
  },
  {
   "cell_type": "code",
   "execution_count": 6,
   "id": "c64b2c3a-5112-4d53-81e1-66a27d511226",
   "metadata": {},
   "outputs": [],
   "source": [
    "name = 'batman' # is for equal"
   ]
  },
  {
   "cell_type": "code",
   "execution_count": 7,
   "id": "8e9dde21-296b-420a-8ab5-ee142fdee07d",
   "metadata": {},
   "outputs": [
    {
     "data": {
      "text/plain": [
       "True"
      ]
     },
     "execution_count": 7,
     "metadata": {},
     "output_type": "execute_result"
    }
   ],
   "source": [
    "name == 'batman' # is for true/false"
   ]
  },
  {
   "attachments": {},
   "cell_type": "markdown",
   "id": "4deba890",
   "metadata": {},
   "source": [
    "# 6 Use if to make decisions"
   ]
  },
  {
   "cell_type": "code",
   "execution_count": 8,
   "id": "092827ed-8ec8-4667-91fb-4fd7818fe027",
   "metadata": {},
   "outputs": [
    {
     "name": "stdout",
     "output_type": "stream",
     "text": [
      "you are cool\n"
     ]
    }
   ],
   "source": [
    "name = \"Batman\"\n",
    "\n",
    "if name == \"Batman\":\n",
    "    print(\"you are cool\")\n",
    "else:\n",
    "    print(\"boo!\")"
   ]
  },
  {
   "attachments": {},
   "cell_type": "markdown",
   "id": "e50c2eb5",
   "metadata": {},
   "source": [
    "# 7 Indentations (spaces) are sooo IMPORTANT!"
   ]
  },
  {
   "cell_type": "code",
   "execution_count": 9,
   "id": "b990abcf-fa89-4c9e-b393-cc33d4977a75",
   "metadata": {},
   "outputs": [
    {
     "ename": "IndentationError",
     "evalue": "unexpected indent (3574318747.py, line 2)",
     "output_type": "error",
     "traceback": [
      "  \u001b[36mCell\u001b[39m\u001b[36m \u001b[39m\u001b[32mIn[9]\u001b[39m\u001b[32m, line 2\u001b[39m\n\u001b[31m    \u001b[39m\u001b[31mprint (x)\u001b[39m\n    ^\n\u001b[31mIndentationError\u001b[39m\u001b[31m:\u001b[39m unexpected indent\n"
     ]
    }
   ],
   "source": [
    "x = 10\n",
    "    print (x)"
   ]
  },
  {
   "cell_type": "code",
   "execution_count": null,
   "id": "7dd2e710-292d-4fe9-8c02-4ed5335266f9",
   "metadata": {},
   "outputs": [],
   "source": [
    "x=10\n",
    "print (x)"
   ]
  },
  {
   "attachments": {},
   "cell_type": "markdown",
   "id": "33e32fcf",
   "metadata": {},
   "source": [
    "# 8 ‘age’ is English, age is a variable."
   ]
  },
  {
   "cell_type": "code",
   "execution_count": null,
   "id": "d44eb9c3-e47e-4879-926d-290fd3504303",
   "metadata": {},
   "outputs": [],
   "source": [
    "age = 10 \n",
    "print (\"age\", age)"
   ]
  },
  {
   "cell_type": "code",
   "execution_count": null,
   "id": "04dc7f7b-fc7a-4c8b-a17b-8bdb06af66ed",
   "metadata": {},
   "outputs": [],
   "source": [
    "print(\"You're twenty years old.\")"
   ]
  },
  {
   "attachments": {},
   "cell_type": "markdown",
   "id": "18fa7dd7",
   "metadata": {},
   "source": [
    "# 9 Brackets"
   ]
  },
  {
   "cell_type": "code",
   "execution_count": null,
   "id": "cc3e1ab9-03d2-4f0d-a5a0-ac41a34a12c8",
   "metadata": {},
   "outputs": [],
   "source": [
    "print('Hello!')             # functions"
   ]
  },
  {
   "cell_type": "code",
   "execution_count": null,
   "id": "eb4694fc-a382-4b9b-8ece-0a38181346d7",
   "metadata": {},
   "outputs": [],
   "source": [
    "(4 + 2) * 5                 # math"
   ]
  },
  {
   "cell_type": "code",
   "execution_count": null,
   "id": "2c9b884e-8911-4735-be3e-39732684b863",
   "metadata": {},
   "outputs": [],
   "source": [
    "py_list = [1, 2, 3, 4, 5] #A 1D list"
   ]
  },
  {
   "cell_type": "code",
   "execution_count": null,
   "id": "ba368b76-1d08-4037-a3e3-c9651bcc578c",
   "metadata": {},
   "outputs": [],
   "source": [
    "py_list_2 = [\n",
    "                [1, \"A\"],\n",
    "                [2, \"B\"],\n",
    "                [3, \"C\"],\n",
    "                [4, \"D\"],\n",
    "                [5, \"E\"]\n",
    "] #[] is for list of data"
   ]
  },
  {
   "cell_type": "code",
   "execution_count": null,
   "id": "c8f19a01-b12e-4a07-baa3-41d1cc5b47af",
   "metadata": {},
   "outputs": [],
   "source": [
    "personal_info = {\n",
    "    'Names': 'Batman',\n",
    "    'real name': 'bruce wayne',\n",
    "    'age': 56, \n",
    "    'affiliation': 'justice league', \n",
    "    'universe': 'dc'\n",
    "}  #{} is for things (basically words instead of numbers)"
   ]
  },
  {
   "cell_type": "code",
   "execution_count": null,
   "id": "f8db3b65-89d5-4c0b-8dd6-6ceec81657fc",
   "metadata": {},
   "outputs": [],
   "source": [
    "print (personal_info ['age'])"
   ]
  },
  {
   "attachments": {},
   "cell_type": "markdown",
   "id": "96fcd897",
   "metadata": {},
   "source": [
    "# 10 Giving Python superpowers with Packages"
   ]
  },
  {
   "cell_type": "code",
   "execution_count": null,
   "id": "36c6c816-249f-477e-b953-7d7be8e96c64",
   "metadata": {},
   "outputs": [],
   "source": [
    "import math"
   ]
  },
  {
   "cell_type": "code",
   "execution_count": null,
   "id": "23cd1fc1-7671-435d-8539-026b798381d8",
   "metadata": {},
   "outputs": [],
   "source": [
    "math.sqrt(4)"
   ]
  },
  {
   "cell_type": "code",
   "execution_count": null,
   "id": "f70999f7-a421-4b65-99b9-cad9ca75a062",
   "metadata": {},
   "outputs": [],
   "source": [
    "import numpy as np"
   ]
  },
  {
   "attachments": {},
   "cell_type": "markdown",
   "id": "8da18ee6",
   "metadata": {},
   "source": [
    "## 10.1 Some Context"
   ]
  },
  {
   "cell_type": "code",
   "execution_count": null,
   "id": "6fd788b5-d46d-4bac-b065-93584143c549",
   "metadata": {},
   "outputs": [],
   "source": [
    "1 * ((2 - 3) + 4) ** 5 / 6"
   ]
  },
  {
   "attachments": {},
   "cell_type": "markdown",
   "id": "4f129b6c",
   "metadata": {},
   "source": [
    "## 10.2 Importing the math package"
   ]
  },
  {
   "cell_type": "code",
   "execution_count": null,
   "id": "935cc6e9-3ffc-4f89-bdb7-ce4a0962ddda",
   "metadata": {},
   "outputs": [],
   "source": [
    "import math"
   ]
  },
  {
   "cell_type": "code",
   "execution_count": null,
   "id": "0a45dbf3-7038-40a3-883a-19f6979b0151",
   "metadata": {},
   "outputs": [],
   "source": [
    "math.sqrt(4)"
   ]
  },
  {
   "attachments": {},
   "cell_type": "markdown",
   "id": "a2b05985",
   "metadata": {},
   "source": [
    "## 10.3 Importing the numpy package"
   ]
  },
  {
   "cell_type": "code",
   "execution_count": null,
   "id": "6e1ad04e-2d2b-42fd-8ad4-995653f18ef1",
   "metadata": {},
   "outputs": [],
   "source": [
    "import numpy as np"
   ]
  },
  {
   "cell_type": "code",
   "execution_count": null,
   "id": "dc595733-3a75-426e-a33c-2998eea6f020",
   "metadata": {},
   "outputs": [],
   "source": [
    "np.sqrt(4)"
   ]
  },
  {
   "attachments": {},
   "cell_type": "markdown",
   "id": "342992c6",
   "metadata": {},
   "source": [
    "## 10.4 Why so many packages?"
   ]
  },
  {
   "cell_type": "code",
   "execution_count": null,
   "id": "0d5d4693-8eb8-4451-82ce-f3d7925a3a52",
   "metadata": {},
   "outputs": [],
   "source": [
    "import numpy as np"
   ]
  },
  {
   "cell_type": "code",
   "execution_count": 13,
   "id": "0e64c804-7e66-4137-a1b5-9d4b3d86cd32",
   "metadata": {},
   "outputs": [
    {
     "data": {
      "text/plain": [
       "array([2., 3., 4.])"
      ]
     },
     "execution_count": 13,
     "metadata": {},
     "output_type": "execute_result"
    }
   ],
   "source": [
    "np.sqrt([4, 9, 16]) # as seen, only numpy can handle a list of numbers, not math"
   ]
  },
  {
   "attachments": {},
   "cell_type": "markdown",
   "id": "1a5a7815",
   "metadata": {},
   "source": [
    "# 11 The dot (.)"
   ]
  },
  {
   "cell_type": "code",
   "execution_count": 11,
   "id": "13db1843-ba13-4069-a410-3d2d9441daed",
   "metadata": {},
   "outputs": [
    {
     "data": {
      "text/plain": [
       "['I', 'am', 'Batman']"
      ]
     },
     "execution_count": 11,
     "metadata": {},
     "output_type": "execute_result"
    }
   ],
   "source": [
    "\"I am Batman\". split () "
   ]
  },
  {
   "cell_type": "code",
   "execution_count": 10,
   "id": "a86ed99a-bce7-42c3-bd98-eba25c3d6ce8",
   "metadata": {},
   "outputs": [
    {
     "ename": "SyntaxError",
     "evalue": "invalid decimal literal (3897031440.py, line 1)",
     "output_type": "error",
     "traceback": [
      "  \u001b[36mCell\u001b[39m\u001b[36m \u001b[39m\u001b[32mIn[10]\u001b[39m\u001b[32m, line 1\u001b[39m\n\u001b[31m    \u001b[39m\u001b[31m1234.split()\u001b[39m\n        ^\n\u001b[31mSyntaxError\u001b[39m\u001b[31m:\u001b[39m invalid decimal literal\n"
     ]
    }
   ],
   "source": [
    "1234.split() # this will only work for words as numbers make no sense"
   ]
  },
  {
   "attachments": {},
   "cell_type": "markdown",
   "id": "38f12150",
   "metadata": {},
   "source": [
    "## Footnotes"
   ]
  },
  {
   "cell_type": "code",
   "execution_count": null,
   "id": "2b8d7c8f-c3a9-430c-ad6a-dfaffd8bd2af",
   "metadata": {},
   "outputs": [],
   "source": [
    "import matplotlib"
   ]
  },
  {
   "cell_type": "code",
   "execution_count": null,
   "id": "c8db9fe9-8fa8-4845-9050-2ab5206b05cc",
   "metadata": {},
   "outputs": [],
   "source": [
    "import matplotlib.pyplot as plt\n",
    "import numpy as np\n",
    "\n",
    "# Generate x values from -2*pi to 2*pi with 1000 points\n",
    "x = np.linspace(-2 * np.pi, 2 * np.pi, 1000)\n",
    "\n",
    "# Calculate the corresponding y values using the sine function\n",
    "y = np.sin(x)\n",
    "\n",
    "# Create the plot\n",
    "plt.figure(figsize=(8, 6)) # Optional: set the figure size\n",
    "plt.plot(x, y, label='sin(x)', color='blue') # Plot the sine wave\n",
    "\n",
    "# Add labels and title for clarity\n",
    "plt.xlabel('x (radians)')\n",
    "plt.ylabel('sin(x)')\n",
    "plt.title('Sine Wave Plot')\n",
    "\n",
    "# Add a grid for better readability\n",
    "plt.grid(True)\n",
    "\n",
    "# Add a legend\n",
    "plt.legend()\n",
    "\n",
    "# Display the plot\n",
    "plt.show()"
   ]
  }
 ],
 "metadata": {
  "kernelspec": {
   "display_name": "Python 3 (ipykernel)",
   "language": "python",
   "name": "python3"
  },
  "language_info": {
   "codemirror_mode": {
    "name": "ipython",
    "version": 3
   },
   "file_extension": ".py",
   "mimetype": "text/x-python",
   "name": "python",
   "nbconvert_exporter": "python",
   "pygments_lexer": "ipython3",
   "version": "3.13.7"
  },
  "toc": {
   "base_numbering": 1,
   "nav_menu": {},
   "number_sections": true,
   "sideBar": true,
   "skip_h1_title": false,
   "title_cell": "Table of Contents",
   "title_sidebar": "Contents",
   "toc_cell": false,
   "toc_position": {},
   "toc_section_display": true,
   "toc_window_display": false
  },
  "vscode": {
   "interpreter": {
    "hash": "31f2aee4e71d21fbe5cf8b01ff0e069b9275f58929596ceb00d14d90e3e16cd6"
   }
  }
 },
 "nbformat": 4,
 "nbformat_minor": 5
}
