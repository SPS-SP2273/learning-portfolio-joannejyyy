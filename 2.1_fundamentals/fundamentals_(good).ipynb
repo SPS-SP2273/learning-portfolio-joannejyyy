{
 "cells": [
  {
   "attachments": {},
   "cell_type": "markdown",
   "id": "123456",
   "metadata": {},
   "source": [
    "<div style=\"text-align:left;font-size:2em\"><span style=\"font-weight:bolder;font-size:1.25em\">SP2273 | Learning Portfolio</span><br><br><span style=\"font-weight:bold;color:darkred\">Fundamentals (Good)</span></div>"
   ]
  },
  {
   "attachments": {},
   "cell_type": "markdown",
   "id": "85c6c58e",
   "metadata": {},
   "source": [
    "# What to expect in this chapter"
   ]
  },
  {
   "attachments": {},
   "cell_type": "markdown",
   "id": "283f070b",
   "metadata": {},
   "source": [
    "# 1 There is more to if"
   ]
  },
  {
   "cell_type": "code",
   "execution_count": 1,
   "id": "b46c4333-22ae-4658-9179-ebbd9960c0fb",
   "metadata": {},
   "outputs": [
    {
     "name": "stdout",
     "output_type": "stream",
     "text": [
      "Hello Batman!\n"
     ]
    }
   ],
   "source": [
    "name = 'Batman'\n",
    "\n",
    "if name == 'Batman':\n",
    "    print('Hello Batman!')\n",
    "elif name == 'Robin': #elif: else if\n",
    "    print('Hello Sidekick!')\n",
    "else:\n",
    "    print('Hello World!')"
   ]
  },
  {
   "cell_type": "code",
   "execution_count": 2,
   "id": "cb2ff46a-25ec-43ae-8cea-5b2039e7761d",
   "metadata": {},
   "outputs": [
    {
     "name": "stdout",
     "output_type": "stream",
     "text": [
      "im vegetarian i dont bite\n"
     ]
    }
   ],
   "source": [
    "name = 'chammika'\n",
    "\n",
    "if name == 'chammika':\n",
    "    print ('im vegetarian i dont bite')\n",
    "elif name == 'chamika':\n",
    "    print ('wrong spelling?')\n",
    "else: print ('what you want lol')"
   ]
  },
  {
   "attachments": {},
   "cell_type": "markdown",
   "id": "5c9494b7",
   "metadata": {},
   "source": [
    "# 2 Asking questions"
   ]
  },
  {
   "cell_type": "code",
   "execution_count": 3,
   "id": "dfc93d79-ae58-46fc-99a7-fa3db0052f6e",
   "metadata": {},
   "outputs": [],
   "source": [
    "fruits = ['apple', 'orange', 'banana']\n",
    "notfruits = ['rice', 'meat', 'curry']"
   ]
  },
  {
   "cell_type": "code",
   "execution_count": 4,
   "id": "b8a7dd9b-fb57-446c-a8ab-56ffd595e771",
   "metadata": {},
   "outputs": [
    {
     "data": {
      "text/plain": [
       "True"
      ]
     },
     "execution_count": 4,
     "metadata": {},
     "output_type": "execute_result"
    }
   ],
   "source": [
    "'orange' in fruits"
   ]
  },
  {
   "cell_type": "code",
   "execution_count": 5,
   "id": "9bf07075-619e-4af5-a86b-f1bbf0343caa",
   "metadata": {},
   "outputs": [
    {
     "data": {
      "text/plain": [
       "False"
      ]
     },
     "execution_count": 5,
     "metadata": {},
     "output_type": "execute_result"
    }
   ],
   "source": [
    "'peach' in fruits"
   ]
  },
  {
   "cell_type": "code",
   "execution_count": 6,
   "id": "a609bbe4-9178-423d-acc2-239d3cee4c4c",
   "metadata": {},
   "outputs": [
    {
     "data": {
      "text/plain": [
       "True"
      ]
     },
     "execution_count": 6,
     "metadata": {},
     "output_type": "execute_result"
    }
   ],
   "source": [
    "('apple' in fruits) and ('rice' in notfruits)"
   ]
  },
  {
   "cell_type": "code",
   "execution_count": 7,
   "id": "f86f49cd-89be-4b56-a1c0-104bcfbd61ff",
   "metadata": {},
   "outputs": [
    {
     "data": {
      "text/plain": [
       "True"
      ]
     },
     "execution_count": 7,
     "metadata": {},
     "output_type": "execute_result"
    }
   ],
   "source": [
    "'app' in 'apple' #for the specific letters in words"
   ]
  },
  {
   "cell_type": "code",
   "execution_count": 8,
   "id": "7f295b36-303a-44f1-9608-03e36dafcdbc",
   "metadata": {},
   "outputs": [
    {
     "data": {
      "text/plain": [
       "False"
      ]
     },
     "execution_count": 8,
     "metadata": {},
     "output_type": "execute_result"
    }
   ],
   "source": [
    "'apples' > 'oranges' # doesn't really make sense, but it is cuz letters are \n",
    "                    # internally represented by numbers "
   ]
  },
  {
   "attachments": {},
   "cell_type": "markdown",
   "id": "809bcd59",
   "metadata": {},
   "source": [
    "## 2.1 Asking Math questions"
   ]
  },
  {
   "cell_type": "code",
   "execution_count": 9,
   "id": "ac52be10-6c72-40d0-815e-c1f8391d64fd",
   "metadata": {},
   "outputs": [
    {
     "data": {
      "text/plain": [
       "True"
      ]
     },
     "execution_count": 9,
     "metadata": {},
     "output_type": "execute_result"
    }
   ],
   "source": [
    "a = 2\n",
    "b = 2\n",
    "a == b"
   ]
  },
  {
   "cell_type": "code",
   "execution_count": 10,
   "id": "0a961c6b-2133-46dc-9d57-a7861643612e",
   "metadata": {},
   "outputs": [
    {
     "data": {
      "text/plain": [
       "True"
      ]
     },
     "execution_count": 10,
     "metadata": {},
     "output_type": "execute_result"
    }
   ],
   "source": [
    "a = 4\n",
    "b = 2\n",
    "a != b   # note of != as not equal"
   ]
  },
  {
   "cell_type": "code",
   "execution_count": 33,
   "id": "281d6614-2237-49c7-a13d-0fa5be2b3eda",
   "metadata": {},
   "outputs": [
    {
     "data": {
      "text/plain": [
       "True"
      ]
     },
     "execution_count": 33,
     "metadata": {},
     "output_type": "execute_result"
    }
   ],
   "source": [
    "5 < x <= 15\n",
    "x != 16"
   ]
  },
  {
   "attachments": {},
   "cell_type": "markdown",
   "id": "a9e167c4",
   "metadata": {},
   "source": [
    "# 3 Python stores information in different formats or types"
   ]
  },
  {
   "cell_type": "code",
   "execution_count": 6,
   "id": "0460cbca-48c3-4863-839c-96c406e78b9c",
   "metadata": {},
   "outputs": [
    {
     "name": "stdout",
     "output_type": "stream",
     "text": [
      "1 <class 'int'>\n"
     ]
    }
   ],
   "source": [
    "x = int(1.234)  #drops decimal portion, present as integer\n",
    "print (x, type(x))  #type of way comp store the information"
   ]
  },
  {
   "cell_type": "code",
   "execution_count": 7,
   "id": "106af332-de79-4458-9a0e-e8bc9663c235",
   "metadata": {},
   "outputs": [
    {
     "name": "stdout",
     "output_type": "stream",
     "text": [
      "1.234 <class 'str'>\n"
     ]
    }
   ],
   "source": [
    "x = str(1.234)\n",
    "print (x, type(x)) #str is stored as an english word"
   ]
  },
  {
   "cell_type": "code",
   "execution_count": 8,
   "id": "ede9db04-f2d2-4931-ad28-a13c9f860d5b",
   "metadata": {},
   "outputs": [
    {
     "name": "stdout",
     "output_type": "stream",
     "text": [
      "1.234 <class 'float'>\n"
     ]
    }
   ],
   "source": [
    "x = float(1.234)\n",
    "print (x, type(x)) #float is as a number with decimal number"
   ]
  },
  {
   "cell_type": "code",
   "execution_count": 9,
   "id": "6a5ac48e-7eb7-4c4c-9955-66a86b9459ef",
   "metadata": {},
   "outputs": [
    {
     "name": "stdout",
     "output_type": "stream",
     "text": [
      "(1.234+0j) <class 'complex'>\n"
     ]
    }
   ],
   "source": [
    "x = complex (1.234) #add imaginary part of the number\n",
    "print (x, type (x))"
   ]
  },
  {
   "cell_type": "code",
   "execution_count": 10,
   "id": "91da1a92-9ad2-48e2-9dd8-6baf3a962606",
   "metadata": {},
   "outputs": [],
   "source": [
    "import math"
   ]
  },
  {
   "cell_type": "code",
   "execution_count": 11,
   "id": "300b8888-60de-4d0a-bc3c-41cbb3463684",
   "metadata": {},
   "outputs": [
    {
     "name": "stdout",
     "output_type": "stream",
     "text": [
      "(1+0j) <class 'complex'>\n"
     ]
    }
   ],
   "source": [
    "x = complex (math.sqrt(1))\n",
    "print (x, type(x))"
   ]
  },
  {
   "attachments": {},
   "cell_type": "markdown",
   "id": "62ff6a95",
   "metadata": {},
   "source": [
    "# 4 Never compare floats directly"
   ]
  },
  {
   "attachments": {},
   "cell_type": "markdown",
   "id": "723d9cbe",
   "metadata": {},
   "source": [
    "## 4.1 The Problem"
   ]
  },
  {
   "cell_type": "code",
   "execution_count": 12,
   "id": "97107a0a-eccb-4483-9096-e008f0ee19c6",
   "metadata": {},
   "outputs": [
    {
     "data": {
      "text/plain": [
       "False"
      ]
     },
     "execution_count": 12,
     "metadata": {},
     "output_type": "execute_result"
    }
   ],
   "source": [
    "a = 0.1\n",
    "a3 = 0.3\n",
    "a*3 ==a3 "
   ]
  },
  {
   "cell_type": "code",
   "execution_count": 13,
   "id": "1849bcd4-c5ef-4bb2-9b5d-314b190f03af",
   "metadata": {},
   "outputs": [
    {
     "data": {
      "text/plain": [
       "'0.299999999999999988897769753748'"
      ]
     },
     "execution_count": 13,
     "metadata": {},
     "output_type": "execute_result"
    }
   ],
   "source": [
    "f'{0.3:.30f}' #print in 30 decimal places"
   ]
  },
  {
   "attachments": {},
   "cell_type": "markdown",
   "id": "8df74f64",
   "metadata": {},
   "source": [
    "## 4.2 A solution"
   ]
  },
  {
   "cell_type": "code",
   "execution_count": 14,
   "id": "96b2d45e-1b7c-4234-ba87-2e82e6f9a932",
   "metadata": {},
   "outputs": [
    {
     "data": {
      "text/plain": [
       "True"
      ]
     },
     "execution_count": 14,
     "metadata": {},
     "output_type": "execute_result"
    }
   ],
   "source": [
    "eps = 1e-10\n",
    "abs (a*3 - a3) <eps #how close are the numbers (true is close enough)"
   ]
  },
  {
   "cell_type": "code",
   "execution_count": 34,
   "id": "75e23ec7-ffbd-4922-8cb4-a063a50a28fe",
   "metadata": {},
   "outputs": [
    {
     "data": {
      "text/plain": [
       "np.True_"
      ]
     },
     "execution_count": 34,
     "metadata": {},
     "output_type": "execute_result"
    }
   ],
   "source": [
    "#use numpy. imagine im using numpy\n",
    "import numpy as np\n",
    "np. isclose (a * 3, a3)"
   ]
  },
  {
   "attachments": {},
   "cell_type": "markdown",
   "id": "923d36b5",
   "metadata": {},
   "source": [
    "# 5 Combining English and variables"
   ]
  },
  {
   "cell_type": "code",
   "execution_count": 35,
   "id": "4184c733-38a2-4004-8e29-e22554c372b6",
   "metadata": {},
   "outputs": [
    {
     "name": "stdout",
     "output_type": "stream",
     "text": [
      "hellohahaha BATMAN!\n",
      "hellohahaha {name.upper()}!\n",
      "hellohahaha name.upper()!\n"
     ]
    }
   ],
   "source": [
    "name = \"Batman\"\n",
    "print (f\"hellohahaha {name.upper()}!\")\n",
    "print (\"hellohahaha {name.upper()}!\") #f does the function in {} \n",
    "print (\"hellohahaha name.upper()!\")\n"
   ]
  },
  {
   "cell_type": "code",
   "execution_count": 36,
   "id": "148728a6-0980-402d-9bb3-83a962fe2faf",
   "metadata": {},
   "outputs": [
    {
     "name": "stdout",
     "output_type": "stream",
     "text": [
      "the value of 10 squared is 100!\n"
     ]
    }
   ],
   "source": [
    "x = 10\n",
    "print (f\"the value of {x} squared is {x**2}!\")"
   ]
  },
  {
   "attachments": {},
   "cell_type": "markdown",
   "id": "6641a43a",
   "metadata": {},
   "source": [
    "## 5.1 Structure of f-strings"
   ]
  },
  {
   "cell_type": "code",
   "execution_count": 37,
   "id": "407ad7e9-88cd-4beb-9a53-877c4ed45e3b",
   "metadata": {},
   "outputs": [
    {
     "name": "stdout",
     "output_type": "stream",
     "text": [
      "Bruce Wayne isnt batman\n"
     ]
    }
   ],
   "source": [
    "text = 'Bruce Wayne isnt batman'\n",
    "print  (f'{text}')"
   ]
  },
  {
   "cell_type": "code",
   "execution_count": 38,
   "id": "37a80c01-9d90-403a-bc28-01e81ab3b798",
   "metadata": {},
   "outputs": [
    {
     "name": "stdout",
     "output_type": "stream",
     "text": [
      "                           Bruce Wayne isnt batman\n"
     ]
    }
   ],
   "source": [
    "print(f'{text:>50}') #align right"
   ]
  },
  {
   "cell_type": "code",
   "execution_count": 39,
   "id": "9215e592-888d-4aca-a221-c06c2d8813df",
   "metadata": {},
   "outputs": [
    {
     "name": "stdout",
     "output_type": "stream",
     "text": [
      "             Bruce Wayne isnt batman              \n"
     ]
    }
   ],
   "source": [
    "print(f'{text:^50}') #align centre"
   ]
  },
  {
   "cell_type": "code",
   "execution_count": 40,
   "id": "0f0beed6-29ba-4cde-8f58-e83bb8c4b1cb",
   "metadata": {},
   "outputs": [
    {
     "name": "stdout",
     "output_type": "stream",
     "text": [
      "Bruce Wayne isnt batman                           \n"
     ]
    }
   ],
   "source": [
    "print(f'{text:<50}') #align left"
   ]
  },
  {
   "cell_type": "code",
   "execution_count": 41,
   "id": "77e3ffd2-9858-4377-bdfc-217feb3284b8",
   "metadata": {},
   "outputs": [],
   "source": [
    "#hahah staircase``"
   ]
  },
  {
   "cell_type": "code",
   "execution_count": 42,
   "id": "86239acc-7eb9-4cfc-b55f-6492de424e3f",
   "metadata": {},
   "outputs": [
    {
     "name": "stdout",
     "output_type": "stream",
     "text": [
      "the cube of pi to 6 decimal places is 31.006277\n"
     ]
    }
   ],
   "source": [
    "import numpy\n",
    "print (f'the cube of pi to 6 decimal places is {np.pi**3:.6f}') "
   ]
  },
  {
   "cell_type": "code",
   "execution_count": 43,
   "id": "848baef8-c1d3-4514-bc57-e4373bb30feb",
   "metadata": {},
   "outputs": [
    {
     "name": "stdout",
     "output_type": "stream",
     "text": [
      "the cube of pi to 6 decimal place is 31.006277\n"
     ]
    }
   ],
   "source": [
    "import math\n",
    "print (f'the cube of pi to 6 decimal place is {math.pi**3:.6f}') #decimal notation"
   ]
  },
  {
   "cell_type": "code",
   "execution_count": 44,
   "id": "e6200278-c079-4be4-aa4a-0e0824dfb7ce",
   "metadata": {},
   "outputs": [
    {
     "name": "stdout",
     "output_type": "stream",
     "text": [
      "the cube of pi to 6 decimal place is 3.100628e+01\n"
     ]
    }
   ],
   "source": [
    "import math\n",
    "print (f'the cube of pi to 6 decimal place is {math.pi**3:.6e}') #scientific notation"
   ]
  },
  {
   "cell_type": "markdown",
   "id": "e92a94f3-7a59-4a98-97d9-a52ec3a96ca1",
   "metadata": {},
   "source": [
    "f-string formatting has the structure {X:>0Y.ZW}\n",
    "\n",
    "X is a variable, can be numer or string\n",
    "<>^ is aligment\n",
    "0 to pad out spaces\n",
    "Y is the total number of characters\n",
    "Z is number of decimal places\n",
    "W specifies types of variable (float, integer(d), string, guess(?))"
   ]
  },
  {
   "attachments": {},
   "cell_type": "markdown",
   "id": "c337e559",
   "metadata": {},
   "source": [
    "# 6 Escape sequences"
   ]
  },
  {
   "cell_type": "code",
   "execution_count": null,
   "id": "35644d72-5240-48d4-b54b-3c0f8530a7bb",
   "metadata": {},
   "outputs": [],
   "source": [
    "print('A\\nB\\nC') # \\n for new line"
   ]
  },
  {
   "cell_type": "code",
   "execution_count": 51,
   "id": "36b5144d-5b48-4aef-b4d8-d839229c45aa",
   "metadata": {},
   "outputs": [
    {
     "name": "stdout",
     "output_type": "stream",
     "text": [
      "You're twenty years old.\n",
      "You're twenty years old.\n"
     ]
    }
   ],
   "source": [
    "print (\"You're twenty years old.\")\n",
    "print('You\\'re twenty years old.') # difference in the \" and '"
   ]
  },
  {
   "cell_type": "code",
   "execution_count": 52,
   "id": "abf420ba-4289-457d-b705-7b32eec6b1cd",
   "metadata": {},
   "outputs": [
    {
     "name": "stdout",
     "output_type": "stream",
     "text": [
      "A\\B\\C\n"
     ]
    }
   ],
   "source": [
    "print('A\\\\B\\\\C') # \\\\ to for a slash"
   ]
  },
  {
   "cell_type": "code",
   "execution_count": 53,
   "id": "e5e3dbb3-62ad-4ee3-a7d3-564fe5319d00",
   "metadata": {},
   "outputs": [
    {
     "name": "stdout",
     "output_type": "stream",
     "text": [
      "A\tB\tC\n"
     ]
    }
   ],
   "source": [
    "print('A\\tB\\tC') # \\t for tab"
   ]
  },
  {
   "cell_type": "code",
   "execution_count": 54,
   "id": "26ffb1cc-fad5-4554-b22b-e441af24bfe9",
   "metadata": {},
   "outputs": [
    {
     "name": "stdout",
     "output_type": "stream",
     "text": [
      "Line 1\n",
      "\tLine 2\n",
      "\t\tLine 3\n"
     ]
    }
   ],
   "source": [
    "print('Line 1\\n\\tLine 2\\n\\t\\tLine 3') # combi"
   ]
  },
  {
   "attachments": {},
   "cell_type": "markdown",
   "id": "38b31572",
   "metadata": {},
   "source": [
    "## 6.1 Self-documenting f-strings"
   ]
  },
  {
   "cell_type": "code",
   "execution_count": null,
   "id": "e06e0825-39d3-4046-9884-e98826364969",
   "metadata": {},
   "outputs": [],
   "source": [
    "x, y = 42, 24\n",
    "print (f'"
   ]
  },
  {
   "attachments": {},
   "cell_type": "markdown",
   "id": "db13317a",
   "metadata": {},
   "source": [
    "# 7 Computers read = from Right to Left!"
   ]
  },
  {
   "cell_type": "code",
   "execution_count": null,
   "id": "c9291a22-37c5-4311-9829-d4ee7a538dfb",
   "metadata": {},
   "outputs": [],
   "source": []
  },
  {
   "attachments": {},
   "cell_type": "markdown",
   "id": "4e4fab53",
   "metadata": {},
   "source": [
    "# 8 Shorter and Cleaner Code"
   ]
  },
  {
   "cell_type": "code",
   "execution_count": null,
   "id": "819e8036-aa74-448d-b4ee-e78acda3324b",
   "metadata": {},
   "outputs": [],
   "source": []
  },
  {
   "attachments": {},
   "cell_type": "markdown",
   "id": "00fbd7e7",
   "metadata": {},
   "source": [
    "# 9 Python can be a prima-donna."
   ]
  },
  {
   "attachments": {},
   "cell_type": "markdown",
   "id": "475769b9",
   "metadata": {},
   "source": [
    "# 10 Best Practices for Scientific Computing"
   ]
  },
  {
   "attachments": {},
   "cell_type": "markdown",
   "id": "a5d282e1",
   "metadata": {},
   "source": [
    "# 11 Looking for help"
   ]
  },
  {
   "attachments": {},
   "cell_type": "markdown",
   "id": "e6dbd0f4",
   "metadata": {},
   "source": [
    "## References"
   ]
  },
  {
   "attachments": {},
   "cell_type": "markdown",
   "id": "8423ec2e",
   "metadata": {},
   "source": [
    "## Footnotes"
   ]
  }
 ],
 "metadata": {
  "kernelspec": {
   "display_name": "Python 3 (ipykernel)",
   "language": "python",
   "name": "python3"
  },
  "language_info": {
   "codemirror_mode": {
    "name": "ipython",
    "version": 3
   },
   "file_extension": ".py",
   "mimetype": "text/x-python",
   "name": "python",
   "nbconvert_exporter": "python",
   "pygments_lexer": "ipython3",
   "version": "3.13.7"
  },
  "toc": {
   "base_numbering": 1,
   "nav_menu": {},
   "number_sections": true,
   "sideBar": true,
   "skip_h1_title": false,
   "title_cell": "Table of Contents",
   "title_sidebar": "Contents",
   "toc_cell": false,
   "toc_position": {},
   "toc_section_display": true,
   "toc_window_display": false
  },
  "vscode": {
   "interpreter": {
    "hash": "31f2aee4e71d21fbe5cf8b01ff0e069b9275f58929596ceb00d14d90e3e16cd6"
   }
  }
 },
 "nbformat": 4,
 "nbformat_minor": 5
}
