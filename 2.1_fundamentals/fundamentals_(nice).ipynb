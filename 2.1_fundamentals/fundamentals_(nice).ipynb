{
 "cells": [
  {
   "attachments": {},
   "cell_type": "markdown",
   "id": "123456",
   "metadata": {},
   "source": [
    "<div style=\"text-align:left;font-size:2em\"><span style=\"font-weight:bolder;font-size:1.25em\">SP2273 | Learning Portfolio</span><br><br><span style=\"font-weight:bold;color:darkred\">Fundamentals (Nice)</span></div>"
   ]
  },
  {
   "attachments": {},
   "cell_type": "markdown",
   "id": "eab04936",
   "metadata": {},
   "source": [
    "# 1 If if is not enough"
   ]
  },
  {
   "cell_type": "code",
   "execution_count": 6,
   "id": "3470bae7-0d0b-4c31-a99f-bfbe2bcc37af",
   "metadata": {},
   "outputs": [
    {
     "name": "stdout",
     "output_type": "stream",
     "text": [
      "hello world!\n"
     ]
    }
   ],
   "source": [
    "#for when if-elif-else become too annoying\n",
    "name = 'not batman'\n",
    "match name:\n",
    "    case 'Batman':\n",
    "        print('hello hero | batma!')\n",
    "    case 'Robin':\n",
    "        print('hello sidekick | robin!')\n",
    "    case _:\n",
    "        print ('hello world!')\n"
   ]
  },
  {
   "attachments": {},
   "cell_type": "markdown",
   "id": "86564a18",
   "metadata": {},
   "source": [
    "# 2 Ternary operators or Conditional Statements"
   ]
  },
  {
   "cell_type": "code",
   "execution_count": 18,
   "id": "b3ca0f33-ccb1-41e0-90de-b1bde9be04a4",
   "metadata": {},
   "outputs": [
    {
     "name": "stdout",
     "output_type": "stream",
     "text": [
      "你好！\n"
     ]
    }
   ],
   "source": [
    "#the cumbersome way:\n",
    "nationality = 'Chinese'\n",
    "if nationality == 'French':\n",
    "    greeting = \"Bonjour!\"\n",
    "elif nationality == 'Chinese':\n",
    "    greeting = \"你好！\"\n",
    "else:\n",
    "    greeting = 'hello'\n",
    "\n",
    "print (greeting)"
   ]
  },
  {
   "cell_type": "code",
   "execution_count": 24,
   "id": "3775332c-e038-46d6-b524-79aa37bcc77d",
   "metadata": {},
   "outputs": [
    {
     "name": "stdout",
     "output_type": "stream",
     "text": [
      "Bonjour!\n"
     ]
    }
   ],
   "source": [
    "# non cumbersome way:\n",
    "nationality = 'French'\n",
    "greeting = \"Bonjour!\" if nationality == \"French\" else \"hello\"\n",
    "print(greeting)"
   ]
  },
  {
   "cell_type": "code",
   "execution_count": 36,
   "id": "d3d7d437-c8e4-480a-b5cc-28fb426b4239",
   "metadata": {},
   "outputs": [
    {
     "name": "stdout",
     "output_type": "stream",
     "text": [
      "None\n",
      "No message!\n"
     ]
    }
   ],
   "source": [
    "text = None\n",
    "message = text or \"No message!\"\n",
    "print (text)\n",
    "print (message)"
   ]
  },
  {
   "attachments": {},
   "cell_type": "markdown",
   "id": "4675b476",
   "metadata": {},
   "source": [
    "# 3 Swapping values"
   ]
  },
  {
   "cell_type": "code",
   "execution_count": 38,
   "id": "aec51e17-9445-485f-b9eb-7d3bcf54eda9",
   "metadata": {},
   "outputs": [
    {
     "name": "stdout",
     "output_type": "stream",
     "text": [
      "2 1\n"
     ]
    }
   ],
   "source": [
    "a, b = 1, 2\n",
    "a, b = b, a\n",
    "print (a,b)"
   ]
  },
  {
   "attachments": {},
   "cell_type": "markdown",
   "id": "473d1bb8",
   "metadata": {},
   "source": [
    "# 4 There are more types"
   ]
  },
  {
   "cell_type": "code",
   "execution_count": 43,
   "id": "db066af2-7647-4ab2-a4bc-7d139291537a",
   "metadata": {},
   "outputs": [
    {
     "name": "stdout",
     "output_type": "stream",
     "text": [
      "float          : 2.220446049250313e-16\n",
      "float16        : 0.000977\n",
      "float32        : 1.1920929e-07\n",
      "float64        : 2.220446049250313e-16\n"
     ]
    }
   ],
   "source": [
    "import numpy as np\n",
    "my_types = [\n",
    "    float,       # Default for core Python on my machine\n",
    "    np.float16,\n",
    "    np.float32,\n",
    "    np.float64,\n",
    "]\n",
    "\n",
    "for my_type in my_types:\n",
    "    print(f'{my_type.__name__:<15s}:', np.finfo(my_type).eps)"
   ]
  },
  {
   "attachments": {},
   "cell_type": "markdown",
   "id": "483f4871",
   "metadata": {},
   "source": [
    "# 5 Operator precedance"
   ]
  },
  {
   "cell_type": "markdown",
   "id": "bcbfb8e8-6c48-4991-9732-2dc62ddd5a0d",
   "metadata": {},
   "source": [
    "lmao ok"
   ]
  },
  {
   "attachments": {},
   "cell_type": "markdown",
   "id": "75cb605f",
   "metadata": {},
   "source": [
    "# 6 Variables in Python are just names"
   ]
  },
  {
   "attachments": {},
   "cell_type": "markdown",
   "id": "7a0f0571",
   "metadata": {},
   "source": [
    "## 6.1 The Problem"
   ]
  },
  {
   "cell_type": "code",
   "execution_count": 45,
   "id": "9acc321a-0c4f-4e92-98e3-364d0ac7eedd",
   "metadata": {},
   "outputs": [
    {
     "name": "stdout",
     "output_type": "stream",
     "text": [
      "x: [1, 2, 3], y: [1, 2, 3]\n"
     ]
    }
   ],
   "source": [
    "x = [1, 2]\n",
    "y = x\n",
    "y.append(3)\n",
    "\n",
    "print(f\"x: {x}, y: {y}\") #prediction f make it the numbers in {} instead of x and y"
   ]
  },
  {
   "attachments": {},
   "cell_type": "markdown",
   "id": "476397fe",
   "metadata": {},
   "source": [
    "## 6.2 An explanation"
   ]
  },
  {
   "cell_type": "code",
   "execution_count": 48,
   "id": "dcc0428b-44dd-4afb-b3a0-39a72f55b378",
   "metadata": {},
   "outputs": [
    {
     "data": {
      "text/plain": [
       "'CODE 1'"
      ]
     },
     "execution_count": 48,
     "metadata": {},
     "output_type": "execute_result"
    }
   ],
   "source": [
    "'''CODE 1'''"
   ]
  },
  {
   "cell_type": "code",
   "execution_count": 49,
   "id": "d6e67413-f83d-471d-8a07-957eae684ff8",
   "metadata": {},
   "outputs": [
    {
     "name": "stdout",
     "output_type": "stream",
     "text": [
      "x: 4383891456, y: 4383891456, 1: 4383891456\n"
     ]
    }
   ],
   "source": [
    "x = 1\n",
    "y = 1\n",
    "\n",
    "print(f\"x: {id(x)}, y: {id(y)}, 1: {id(1)}\") #due to how variables are just names\n",
    "# the code tells us both x and y have the same ID as 1."
   ]
  },
  {
   "cell_type": "code",
   "execution_count": 50,
   "id": "02f46175-c2c1-4fe9-b5d1-6fd47c1f5d4c",
   "metadata": {},
   "outputs": [
    {
     "data": {
      "text/plain": [
       "'CODE 2'"
      ]
     },
     "execution_count": 50,
     "metadata": {},
     "output_type": "execute_result"
    }
   ],
   "source": [
    "'''CODE 2'''"
   ]
  },
  {
   "cell_type": "code",
   "execution_count": 51,
   "id": "08cc5568-2d65-4f1a-9434-020607a15044",
   "metadata": {},
   "outputs": [
    {
     "name": "stdout",
     "output_type": "stream",
     "text": [
      "x: 4383891456, y: 4383891488\n"
     ]
    }
   ],
   "source": [
    "x = 1\n",
    "y = x + 1\n",
    "\n",
    "print(f\"x: {id(x)}, y: {id(y)}\")"
   ]
  },
  {
   "cell_type": "code",
   "execution_count": 52,
   "id": "990319e3-1ec0-478d-a8b9-0e77d2a2ff7e",
   "metadata": {},
   "outputs": [
    {
     "name": "stdout",
     "output_type": "stream",
     "text": [
      "1: 4383891456, 2: 4383891488\n"
     ]
    }
   ],
   "source": [
    "print(f\"1: {id(1)}, 2: {id(2)}\")"
   ]
  },
  {
   "cell_type": "markdown",
   "id": "821da6d9-8750-443d-a53c-04eeb3c3eca5",
   "metadata": {},
   "source": [
    "- y have the value 2; y now gets bound to object 2. \n",
    "- value of object 1 cannot be changed, so the binding is changed instead.\n",
    "\n",
    "- immutable: objects whose values cannot be changed (eg, 1, str(i.e., letters), float, bool.)\n",
    "\n",
    "- mutable: objects whose values can be changed (eg. lists, dictionaries and classes. These behave differently, as highlighted in the problem above.)"
   ]
  },
  {
   "cell_type": "code",
   "execution_count": null,
   "id": "ae28572c-fc30-4a81-b2b5-0e87343c6573",
   "metadata": {},
   "outputs": [],
   "source": [
    "# x bound to a list object with a value [1 ,2]\n",
    "x = [1, 2]\n",
    "\n",
    "# y bound to the same list \n",
    "y = x\n",
    "\n",
    "# y is used to change the value of the object from  [1, 2] to [1, 2, 3]\n",
    "y.append(3)"
   ]
  },
  {
   "attachments": {},
   "cell_type": "markdown",
   "id": "deba7e50",
   "metadata": {},
   "source": [
    "## 6.3 A solution"
   ]
  },
  {
   "cell_type": "code",
   "execution_count": 56,
   "id": "b3a50bfd-760c-4641-adc9-a1c24ed799e2",
   "metadata": {},
   "outputs": [
    {
     "ename": "AttributeError",
     "evalue": "'int' object has no attribute 'copy'",
     "output_type": "error",
     "traceback": [
      "\u001b[31m---------------------------------------------------------------------------\u001b[39m",
      "\u001b[31mAttributeError\u001b[39m                            Traceback (most recent call last)",
      "\u001b[36mCell\u001b[39m\u001b[36m \u001b[39m\u001b[32mIn[56]\u001b[39m\u001b[32m, line 1\u001b[39m\n\u001b[32m----> \u001b[39m\u001b[32m1\u001b[39m y = \u001b[43mx\u001b[49m\u001b[43m.\u001b[49m\u001b[43mcopy\u001b[49m()\n",
      "\u001b[31mAttributeError\u001b[39m: 'int' object has no attribute 'copy'"
     ]
    }
   ],
   "source": [
    "y = x.copy()"
   ]
  },
  {
   "attachments": {},
   "cell_type": "markdown",
   "id": "62cdd3e1",
   "metadata": {},
   "source": [
    "# 7 == is not the same as is"
   ]
  },
  {
   "cell_type": "markdown",
   "id": "c27e48c3-c136-44ee-87f3-33a89f298b65",
   "metadata": {},
   "source": [
    "\"is\" checks for identity (asks if x and y are bound to the same object by comparing the ID.)\n",
    "\n",
    "\"==\" checks for equality by running a function (such as _eq_ of a class).\n",
    "\n"
   ]
  },
  {
   "attachments": {},
   "cell_type": "markdown",
   "id": "2f2913ad",
   "metadata": {},
   "source": [
    "## Footnotes"
   ]
  }
 ],
 "metadata": {
  "kernelspec": {
   "display_name": "Python 3 (ipykernel)",
   "language": "python",
   "name": "python3"
  },
  "language_info": {
   "codemirror_mode": {
    "name": "ipython",
    "version": 3
   },
   "file_extension": ".py",
   "mimetype": "text/x-python",
   "name": "python",
   "nbconvert_exporter": "python",
   "pygments_lexer": "ipython3",
   "version": "3.13.7"
  },
  "toc": {
   "base_numbering": 1,
   "nav_menu": {},
   "number_sections": true,
   "sideBar": true,
   "skip_h1_title": false,
   "title_cell": "Table of Contents",
   "title_sidebar": "Contents",
   "toc_cell": false,
   "toc_position": {},
   "toc_section_display": true,
   "toc_window_display": false
  },
  "vscode": {
   "interpreter": {
    "hash": "31f2aee4e71d21fbe5cf8b01ff0e069b9275f58929596ceb00d14d90e3e16cd6"
   }
  }
 },
 "nbformat": 4,
 "nbformat_minor": 5
}
