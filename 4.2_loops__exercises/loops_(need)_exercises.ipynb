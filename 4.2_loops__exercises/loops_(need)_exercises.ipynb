{
 "cells": [
  {
   "attachments": {},
   "cell_type": "markdown",
   "id": "123456",
   "metadata": {},
   "source": [
    "<div style=\"text-align:left;font-size:2em\"><span style=\"font-weight:bolder;font-size:1.25em\">SP2273 | Learning Portfolio</span><br><br><span style=\"font-weight:bold;color:darkred\">Loops (Need) Exercises</span></div>"
   ]
  },
  {
   "cell_type": "markdown",
   "id": "62089762-075b-43af-8a0f-69637c5f25c3",
   "metadata": {},
   "source": [
    "# Exercise 1"
   ]
  },
  {
   "cell_type": "code",
   "execution_count": 28,
   "id": "358e5434-b983-40ee-98bb-df512bae1733",
   "metadata": {},
   "outputs": [
    {
     "data": {
      "text/plain": [
       "array([ 32.,  41.,  50.,  59.,  68.,  77.,  86.,  95., 104., 113., 122.])"
      ]
     },
     "execution_count": 28,
     "metadata": {},
     "output_type": "execute_result"
    }
   ],
   "source": [
    "import numpy as np\n",
    "a= temperatures_celsius = np.array([\n",
    "    0, 5, 10, 15, 20, 25,\n",
    "    30, 35, 40, 45, 50])\n",
    "\n",
    "b= temperatures_fahrenheit = (temperatures_celsius * 9/5) + 32\n",
    "\n",
    "b"
   ]
  },
  {
   "cell_type": "code",
   "execution_count": null,
   "id": "8c9dc567-13e4-4334-a9e6-d45acc7456e8",
   "metadata": {},
   "outputs": [],
   "source": []
  },
  {
   "cell_type": "markdown",
   "id": "b9a80427-13a9-4fe6-aff3-cf4597ba7116",
   "metadata": {},
   "source": [
    "# Exercise 2"
   ]
  },
  {
   "cell_type": "code",
   "execution_count": 29,
   "id": "4e02e49d-bec4-4fb7-b4fc-057b725ffb6a",
   "metadata": {},
   "outputs": [
    {
     "name": "stdout",
     "output_type": "stream",
     "text": [
      "A1\tA2\tA3\t\n",
      "\n",
      "B1\tB2\tB3\t\n",
      "\n",
      "C1\tC2\tC3\t\n",
      "\n"
     ]
    }
   ],
   "source": [
    "for letter in ['A', 'B', 'C']:\n",
    "    for number in [1, 2, 3]:\n",
    "        print(f'{letter}{number}', end='\\t')\n",
    "    print('\\n')"
   ]
  },
  {
   "cell_type": "markdown",
   "id": "544b0ec5-1caf-477d-8a6c-751c98d10358",
   "metadata": {},
   "source": [
    "# Exercise 3"
   ]
  },
  {
   "cell_type": "code",
   "execution_count": 48,
   "id": "2562a65a-585d-4b68-a0f5-770dbd8ead2f",
   "metadata": {},
   "outputs": [
    {
     "name": "stdout",
     "output_type": "stream",
     "text": [
      "Experiment   1: No. of heads = 6\n",
      "Experiment   2: No. of heads = 5\n",
      "Experiment   3: No. of heads = 4\n",
      "Experiment   4: No. of heads = 4\n",
      "Experiment   5: No. of heads = 6\n",
      "Experiment   6: No. of heads = 4\n",
      "Experiment   7: No. of heads = 5\n",
      "Experiment   8: No. of heads = 6\n",
      "Experiment   9: No. of heads = 4\n",
      "Experiment   10: No. of heads = 5\n"
     ]
    }
   ],
   "source": [
    "def experiment(number_of_flips):\n",
    "    heads_count = 0\n",
    "    for _ in range(number_of_flips):      # 0 for tails, 1 for heads\n",
    "        if random.randint(0, 1) == 1:\n",
    "            heads_count += 1\n",
    "    return heads_count\n",
    "\n",
    "\n",
    "for i in range(1, 11):  \n",
    "    num_heads = experiment(10) \n",
    "    print(f\"Experiment   {i}: No. of heads = {num_heads}\")"
   ]
  },
  {
   "cell_type": "code",
   "execution_count": null,
   "id": "4d393df1-89c3-44b3-8884-972500250eca",
   "metadata": {},
   "outputs": [],
   "source": []
  },
  {
   "cell_type": "code",
   "execution_count": null,
   "id": "4a12cf86-c49b-45eb-9f59-47ca1533d892",
   "metadata": {},
   "outputs": [],
   "source": []
  }
 ],
 "metadata": {
  "kernelspec": {
   "display_name": "Python 3 (ipykernel)",
   "language": "python",
   "name": "python3"
  },
  "language_info": {
   "codemirror_mode": {
    "name": "ipython",
    "version": 3
   },
   "file_extension": ".py",
   "mimetype": "text/x-python",
   "name": "python",
   "nbconvert_exporter": "python",
   "pygments_lexer": "ipython3",
   "version": "3.13.7"
  },
  "toc": {
   "base_numbering": 1,
   "nav_menu": {},
   "number_sections": true,
   "sideBar": true,
   "skip_h1_title": false,
   "title_cell": "Table of Contents",
   "title_sidebar": "Contents",
   "toc_cell": false,
   "toc_position": {},
   "toc_section_display": true,
   "toc_window_display": false
  },
  "vscode": {
   "interpreter": {
    "hash": "31f2aee4e71d21fbe5cf8b01ff0e069b9275f58929596ceb00d14d90e3e16cd6"
   }
  }
 },
 "nbformat": 4,
 "nbformat_minor": 5
}
