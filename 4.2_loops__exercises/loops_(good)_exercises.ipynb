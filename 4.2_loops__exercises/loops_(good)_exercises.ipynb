{
 "cells": [
  {
   "attachments": {},
   "cell_type": "markdown",
   "id": "123456",
   "metadata": {},
   "source": [
    "<div style=\"text-align:left;font-size:2em\"><span style=\"font-weight:bolder;font-size:1.25em\">SP2273 | Learning Portfolio</span><br><br><span style=\"font-weight:bold;color:darkred\">Loops (Good) Exercises</span></div>"
   ]
  },
  {
   "cell_type": "markdown",
   "id": "dabfb979-31b3-4601-8c52-232736071c42",
   "metadata": {},
   "source": [
    "# Exercise 1"
   ]
  },
  {
   "cell_type": "code",
   "execution_count": 26,
   "id": "ae86cda3-0473-4ee5-97cd-fb24d80c49dd",
   "metadata": {},
   "outputs": [
    {
     "name": "stdout",
     "output_type": "stream",
     "text": [
      "1\n",
      "3\n",
      "5\n",
      "7\n",
      "9\n"
     ]
    }
   ],
   "source": [
    "for number in range(10):\n",
    "\n",
    "    if number % 2 == 0:\n",
    "        continue\n",
    "    print(number)\n"
   ]
  },
  {
   "cell_type": "markdown",
   "id": "ab8749fe-8891-41bb-8731-e5a0b1bbe65b",
   "metadata": {},
   "source": [
    "# Exercise 2"
   ]
  },
  {
   "cell_type": "code",
   "execution_count": 20,
   "id": "b429ac2e-821f-4175-af60-b0cc1fa3fe2d",
   "metadata": {},
   "outputs": [
    {
     "data": {
      "text/plain": [
       "[1, 3, 5, 7, 9]"
      ]
     },
     "execution_count": 20,
     "metadata": {},
     "output_type": "execute_result"
    }
   ],
   "source": [
    "[number for number in range(10) if number % 2 == 1]"
   ]
  },
  {
   "cell_type": "markdown",
   "id": "011384da-5100-46a4-9e40-5b0bd5510a9d",
   "metadata": {},
   "source": [
    "# Exercise 3"
   ]
  },
  {
   "cell_type": "code",
   "execution_count": 44,
   "id": "48aa2e88-daa7-40ec-ba1d-fb0fabbd167c",
   "metadata": {},
   "outputs": [
    {
     "name": "stdout",
     "output_type": "stream",
     "text": [
      "346 ns ± 1.68 ns per loop (mean ± std. dev. of 7 runs, 1,000,000 loops each)\n"
     ]
    }
   ],
   "source": [
    "%%timeit\n",
    "for number in range(10):\n",
    "\n",
    "    if number % 2 == 0:\n",
    "        continue"
   ]
  },
  {
   "cell_type": "code",
   "execution_count": 45,
   "id": "ca8026c6-8025-4ae1-a796-8941d30da48f",
   "metadata": {},
   "outputs": [
    {
     "name": "stdout",
     "output_type": "stream",
     "text": [
      "460 ns ± 2.3 ns per loop (mean ± std. dev. of 7 runs, 1,000,000 loops each)\n"
     ]
    }
   ],
   "source": [
    "%%timeit\n",
    "[number for number in range(10) if number % 2 == 1]"
   ]
  },
  {
   "cell_type": "code",
   "execution_count": null,
   "id": "a1051c41-67e7-4262-b2a5-9ef671da0676",
   "metadata": {},
   "outputs": [],
   "source": [
    "#the first one is faster"
   ]
  },
  {
   "cell_type": "markdown",
   "id": "ac14448a-9047-47c0-9fbf-f62ec9a7662e",
   "metadata": {},
   "source": [
    "# Exercise 4"
   ]
  },
  {
   "cell_type": "code",
   "execution_count": 7,
   "id": "ff9f6282-2ebe-4f00-99d2-9b8ebb9ac03a",
   "metadata": {},
   "outputs": [
    {
     "name": "stdout",
     "output_type": "stream",
     "text": [
      "After 1 years left 95.0 units.\n",
      "After 2 years left 90.25 units.\n",
      "After 3 years left 85.7375 units.\n",
      "After 4 years left 81.45062499999999 units.\n",
      "After 5 years left 77.37809374999999 units.\n",
      "After 6 years left 73.50918906249998 units.\n",
      "After 7 years left 69.83372960937498 units.\n",
      "After 8 years left 66.34204312890623 units.\n",
      "After 9 years left 63.02494097246091 units.\n",
      "After 10 years left 59.87369392383786 units.\n",
      "After 11 years left 56.880009227645964 units.\n",
      "After 12 years left 54.03600876626366 units.\n",
      "After 13 years left 51.33420832795048 units.\n",
      "After 14 years left 48.76749791155295 units.\n",
      " It takes 14 years.\n"
     ]
    }
   ],
   "source": [
    "#goal: determine half life\n",
    "initial_amount = 100\n",
    "target_amount = initial_amount / 2\n",
    "percentage_left_per_year = 0.95\n",
    "time_taken = 0\n",
    "\n",
    "#for year 1\n",
    "years = 1\n",
    "leftover = initial_amount * percentage_left_per_year\n",
    "print(f\"After {years} years left {leftover} units.\")\n",
    "\n",
    "#for corresponding years\n",
    "while leftover > target_amount:\n",
    "    years = years + 1\n",
    "    leftover = leftover * percentage_left_per_year\n",
    "    print(f\"After {years} years left {leftover} units.\")\n",
    "\n",
    "print (f\" It takes {years} years.\")"
   ]
  },
  {
   "cell_type": "markdown",
   "id": "2888acce-1a94-4671-87a3-92bca761bd4a",
   "metadata": {},
   "source": [
    "# Exercise 5"
   ]
  },
  {
   "cell_type": "code",
   "execution_count": 28,
   "id": "76997d40-edee-4d62-bca4-dc6e0176b93d",
   "metadata": {},
   "outputs": [
    {
     "name": "stdout",
     "output_type": "stream",
     "text": [
      "The years are 2015 and 2016 with a difference of 3.410000000000025ppm\n"
     ]
    }
   ],
   "source": [
    "co2_data = [\n",
    "    (2000, 369.55), (2001, 371.14), (2002, 373.28), \n",
    "    (2003, 375.80), (2004, 377.52), (2005, 379.80), \n",
    "    (2006, 381.90), (2007, 383.79), (2008, 385.60), \n",
    "    (2009, 387.43), (2010, 389.90), (2011, 391.65), \n",
    "    (2012, 393.85), (2013, 396.52), (2014, 398.65),\n",
    "    (2015, 400.83), (2016, 404.24), (2017, 406.55), \n",
    "    (2018, 408.52), (2019, 411.44), (2020, 414.24)\n",
    "]\n",
    "\n",
    "\n",
    "for i in range(20):\n",
    "    \n",
    "    # read list to variables\n",
    "    year, co2 = co2_data[i]\n",
    "    #print( year, co2) to check\n",
    "    n_year, n_co2 = co2_data[i+1]\n",
    "    #print( n_year, n_co2)\n",
    "\n",
    "    # check co2\n",
    "    diff = n_co2 - co2\n",
    "    if diff >= 3:\n",
    "        print(f\"The years are {year} and {n_year} with a difference of {diff}ppm\")\n",
    "\n",
    "\n"
   ]
  }
 ],
 "metadata": {
  "kernelspec": {
   "display_name": "Python 3 (ipykernel)",
   "language": "python",
   "name": "python3"
  },
  "language_info": {
   "codemirror_mode": {
    "name": "ipython",
    "version": 3
   },
   "file_extension": ".py",
   "mimetype": "text/x-python",
   "name": "python",
   "nbconvert_exporter": "python",
   "pygments_lexer": "ipython3",
   "version": "3.13.7"
  },
  "toc": {
   "base_numbering": 1,
   "nav_menu": {},
   "number_sections": true,
   "sideBar": true,
   "skip_h1_title": false,
   "title_cell": "Table of Contents",
   "title_sidebar": "Contents",
   "toc_cell": false,
   "toc_position": {},
   "toc_section_display": true,
   "toc_window_display": false
  },
  "vscode": {
   "interpreter": {
    "hash": "31f2aee4e71d21fbe5cf8b01ff0e069b9275f58929596ceb00d14d90e3e16cd6"
   }
  }
 },
 "nbformat": 4,
 "nbformat_minor": 5
}
